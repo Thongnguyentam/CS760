{
 "cells": [
  {
   "cell_type": "code",
   "execution_count": 16,
   "metadata": {},
   "outputs": [],
   "source": [
    "#import libraries\n",
    "import numpy as np \n",
    "import pandas as pd\n",
    "import math \n",
    "import sys\n",
    "import matplotlib.pyplot as plt\n",
    "import random\n",
    "from sklearn.tree import DecisionTreeClassifier\n",
    "from sklearn.model_selection import train_test_split\n",
    "from scipy.interpolate import lagrange"
   ]
  },
  {
   "cell_type": "code",
   "execution_count": 17,
   "metadata": {},
   "outputs": [],
   "source": [
    "def entropy(y):\n",
    "    prob = y.value_counts()/y.shape[0]\n",
    "    entropy = np.sum(-prob*np.log2(prob)) #for prob not to be 0 in log\n",
    "    return entropy"
   ]
  },
  {
   "cell_type": "code",
   "execution_count": 18,
   "metadata": {},
   "outputs": [],
   "source": [
    "def info_gain(y, mask, func = entropy):\n",
    "    a = sum(mask)\n",
    "    b = mask.shape[0] - a\n",
    "    if a == 0 or b == 0:\n",
    "        return 0\n",
    "    else:\n",
    "        return func(y) - (func(y[mask])*a/(a+b) + func(y[-mask])*b/(a+b)) \n"
   ]
  },
  {
   "cell_type": "code",
   "execution_count": 19,
   "metadata": {},
   "outputs": [],
   "source": [
    "def info_gain_ratio(y, mask, func = info_gain):\n",
    "    return func(y, mask)/entropy(mask)"
   ]
  },
  {
   "cell_type": "code",
   "execution_count": 22,
   "metadata": {},
   "outputs": [],
   "source": [
    "def total_info_gain(x, y):\n",
    "    options = x.sort_values().unique()\n",
    "    res = []\n",
    "    for value in options:\n",
    "        mask = x >= value\n",
    "        ig = info_gain_ratio(y, mask)\n",
    "        res.append([value, ig])\n",
    "    return res"
   ]
  },
  {
   "cell_type": "code",
   "execution_count": 23,
   "metadata": {},
   "outputs": [
    {
     "name": "stdout",
     "output_type": "stream",
     "text": [
      "     0         1\n",
      "0  0.0       NaN\n",
      "1  0.1  0.100518\n",
      "    0         1\n",
      "0  -2       NaN\n",
      "1  -1  0.100518\n",
      "2   0  0.055954\n",
      "3   1  0.005780\n",
      "4   2  0.001144\n",
      "5   3  0.016411\n",
      "6   4  0.049749\n",
      "7   5  0.111240\n",
      "8   6  0.236100\n",
      "9   7  0.055954\n",
      "10  8  0.430157\n"
     ]
    },
    {
     "name": "stderr",
     "output_type": "stream",
     "text": [
      "<ipython-input-19-f1da8d25e8b8>:2: RuntimeWarning: invalid value encountered in double_scalars\n",
      "  return func(y, mask)/entropy(mask)\n",
      "<ipython-input-19-f1da8d25e8b8>:2: RuntimeWarning: invalid value encountered in double_scalars\n",
      "  return func(y, mask)/entropy(mask)\n"
     ]
    }
   ],
   "source": [
    "columns_name = ['x1', 'x2', 'y']\n",
    "df = pd.read_csv('data/Druns.txt', names = columns_name, sep = ' ')\n",
    "colname = ['value', 'ig_ratio']\n",
    "df1 = pd.DataFrame(total_info_gain(df[\"x1\"], df[\"y\"]))\n",
    "print(df1)\n",
    "df2 = pd.DataFrame(total_info_gain(df[\"x2\"], df[\"y\"]))\n",
    "print(df2)\n"
   ]
  },
  {
   "cell_type": "code",
   "execution_count": null,
   "metadata": {},
   "outputs": [
    {
     "name": "stdout",
     "output_type": "stream",
     "text": [
      "   x1  x2  y\n",
      "0  10   1  1\n",
      "1  10   2  1\n",
      "2  10   3  1\n",
      "3   1   1  0\n",
      "4   1   3  1\n"
     ]
    }
   ],
   "source": [
    "colname_d3 = ['x1', 'x2', 'y']\n",
    "df_d3 = pd.read_csv('data/D3leaves.txt', names= colname_d3, sep = ' ')\n",
    "print(df_d3)"
   ]
  },
  {
   "cell_type": "code",
   "execution_count": 25,
   "metadata": {},
   "outputs": [],
   "source": [
    "def max_info_gain(x, y, func = entropy):\n",
    "    options = x.sort_values().unique()\n",
    "    res = -1\n",
    "    split_value = -1000\n",
    "    num = 0\n",
    "    for value in options:\n",
    "        mask = x >= value\n",
    "        ig = info_gain_ratio(y, mask)\n",
    "        if ig is not None and ig > res: \n",
    "            res = ig\n",
    "            split_value = value\n",
    "            num = num + 1\n",
    "            #new \n",
    "            entro = entropy(mask)\n",
    "    if num == 0 or res == -1:\n",
    "        return (None, None, None, False)\n",
    "    else: \n",
    "        return(split_value, res, entro, True)"
   ]
  },
  {
   "cell_type": "code",
   "execution_count": 26,
   "metadata": {},
   "outputs": [
    {
     "name": "stderr",
     "output_type": "stream",
     "text": [
      "<ipython-input-19-f1da8d25e8b8>:2: RuntimeWarning: invalid value encountered in double_scalars\n",
      "  return func(y, mask)/entropy(mask)\n",
      "<ipython-input-19-f1da8d25e8b8>:2: RuntimeWarning: invalid value encountered in double_scalars\n",
      "  return func(y, mask)/entropy(mask)\n"
     ]
    },
    {
     "data": {
      "text/html": [
       "<div>\n",
       "<style scoped>\n",
       "    .dataframe tbody tr th:only-of-type {\n",
       "        vertical-align: middle;\n",
       "    }\n",
       "\n",
       "    .dataframe tbody tr th {\n",
       "        vertical-align: top;\n",
       "    }\n",
       "\n",
       "    .dataframe thead th {\n",
       "        text-align: right;\n",
       "    }\n",
       "</style>\n",
       "<table border=\"1\" class=\"dataframe\">\n",
       "  <thead>\n",
       "    <tr style=\"text-align: right;\">\n",
       "      <th></th>\n",
       "      <th>x1</th>\n",
       "      <th>x2</th>\n",
       "    </tr>\n",
       "  </thead>\n",
       "  <tbody>\n",
       "    <tr>\n",
       "      <th>0</th>\n",
       "      <td>0.1</td>\n",
       "      <td>8</td>\n",
       "    </tr>\n",
       "    <tr>\n",
       "      <th>1</th>\n",
       "      <td>0.100518</td>\n",
       "      <td>0.430157</td>\n",
       "    </tr>\n",
       "    <tr>\n",
       "      <th>2</th>\n",
       "      <td>0.439497</td>\n",
       "      <td>0.439497</td>\n",
       "    </tr>\n",
       "    <tr>\n",
       "      <th>3</th>\n",
       "      <td>True</td>\n",
       "      <td>True</td>\n",
       "    </tr>\n",
       "  </tbody>\n",
       "</table>\n",
       "</div>"
      ],
      "text/plain": [
       "         x1        x2\n",
       "0       0.1         8\n",
       "1  0.100518  0.430157\n",
       "2  0.439497  0.439497\n",
       "3      True      True"
      ]
     },
     "execution_count": 26,
     "metadata": {},
     "output_type": "execute_result"
    }
   ],
   "source": [
    "columns_name = ['x1', 'x2', 'y']\n",
    "df = pd.read_csv('data/Druns.txt', names = columns_name, sep = ' ')\n",
    "cu = df.drop('y', axis = 1).apply(max_info_gain, y = df['y'])\n",
    "cu"
   ]
  },
  {
   "cell_type": "code",
   "execution_count": 27,
   "metadata": {},
   "outputs": [],
   "source": [
    "def get_best_split(x, out):\n",
    "    try:\n",
    "        masks = x.drop(out, axis = 1).apply(max_info_gain, y = x[out])\n",
    "        if masks is None or len(masks) == 0 or np.sum(masks.loc[3, :]) == 0:\n",
    "            return (None, None, False, None)\n",
    "        else:\n",
    "            masks = masks.loc[:, masks.loc[3,:]]\n",
    "            masks = masks.apply(pd.to_numeric)\n",
    "            temporary = masks.idxmin(axis = 1)[2] #column name of the lowest entropy\n",
    "            #temporary2 = np.sum(masks.loc[2, :])\n",
    "            #if temporary2 == 0: #box has the lowest entropy\n",
    "            #    return (None, None, False, 0)\n",
    "            if masks[temporary][2]  < 0.001: #new\n",
    "                #return (None, None, False)\n",
    "                check = 1 #there is entropy == 0 #new\n",
    "                masks = masks.loc[:, masks.loc[2, :] == 0] #new, choose columns has entropy = 0 to split\n",
    "            else:\n",
    "                check = 0 #there is no entropy == 0 #new\n",
    "            masks['Max'] = masks.idxmax(axis = 1)\n",
    "            split_vari = masks.loc[1][-1]\n",
    "            split_value = masks[split_vari][0]\n",
    "            split_ig = masks[split_vari][1]\n",
    "        return(split_vari, split_value, split_ig, check)\n",
    "    except KeyError:\n",
    "        return (None, None, False, None)"
   ]
  },
  {
   "cell_type": "code",
   "execution_count": 28,
   "metadata": {},
   "outputs": [
    {
     "name": "stderr",
     "output_type": "stream",
     "text": [
      "<ipython-input-19-f1da8d25e8b8>:2: RuntimeWarning: invalid value encountered in double_scalars\n",
      "  return func(y, mask)/entropy(mask)\n",
      "<ipython-input-19-f1da8d25e8b8>:2: RuntimeWarning: invalid value encountered in double_scalars\n",
      "  return func(y, mask)/entropy(mask)\n"
     ]
    },
    {
     "data": {
      "text/html": [
       "<div>\n",
       "<style scoped>\n",
       "    .dataframe tbody tr th:only-of-type {\n",
       "        vertical-align: middle;\n",
       "    }\n",
       "\n",
       "    .dataframe tbody tr th {\n",
       "        vertical-align: top;\n",
       "    }\n",
       "\n",
       "    .dataframe thead th {\n",
       "        text-align: right;\n",
       "    }\n",
       "</style>\n",
       "<table border=\"1\" class=\"dataframe\">\n",
       "  <thead>\n",
       "    <tr style=\"text-align: right;\">\n",
       "      <th></th>\n",
       "      <th>x1</th>\n",
       "      <th>x2</th>\n",
       "    </tr>\n",
       "  </thead>\n",
       "  <tbody>\n",
       "    <tr>\n",
       "      <th>0</th>\n",
       "      <td>None</td>\n",
       "      <td>2</td>\n",
       "    </tr>\n",
       "    <tr>\n",
       "      <th>1</th>\n",
       "      <td>None</td>\n",
       "      <td>0.0</td>\n",
       "    </tr>\n",
       "    <tr>\n",
       "      <th>2</th>\n",
       "      <td>None</td>\n",
       "      <td>0.591673</td>\n",
       "    </tr>\n",
       "    <tr>\n",
       "      <th>3</th>\n",
       "      <td>False</td>\n",
       "      <td>True</td>\n",
       "    </tr>\n",
       "  </tbody>\n",
       "</table>\n",
       "</div>"
      ],
      "text/plain": [
       "      x1        x2\n",
       "0   None         2\n",
       "1   None       0.0\n",
       "2   None  0.591673\n",
       "3  False      True"
      ]
     },
     "execution_count": 28,
     "metadata": {},
     "output_type": "execute_result"
    }
   ],
   "source": [
    "test = pd.read_csv('data/2.2.txt', names= ['x1', 'x2', 'y'], sep = ' ')\n",
    "masks = test.drop('y', axis = 1).apply(max_info_gain, y = test['y'])\n",
    "masks"
   ]
  },
  {
   "cell_type": "code",
   "execution_count": 29,
   "metadata": {},
   "outputs": [
    {
     "name": "stderr",
     "output_type": "stream",
     "text": [
      "<ipython-input-19-f1da8d25e8b8>:2: RuntimeWarning: invalid value encountered in double_scalars\n",
      "  return func(y, mask)/entropy(mask)\n",
      "<ipython-input-19-f1da8d25e8b8>:2: RuntimeWarning: invalid value encountered in double_scalars\n",
      "  return func(y, mask)/entropy(mask)\n"
     ]
    },
    {
     "data": {
      "text/plain": [
       "('x2', 2.0, 0.0, 0)"
      ]
     },
     "execution_count": 29,
     "metadata": {},
     "output_type": "execute_result"
    }
   ],
   "source": [
    "get_best_split(test, 'y')"
   ]
  },
  {
   "cell_type": "code",
   "execution_count": null,
   "metadata": {},
   "outputs": [],
   "source": [
    "def make_split(vari, value, data):\n",
    "    data1 = data[data[vari] >= value]\n",
    "    data2 = data[data[vari] < value]\n",
    "    return data1, data2"
   ]
  },
  {
   "cell_type": "code",
   "execution_count": null,
   "metadata": {},
   "outputs": [],
   "source": [
    "make_split('x1', 5.0, test)"
   ]
  },
  {
   "cell_type": "code",
   "execution_count": null,
   "metadata": {},
   "outputs": [],
   "source": [
    "def make_pred(data):\n",
    "    return data.value_counts().idxmax()"
   ]
  },
  {
   "cell_type": "code",
   "execution_count": null,
   "metadata": {},
   "outputs": [],
   "source": [
    "def train_tree(data, y, max_depth = None, counter = 0):\n",
    "    var, val, ig, check = get_best_split(data, y)\n",
    "    if max_depth != None and counter >= max_depth:\n",
    "        return make_pred(data[y])\n",
    "    if ig is not None and ig != 0 and len(data) != 0:\n",
    "        counter = counter + 1\n",
    "        left, right = make_split(var, val, data)\n",
    "        split_type = \">=\"\n",
    "        question = \"{} {}  {}\".format(var, split_type, val)\n",
    "        subtree = {question: []}\n",
    "        if check == 1: #new\n",
    "            a = make_pred(left[y]) #new\n",
    "            b = make_pred(right[y]) #new\n",
    "            subtree[question].append(a) #new\n",
    "            subtree[question].append(b) #new\n",
    "            return subtree \n",
    "        yes_ans = train_tree(left, y, max_depth, counter) \n",
    "        no_ans = train_tree(right, y, max_depth, counter)\n",
    "        if yes_ans == no_ans:\n",
    "            subtree = yes_ans #new subtree\n",
    "        else:\n",
    "            subtree[question].append(yes_ans)\n",
    "            subtree[question].append(no_ans)\n",
    "    else:\n",
    "        return make_pred(data[y])\n",
    "    return subtree"
   ]
  },
  {
   "cell_type": "code",
   "execution_count": null,
   "metadata": {},
   "outputs": [],
   "source": [
    "def classi_pred(observaction, side):\n",
    "    quest_key = next(iter(side.keys())) #get the first key, or the first question\n",
    "    vari = quest_key.split()[0] #choose what variables to compare\n",
    "    if isinstance(observaction, pd.Series):\n",
    "        if observaction[vari] >= float(quest_key.split()[2]):\n",
    "            answer = side[quest_key][0]\n",
    "        else:\n",
    "            answer = side[quest_key][1]\n",
    "    if isinstance(observaction, list):\n",
    "        if vari == 'x1':\n",
    "            index = 0\n",
    "        else:\n",
    "            index = 1\n",
    "        if observaction[index] >= float(quest_key.split()[2]):\n",
    "            answer = side[quest_key][0]\n",
    "        else:\n",
    "            answer = side[quest_key][1]\n",
    "    #base case: if the answer is not a dict\n",
    "    if not isinstance(answer, dict):\n",
    "        return answer\n",
    "    else:\n",
    "        return classi_pred(observaction, answer) #go to the side of condition"
   ]
  },
  {
   "cell_type": "code",
   "execution_count": null,
   "metadata": {},
   "outputs": [],
   "source": [
    "d3_tree = train_tree(df_d3, 'y')"
   ]
  },
  {
   "cell_type": "code",
   "execution_count": null,
   "metadata": {},
   "outputs": [],
   "source": [
    "d3_tree"
   ]
  },
  {
   "cell_type": "code",
   "execution_count": null,
   "metadata": {},
   "outputs": [],
   "source": [
    "df_d1 = pd.read_csv('data/D1.txt', names = colname_d3, sep = \" \")\n",
    "d1_tree = train_tree(df_d1,'y')\n",
    "d1_tree"
   ]
  },
  {
   "cell_type": "code",
   "execution_count": null,
   "metadata": {},
   "outputs": [],
   "source": [
    "df_d2 = pd.read_csv('data/D2.txt', names = colname_d3, sep = \" \")\n",
    "question_d2 = train_tree(df_d2,'y')"
   ]
  },
  {
   "cell_type": "code",
   "execution_count": null,
   "metadata": {},
   "outputs": [],
   "source": [
    "question_d2"
   ]
  },
  {
   "cell_type": "code",
   "execution_count": null,
   "metadata": {},
   "outputs": [],
   "source": [
    "pred_d2 = []\n",
    "for i in range(df_d2.shape[0]):\n",
    "    data_pred = classi_pred(df_d2.iloc[i,:], question_d2)\n",
    "    pred_d2.append(data_pred)\n",
    "actual_d2 = df_d2.y.tolist()\n",
    "truth_d2= np.subtract(actual_d2, pred_d2)\n",
    "accuracy = 1 - np.count_nonzero(truth_d2)/len(truth_d2)\n",
    "accuracy"
   ]
  },
  {
   "cell_type": "code",
   "execution_count": null,
   "metadata": {},
   "outputs": [],
   "source": [
    "next(iter(question_d2.keys()))"
   ]
  },
  {
   "cell_type": "code",
   "execution_count": null,
   "metadata": {},
   "outputs": [],
   "source": [
    "fig, ax = plt.subplots()\n",
    "\n",
    "for label in [0,1]:\n",
    "    #filters this sequence of indices by keeping only those where df_d1['y'][i] is equal to label, go first with label 0\n",
    "    row_ix = [i for i in range(len(df_d1['y'])) if df_d1['y'][i] == label] \n",
    "    plt.scatter([df_d1['x1'][i] for i in row_ix], [df_d1['x2'][i] for i in row_ix], c= ['red' if label == 0 else 'blue'])\n",
    "\n",
    "ax.set_xlabel('x1')\n",
    "ax.set_ylabel('x2')\n",
    "ax.hlines(y= 0.201829, xmin = 0, xmax = 1, linestyles= '--', colors= 'black')\n",
    "plt.show()"
   ]
  },
  {
   "cell_type": "code",
   "execution_count": null,
   "metadata": {},
   "outputs": [],
   "source": [
    "fig, ax = plt.subplots()\n",
    "\n",
    "for label in [0,1]:\n",
    "    #filters this sequence of indices by keeping only those where df_d1['y'][i] is equal to label, go first with label 0\n",
    "    row_ix = [i for i in range(len(df_d1['y'])) if df_d1['y'][i] == label] \n",
    "    plt.scatter([df_d1['x1'][i] for i in row_ix], [df_d1['x2'][i] for i in row_ix], c= ['red' if label == 0 else 'blue'])\n",
    "\n",
    "x1 = np.linspace(0, 1, 3000)\n",
    "x2 = np.linspace(0, 1, 3000)\n",
    "#takes two 1-D arrays as inputs and\n",
    "# returns two 2-D arrays representing all possible combinations of their elements.\n",
    "x1_grid1, x2_grid1 = np.meshgrid(x1, x2)\n",
    "z = np.zeros_like(x1_grid1)\n",
    "for i in range(x1_grid1.shape[0]):\n",
    "    for j in range(x1_grid1.shape[1]):\n",
    "        z[i, j] = classi_pred([float(x1_grid1[i, j]), float(x2_grid1[i, j])], d1_tree)\n",
    "plt.contourf(x1_grid1, x2_grid1, z, cmap='RdBu', alpha=0.5)\n",
    "ax.set_xlabel('x1')\n",
    "ax.set_ylabel('x2')\n",
    "ax.hlines(y= 0.201829, xmin = 0, xmax = 1, linestyles= '--', colors= 'black')\n",
    "plt.show()"
   ]
  },
  {
   "cell_type": "code",
   "execution_count": null,
   "metadata": {},
   "outputs": [],
   "source": [
    "fig, ax = plt.subplots()\n",
    "\n",
    "for label in [0,1]:\n",
    "    row_ind = [i for i in range (len(df_d2['y'])) if df_d2['y'][i] == label]\n",
    "    plt.scatter([df_d2['x1'][row_ind]], [df_d2['x2'][row_ind]], c = 'red' if label == 0 else 'blue')\n",
    "ax.set_xlabel('x1')\n",
    "ax.set_ylabel('x2')\n",
    "plt.show()"
   ]
  },
  {
   "cell_type": "code",
   "execution_count": null,
   "metadata": {},
   "outputs": [
    {
     "ename": "KeyboardInterrupt",
     "evalue": "",
     "output_type": "error",
     "traceback": [
      "\u001b[1;31m---------------------------------------------------------------------------\u001b[0m",
      "\u001b[1;31mKeyboardInterrupt\u001b[0m                         Traceback (most recent call last)",
      "\u001b[1;32m<ipython-input-28-6ea2a5abb470>\u001b[0m in \u001b[0;36m<module>\u001b[1;34m\u001b[0m\n\u001b[0;32m     13\u001b[0m \u001b[1;32mfor\u001b[0m \u001b[0mi\u001b[0m \u001b[1;32min\u001b[0m \u001b[0mrange\u001b[0m\u001b[1;33m(\u001b[0m\u001b[0mx1_grid1\u001b[0m\u001b[1;33m.\u001b[0m\u001b[0mshape\u001b[0m\u001b[1;33m[\u001b[0m\u001b[1;36m0\u001b[0m\u001b[1;33m]\u001b[0m\u001b[1;33m)\u001b[0m\u001b[1;33m:\u001b[0m\u001b[1;33m\u001b[0m\u001b[1;33m\u001b[0m\u001b[0m\n\u001b[0;32m     14\u001b[0m     \u001b[1;32mfor\u001b[0m \u001b[0mj\u001b[0m \u001b[1;32min\u001b[0m \u001b[0mrange\u001b[0m\u001b[1;33m(\u001b[0m\u001b[0mx1_grid1\u001b[0m\u001b[1;33m.\u001b[0m\u001b[0mshape\u001b[0m\u001b[1;33m[\u001b[0m\u001b[1;36m1\u001b[0m\u001b[1;33m]\u001b[0m\u001b[1;33m)\u001b[0m\u001b[1;33m:\u001b[0m\u001b[1;33m\u001b[0m\u001b[1;33m\u001b[0m\u001b[0m\n\u001b[1;32m---> 15\u001b[1;33m         \u001b[0mz\u001b[0m\u001b[1;33m[\u001b[0m\u001b[0mi\u001b[0m\u001b[1;33m,\u001b[0m \u001b[0mj\u001b[0m\u001b[1;33m]\u001b[0m \u001b[1;33m=\u001b[0m \u001b[0mclassi_pred\u001b[0m\u001b[1;33m(\u001b[0m\u001b[1;33m[\u001b[0m\u001b[0mfloat\u001b[0m\u001b[1;33m(\u001b[0m\u001b[0mx1_grid1\u001b[0m\u001b[1;33m[\u001b[0m\u001b[0mi\u001b[0m\u001b[1;33m,\u001b[0m \u001b[0mj\u001b[0m\u001b[1;33m]\u001b[0m\u001b[1;33m)\u001b[0m\u001b[1;33m,\u001b[0m \u001b[0mfloat\u001b[0m\u001b[1;33m(\u001b[0m\u001b[0mx2_grid1\u001b[0m\u001b[1;33m[\u001b[0m\u001b[0mi\u001b[0m\u001b[1;33m,\u001b[0m \u001b[0mj\u001b[0m\u001b[1;33m]\u001b[0m\u001b[1;33m)\u001b[0m\u001b[1;33m]\u001b[0m\u001b[1;33m,\u001b[0m \u001b[0mquestion_d2\u001b[0m\u001b[1;33m)\u001b[0m\u001b[1;33m\u001b[0m\u001b[1;33m\u001b[0m\u001b[0m\n\u001b[0m\u001b[0;32m     16\u001b[0m \u001b[0mplt\u001b[0m\u001b[1;33m.\u001b[0m\u001b[0mcontourf\u001b[0m\u001b[1;33m(\u001b[0m\u001b[0mx1_grid1\u001b[0m\u001b[1;33m,\u001b[0m \u001b[0mx2_grid1\u001b[0m\u001b[1;33m,\u001b[0m \u001b[0mz\u001b[0m\u001b[1;33m,\u001b[0m \u001b[0mcmap\u001b[0m\u001b[1;33m=\u001b[0m\u001b[1;34m'RdBu'\u001b[0m\u001b[1;33m,\u001b[0m \u001b[0malpha\u001b[0m\u001b[1;33m=\u001b[0m\u001b[1;36m0.5\u001b[0m\u001b[1;33m)\u001b[0m\u001b[1;33m\u001b[0m\u001b[1;33m\u001b[0m\u001b[0m\n\u001b[0;32m     17\u001b[0m \u001b[0max\u001b[0m\u001b[1;33m.\u001b[0m\u001b[0mset_xlabel\u001b[0m\u001b[1;33m(\u001b[0m\u001b[1;34m'x1'\u001b[0m\u001b[1;33m)\u001b[0m\u001b[1;33m\u001b[0m\u001b[1;33m\u001b[0m\u001b[0m\n",
      "\u001b[1;32m<ipython-input-17-7be790c11433>\u001b[0m in \u001b[0;36mclassi_pred\u001b[1;34m(observaction, side)\u001b[0m\n\u001b[0;32m     20\u001b[0m         \u001b[1;32mreturn\u001b[0m \u001b[0manswer\u001b[0m\u001b[1;33m\u001b[0m\u001b[1;33m\u001b[0m\u001b[0m\n\u001b[0;32m     21\u001b[0m     \u001b[1;32melse\u001b[0m\u001b[1;33m:\u001b[0m\u001b[1;33m\u001b[0m\u001b[1;33m\u001b[0m\u001b[0m\n\u001b[1;32m---> 22\u001b[1;33m         \u001b[1;32mreturn\u001b[0m \u001b[0mclassi_pred\u001b[0m\u001b[1;33m(\u001b[0m\u001b[0mobservaction\u001b[0m\u001b[1;33m,\u001b[0m \u001b[0manswer\u001b[0m\u001b[1;33m)\u001b[0m \u001b[1;31m#go to the side of condition\u001b[0m\u001b[1;33m\u001b[0m\u001b[1;33m\u001b[0m\u001b[0m\n\u001b[0m",
      "\u001b[1;32m<ipython-input-17-7be790c11433>\u001b[0m in \u001b[0;36mclassi_pred\u001b[1;34m(observaction, side)\u001b[0m\n\u001b[0;32m     20\u001b[0m         \u001b[1;32mreturn\u001b[0m \u001b[0manswer\u001b[0m\u001b[1;33m\u001b[0m\u001b[1;33m\u001b[0m\u001b[0m\n\u001b[0;32m     21\u001b[0m     \u001b[1;32melse\u001b[0m\u001b[1;33m:\u001b[0m\u001b[1;33m\u001b[0m\u001b[1;33m\u001b[0m\u001b[0m\n\u001b[1;32m---> 22\u001b[1;33m         \u001b[1;32mreturn\u001b[0m \u001b[0mclassi_pred\u001b[0m\u001b[1;33m(\u001b[0m\u001b[0mobservaction\u001b[0m\u001b[1;33m,\u001b[0m \u001b[0manswer\u001b[0m\u001b[1;33m)\u001b[0m \u001b[1;31m#go to the side of condition\u001b[0m\u001b[1;33m\u001b[0m\u001b[1;33m\u001b[0m\u001b[0m\n\u001b[0m",
      "\u001b[1;32m<ipython-input-17-7be790c11433>\u001b[0m in \u001b[0;36mclassi_pred\u001b[1;34m(observaction, side)\u001b[0m\n\u001b[0;32m      7\u001b[0m         \u001b[1;32melse\u001b[0m\u001b[1;33m:\u001b[0m\u001b[1;33m\u001b[0m\u001b[1;33m\u001b[0m\u001b[0m\n\u001b[0;32m      8\u001b[0m             \u001b[0manswer\u001b[0m \u001b[1;33m=\u001b[0m \u001b[0mside\u001b[0m\u001b[1;33m[\u001b[0m\u001b[0mquest_key\u001b[0m\u001b[1;33m]\u001b[0m\u001b[1;33m[\u001b[0m\u001b[1;36m1\u001b[0m\u001b[1;33m]\u001b[0m\u001b[1;33m\u001b[0m\u001b[1;33m\u001b[0m\u001b[0m\n\u001b[1;32m----> 9\u001b[1;33m     \u001b[1;32mif\u001b[0m \u001b[0misinstance\u001b[0m\u001b[1;33m(\u001b[0m\u001b[0mobservaction\u001b[0m\u001b[1;33m,\u001b[0m \u001b[0mlist\u001b[0m\u001b[1;33m)\u001b[0m\u001b[1;33m:\u001b[0m\u001b[1;33m\u001b[0m\u001b[1;33m\u001b[0m\u001b[0m\n\u001b[0m\u001b[0;32m     10\u001b[0m         \u001b[1;32mif\u001b[0m \u001b[0mvari\u001b[0m \u001b[1;33m==\u001b[0m \u001b[1;34m'x1'\u001b[0m\u001b[1;33m:\u001b[0m\u001b[1;33m\u001b[0m\u001b[1;33m\u001b[0m\u001b[0m\n\u001b[0;32m     11\u001b[0m             \u001b[0mindex\u001b[0m \u001b[1;33m=\u001b[0m \u001b[1;36m0\u001b[0m\u001b[1;33m\u001b[0m\u001b[1;33m\u001b[0m\u001b[0m\n",
      "\u001b[1;31mKeyboardInterrupt\u001b[0m: "
     ]
    },
    {
     "data": {
      "image/png": "[encoded data removed]",
      "text/plain": [
       "<Figure size 432x288 with 1 Axes>"
      ]
     },
     "metadata": {
      "needs_background": "light"
     },
     "output_type": "display_data"
    }
   ],
   "source": [
    "fig, ax = plt.subplots()\n",
    "\n",
    "for label in [0,1]:\n",
    "    row_ind = [i for i in range (len(df_d2['y'])) if df_d2['y'][i] == label]\n",
    "    plt.scatter([df_d2['x1'][row_ind]], [df_d2['x2'][row_ind]], c = 'red' if label == 0 else 'blue')\n",
    "    \n",
    "x1 = np.linspace(0, 1, 3000)\n",
    "x2 = np.linspace(0, 1, 3000)\n",
    "#takes two 1-D arrays as inputs and\n",
    "# returns two 2-D arrays representing all possible combinations of their elements.\n",
    "x1_grid1, x2_grid1 = np.meshgrid(x1, x2)\n",
    "z = np.zeros_like(x1_grid1)\n",
    "for i in range(x1_grid1.shape[0]):\n",
    "    for j in range(x1_grid1.shape[1]):\n",
    "        z[i, j] = classi_pred([float(x1_grid1[i, j]), float(x2_grid1[i, j])], question_d2)\n",
    "plt.contourf(x1_grid1, x2_grid1, z, cmap='RdBu', alpha=0.5)\n",
    "ax.set_xlabel('x1')\n",
    "ax.set_ylabel('x2')\n",
    "plt.show()"
   ]
  },
  {
   "cell_type": "code",
   "execution_count": null,
   "metadata": {},
   "outputs": [],
   "source": [
    "dbig = pd.read_csv('data/Dbig.txt', sep= \" \", names= colname_d3)\n",
    "\n",
    "np.random.seed(0)\n",
    "ind_list = np.random.permutation(10000) #list of 10000 numbers in random numbers\n",
    "\n",
    "training_ind = ind_list[:8192]\n",
    "test_ind = ind_list[8192:]\n",
    "train_set = dbig.loc[training_ind]\n",
    "test_set = dbig.loc[test_ind]\n"
   ]
  },
  {
   "cell_type": "code",
   "execution_count": null,
   "metadata": {},
   "outputs": [],
   "source": [
    "tree_8192 = train_tree(train_set, 'y')\n",
    "train_set = train_set.reset_index()"
   ]
  },
  {
   "cell_type": "code",
   "execution_count": null,
   "metadata": {},
   "outputs": [],
   "source": [
    "x1 = np.linspace(-1.5, 1.5, 3000)\n",
    "x2 = np.linspace(-1.5, 1.5, 3000)\n",
    "x1_grid, x2_grid = np.meshgrid(x1, x2)\n",
    "\n",
    "for label in [0,1]:\n",
    "    row_ind = [i for i in range (len(train_set['y'])) if train_set['y'][i] == label]\n",
    "    plt.scatter([train_set['x1'][row_ind]], [train_set['x2'][row_ind]], c = 'red' if label == 0 else 'blue')\n",
    "    "
   ]
  },
  {
   "cell_type": "code",
   "execution_count": null,
   "metadata": {},
   "outputs": [],
   "source": [
    "x1 = np.linspace(-1.5, 1.5, 3000)\n",
    "x2 = np.linspace(-1.5, 1.5, 3000)\n",
    "x1_grid, x2_grid = np.meshgrid(x1, x2)    \n",
    "\n",
    "# Evaluate the decision tree on each point in the meshgrid\n",
    "z = np.zeros_like(x1_grid)\n",
    "for i in range(x1_grid.shape[0]):\n",
    "    for j in range(x1_grid.shape[1]):\n",
    "         z[i, j] = classi_pred([float(x1_grid1[i, j]), float(x2_grid1[i, j])], tree_8192)\n",
    "\n",
    "for label in [0,1]:\n",
    "    row_ind = [i for i in range (len(train_set['y'])) if train_set['y'][i] == label]\n",
    "    plt.scatter([train_set['x1'][row_ind]], [train_set['x2'][row_ind]], c = 'red' if label == 0 else 'blue')\n",
    "\n",
    "# Plot the decision boundary\n",
    "plt.contourf(x1_grid, x2_grid, z, cmap='RdBu', alpha=0.5)\n",
    "plt.xlabel('x1')\n",
    "plt.ylabel('x2')\n",
    "plt.title('Decision boundary of training set D8092')\n",
    "plt.show()"
   ]
  },
  {
   "cell_type": "code",
   "execution_count": null,
   "metadata": {},
   "outputs": [],
   "source": [
    "training_ind_32 = ind_list[:32]\n",
    "test_ind_32 = ind_list[32:]\n",
    "train_set32 = dbig.loc[training_ind_32]\n",
    "test_set32 = dbig.loc[test_ind_32]\n",
    "tree_32 = train_tree(train_set32, 'y')\n"
   ]
  },
  {
   "cell_type": "code",
   "execution_count": null,
   "metadata": {},
   "outputs": [],
   "source": [
    "train_set32 = train_set32.reset_index()"
   ]
  },
  {
   "cell_type": "code",
   "execution_count": null,
   "metadata": {},
   "outputs": [],
   "source": [
    "fig, ax = plt.subplots()\n",
    "\n",
    "for label in [0,1]:\n",
    "    row_ind = [i for i in range (len(train_set32['y'])) if train_set32['y'][i] == label]\n",
    "    plt.scatter([train_set32['x1'][row_ind]], [train_set32['x2'][row_ind]], c = 'red' if label == 0 else 'blue')\n",
    "     \n",
    "x1 = np.linspace(-1.5, 1.5, 3000)\n",
    "x2 = np.linspace(-1.5, 1.5, 3000)\n",
    "#takes two 1-D arrays as inputs and\n",
    "# returns two 2-D arrays representing all possible combinations of their elements.\n",
    "x1_grid1, x2_grid1 = np.meshgrid(x1, x2)\n",
    "z = np.zeros_like(x1_grid1)\n",
    "for i in range(x1_grid1.shape[0]):\n",
    "    for j in range(x1_grid1.shape[1]):\n",
    "        z[i, j] = classi_pred([float(x1_grid1[i, j]), float(x2_grid1[i, j])], tree_32)\n",
    "plt.contourf(x1_grid1, x2_grid1, z, cmap='RdBu', alpha=0.5)\n",
    "ax.set_xlabel('x1')\n",
    "ax.set_ylabel('x2')\n",
    "plt.show()"
   ]
  },
  {
   "cell_type": "code",
   "execution_count": null,
   "metadata": {},
   "outputs": [],
   "source": [
    "training_ind_128 = ind_list[:128]\n",
    "test_ind_128 = ind_list[128:]\n",
    "train_set128 = dbig.loc[training_ind_128]\n",
    "test_set128 = dbig.loc[test_ind_128]\n",
    "tree_128 = train_tree(train_set128, 'y')\n",
    "train_set128 = train_set128.reset_index()"
   ]
  },
  {
   "cell_type": "code",
   "execution_count": null,
   "metadata": {},
   "outputs": [],
   "source": [
    "x1 = np.linspace(-1.5, 1.5, 3000)\n",
    "x2 = np.linspace(-1.5, 1.5, 3000)\n",
    "x1_grid, x2_grid = np.meshgrid(x1, x2)\n",
    "for label in [0,1]:\n",
    "    row_ind = [i for i in range (len(train_set128['y'])) if train_set128['y'][i] == label]\n",
    "    plt.scatter([train_set128['x1'][row_ind]], [train_set128['x2'][row_ind]], c = 'red' if label == 0 else 'blue')\n",
    "    \n",
    "# Evaluate the decision tree on each point in the meshgrid\n",
    "z = np.zeros_like(x1_grid)\n",
    "for i in range(x1_grid.shape[0]):\n",
    "    for j in range(x1_grid.shape[1]):\n",
    "         z[i, j] = classi_pred([float(x1_grid1[i, j]), float(x2_grid1[i, j])], tree_128)\n",
    "\n",
    "# Plot the decision boundary\n",
    "plt.contourf(x1_grid, x2_grid, z, cmap='RdBu', alpha=0.5)\n",
    "plt.xlabel('x1')\n",
    "plt.ylabel('x2')\n",
    "plt.title('Decision boundary of training set D128')\n",
    "plt.show()"
   ]
  },
  {
   "cell_type": "code",
   "execution_count": null,
   "metadata": {},
   "outputs": [],
   "source": [
    "training_ind_512 = ind_list[:512]\n",
    "test_ind_512 = ind_list[512:]\n",
    "train_set512 = dbig.loc[training_ind_512]\n",
    "test_set512 = dbig.loc[test_ind_512]\n",
    "tree_512 = train_tree(train_set512, 'y')\n",
    "train_set512 = train_set512.reset_index()"
   ]
  },
  {
   "cell_type": "code",
   "execution_count": null,
   "metadata": {},
   "outputs": [],
   "source": [
    "x1 = np.linspace(-1.5, 1.5, 3000)\n",
    "x2 = np.linspace(-1.5, 1.5, 3000)\n",
    "x1_grid, x2_grid = np.meshgrid(x1, x2)\n",
    "for label in [0,1]:\n",
    "    row_ind = [i for i in range (len(train_set512['y'])) if train_set512['y'][i] == label]\n",
    "    plt.scatter([train_set512['x1'][row_ind]], [train_set512['x2'][row_ind]], c = 'red' if label == 0 else 'blue')\n",
    "    \n",
    "# Evaluate the decision tree on each point in the meshgrid\n",
    "z = np.zeros_like(x1_grid)\n",
    "for i in range(x1_grid.shape[0]):\n",
    "    for j in range(x1_grid.shape[1]):\n",
    "         z[i, j] = classi_pred([float(x1_grid1[i, j]), float(x2_grid1[i, j])], tree_512)\n",
    "\n",
    "# Plot the decision boundary\n",
    "plt.contourf(x1_grid, x2_grid, z, cmap='RdBu', alpha=0.5)\n",
    "plt.xlabel('x1')\n",
    "plt.ylabel('x2')\n",
    "plt.title('Decision boundary of training set D512')\n",
    "plt.show()"
   ]
  },
  {
   "cell_type": "code",
   "execution_count": null,
   "metadata": {},
   "outputs": [],
   "source": [
    "training_ind_2048 = ind_list[:2048]\n",
    "test_ind_2048 = ind_list[2048:]\n",
    "train_set2048 = dbig.loc[training_ind_2048]\n",
    "test_set2048 = dbig.loc[test_ind_2048]\n",
    "tree_2048 = train_tree(train_set2048, 'y')\n",
    "train_set2048 = train_set2048.reset_index()"
   ]
  },
  {
   "cell_type": "code",
   "execution_count": null,
   "metadata": {},
   "outputs": [],
   "source": [
    "x1 = np.linspace(-1.5, 1.5, 3000)\n",
    "x2 = np.linspace(-1.5, 1.5, 3000)\n",
    "x1_grid, x2_grid = np.meshgrid(x1, x2)\n",
    "for label in [0,1]:\n",
    "    row_ind = [i for i in range (len(train_set2048['y'])) if train_set2048['y'][i] == label]\n",
    "    plt.scatter([train_set2048['x1'][row_ind]], [train_set2048['x2'][row_ind]], c = 'red' if label == 0 else 'blue')\n",
    "    \n",
    "# Evaluate the decision tree on each point in the meshgrid\n",
    "z = np.zeros_like(x1_grid)\n",
    "for i in range(x1_grid.shape[0]):\n",
    "    for j in range(x1_grid.shape[1]):\n",
    "         z[i, j] = classi_pred([float(x1_grid1[i, j]), float(x2_grid1[i, j])], tree_2048)\n",
    "\n",
    "# Plot the decision boundary\n",
    "plt.contourf(x1_grid, x2_grid, z, cmap='RdBu', alpha=0.5)\n",
    "plt.xlabel('x1')\n",
    "plt.ylabel('x2')\n",
    "plt.title('Decision boundary of training set D2048')\n",
    "plt.show()"
   ]
  },
  {
   "cell_type": "code",
   "execution_count": null,
   "metadata": {},
   "outputs": [],
   "source": [
    "test_set32 = test_set32.reset_index()\n",
    "test_set128 = test_set128.reset_index()\n",
    "test_set512 = test_set512.reset_index()\n",
    "test_set2048 = test_set2048.reset_index()"
   ]
  },
  {
   "cell_type": "code",
   "execution_count": null,
   "metadata": {},
   "outputs": [],
   "source": [
    "test_set = test_set.reset_index()"
   ]
  },
  {
   "cell_type": "code",
   "execution_count": null,
   "metadata": {},
   "outputs": [],
   "source": [
    "err = []"
   ]
  },
  {
   "cell_type": "code",
   "execution_count": null,
   "metadata": {},
   "outputs": [],
   "source": [
    "pred_d32 = []\n",
    "for i in range(test_set32.shape[0]):\n",
    "    data_pred = classi_pred(test_set32.iloc[i,:], tree_32)\n",
    "    pred_d32.append(data_pred)\n",
    "actual_d32 = test_set32.y.tolist()\n",
    "truth_d32= np.subtract(actual_d32, pred_d32)\n",
    "accuracy_32 = np.count_nonzero(truth_d32)/len(truth_d32)\n",
    "err.append([accuracy_32, 6])\n",
    "accuracy_32"
   ]
  },
  {
   "cell_type": "code",
   "execution_count": null,
   "metadata": {},
   "outputs": [],
   "source": [
    "pred_d128 = []\n",
    "for i in range(test_set128.shape[0]):\n",
    "    data_pred = classi_pred(test_set128.iloc[i,:], tree_128)\n",
    "    pred_d128.append(data_pred)\n",
    "actual_d128 = test_set128.y.tolist()\n",
    "truth_d128= np.subtract(actual_d128, pred_d128)\n",
    "accuracy_128 = np.count_nonzero(truth_d128)/len(truth_d128)\n",
    "err.append([accuracy_128, 9])\n",
    "accuracy_128"
   ]
  },
  {
   "cell_type": "code",
   "execution_count": null,
   "metadata": {},
   "outputs": [],
   "source": [
    "pred_d512 = []\n",
    "for i in range(test_set512.shape[0]):\n",
    "    data_pred = classi_pred(test_set512.iloc[i,:], tree_512)\n",
    "    pred_d512.append(data_pred)\n",
    "actual_d512 = test_set512.y.tolist()\n",
    "truth_d512= np.subtract(actual_d512, pred_d512)\n",
    "accuracy_d512 = np.count_nonzero(truth_d512)/len(truth_d512)\n",
    "err.append([accuracy_d512, 28])\n",
    "accuracy_d512"
   ]
  },
  {
   "cell_type": "code",
   "execution_count": null,
   "metadata": {},
   "outputs": [],
   "source": [
    "pred_d2048 = []\n",
    "for i in range(test_set2048.shape[0]):\n",
    "    data_pred = classi_pred(test_set2048.iloc[i,:], tree_2048)\n",
    "    pred_d2048.append(data_pred)\n",
    "actual_d2048 = test_set2048.y.tolist()\n",
    "truth_d2048= np.subtract(actual_d2048, pred_d2048)\n",
    "accuracy_d2048 = np.count_nonzero(truth_d2048)/len(truth_d2048)\n",
    "err.append([accuracy_d2048, 59])\n",
    "accuracy_d2048"
   ]
  },
  {
   "cell_type": "code",
   "execution_count": null,
   "metadata": {},
   "outputs": [],
   "source": [
    "pred = []\n",
    "for i in range(test_set.shape[0]):\n",
    "    data_pred = classi_pred(test_set.iloc[i,:], tree_8192)\n",
    "    pred.append(data_pred)\n",
    "actual = test_set.y.tolist()\n",
    "truth= np.subtract(actual, pred)\n",
    "accuracy = np.count_nonzero(truth)/len(truth)\n",
    "err.append([accuracy, 136])\n",
    "accuracy"
   ]
  },
  {
   "cell_type": "code",
   "execution_count": null,
   "metadata": {},
   "outputs": [],
   "source": [
    "err"
   ]
  },
  {
   "cell_type": "code",
   "execution_count": null,
   "metadata": {},
   "outputs": [],
   "source": [
    "pd.DataFrame(err, columns= ['error','n']).plot.line(x = 'n', y = 'error', xlabel = 'number of node', ylabel = 'test set error')"
   ]
  },
  {
   "attachments": {},
   "cell_type": "markdown",
   "metadata": {},
   "source": [
    "Sklearn.tree"
   ]
  },
  {
   "cell_type": "code",
   "execution_count": null,
   "metadata": {},
   "outputs": [],
   "source": [
    "list_tree = []\n",
    "clf32 = DecisionTreeClassifier()\n",
    "clf32 = clf32.fit(train_set32.drop('y', axis = 1), train_set32['y'])\n",
    "#use score() method of the fitted classifier object, passing in the training/test data\n",
    "test_error32 = 1 - clf32.score(test_set32.drop('y', axis = 1), test_set32['y'])\n",
    "list_tree.append([clf32.tree_.node_count, test_error32])\n",
    "\n",
    "clf128 = DecisionTreeClassifier()\n",
    "clf128 = clf128.fit(train_set128.drop('y', axis = 1), train_set128['y'])\n",
    "test_error128 =  1 - clf128.score(test_set128.drop('y', axis = 1), test_set128['y'])\n",
    "list_tree.append([clf128.tree_.node_count, test_error128])\n",
    "\n",
    "clf512 = DecisionTreeClassifier()\n",
    "clf512 = clf512.fit(train_set512.drop('y', axis = 1), train_set512['y'])\n",
    "test_error512 =  1 - clf512.score(test_set512.drop('y', axis = 1), test_set512['y'])\n",
    "list_tree.append([clf512.tree_.node_count, test_error512])\n",
    "\n",
    "clf2048 = DecisionTreeClassifier()\n",
    "clf2048 = clf2048.fit(train_set2048.drop('y', axis = 1), train_set2048['y'])\n",
    "test_error2048 =  1 - clf2048.score(test_set2048.drop('y', axis = 1), test_set2048['y'])\n",
    "list_tree.append([clf2048.tree_.node_count, test_error2048])\n",
    "\n",
    "clf8092 = DecisionTreeClassifier()\n",
    "clf8092 = clf8092.fit(train_set.drop('y', axis = 1), train_set['y'])\n",
    "test_error8092 =  1 - clf8092.score(test_set.drop('y', axis = 1), test_set['y'])\n",
    "list_tree.append([clf8092.tree_.node_count, test_error8092])\n",
    "\n",
    "pd.DataFrame(list_tree, columns= ['n', 'err']).plot.line(x = 'n', y = 'err', xlabel = 'number of node', ylabel = 'test error')\n",
    "\n"
   ]
  },
  {
   "cell_type": "code",
   "execution_count": null,
   "metadata": {},
   "outputs": [],
   "source": [
    "list_tree"
   ]
  },
  {
   "attachments": {},
   "cell_type": "markdown",
   "metadata": {},
   "source": [
    "Lagrange Interpolation"
   ]
  },
  {
   "cell_type": "code",
   "execution_count": null,
   "metadata": {},
   "outputs": [],
   "source": [
    "a,b, n = 0, np.pi, 100\n",
    "list_cu = []\n",
    "\n",
    "#train set\n",
    "x_train = np.linspace(a, b, n)\n",
    "y_train = np.sin(x_train)\n",
    "\n",
    "#test set\n",
    "x_test = np.linspace(a, b, 50)\n",
    "y_test = np.sin(x_test)\n",
    "\n",
    "f = lagrange(x_train,y_train)\n",
    "\n",
    "#training error and test error \n",
    "train_error = np.mean((f(x_train) - y_train)**2)\n",
    "test_error = np.mean((f(x_test) - y_test)**2)\n",
    "list_cu.append([0, train_error, test_error])\n",
    "for i in [0.05, 0.1, 0.15, 0.2, 0.25, 0.3, 0.35]:\n",
    "    #train with noise set from 0 to 0.35\n",
    "    np.random.seed(0)\n",
    "    noise = np.random.normal(0, i, n)\n",
    "    x_train_noise = x_train + noise\n",
    "    y_train_noise = np.sin(x_train_noise)\n",
    "\n",
    "    f_noise = lagrange(x_train_noise, y_train_noise)\n",
    "    \n",
    "    #train error & test error\n",
    "    train_error = np.mean((f_noise(x_train_noise) - y_train_noise)**2)\n",
    "    test_error = np.mean((f_noise(x_test) - y_test)**2)\n",
    "    list_cu.append([i, train_error, test_error])\n",
    "\n",
    "list_cu\n"
   ]
  }
 ],
 "metadata": {
  "kernelspec": {
   "display_name": "Python 3",
   "language": "python",
   "name": "python3"
  },
  "language_info": {
   "codemirror_mode": {
    "name": "ipython",
    "version": 3
   },
   "file_extension": ".py",
   "mimetype": "text/x-python",
   "name": "python",
   "nbconvert_exporter": "python",
   "pygments_lexer": "ipython3",
   "version": "3.8.8"
  },
  "orig_nbformat": 4,
  "vscode": {
   "interpreter": {
    "hash": "81794d4967e6c3204c66dcd87b604927b115b27c00565d3d43f05ba2f3a2cb0d"
   }
  }
 },
 "nbformat": 4,
 "nbformat_minor": 2
}
