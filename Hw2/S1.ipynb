{
 "cells": [
  {
   "cell_type": "code",
   "execution_count": 1,
   "metadata": {},
   "outputs": [],
   "source": [
    "#import libraries\n",
    "import numpy as np \n",
    "import pandas as pd\n",
    "import math \n",
    "import sys\n",
    "import matplotlib.pyplot as plt"
   ]
  },
  {
   "cell_type": "code",
   "execution_count": 2,
   "metadata": {},
   "outputs": [
    {
     "data": {
      "text/html": [
       "<div>\n",
       "<style scoped>\n",
       "    .dataframe tbody tr th:only-of-type {\n",
       "        vertical-align: middle;\n",
       "    }\n",
       "\n",
       "    .dataframe tbody tr th {\n",
       "        vertical-align: top;\n",
       "    }\n",
       "\n",
       "    .dataframe thead th {\n",
       "        text-align: right;\n",
       "    }\n",
       "</style>\n",
       "<table border=\"1\" class=\"dataframe\">\n",
       "  <thead>\n",
       "    <tr style=\"text-align: right;\">\n",
       "      <th></th>\n",
       "      <th>x1</th>\n",
       "      <th>x2</th>\n",
       "      <th>y</th>\n",
       "    </tr>\n",
       "  </thead>\n",
       "  <tbody>\n",
       "    <tr>\n",
       "      <th>0</th>\n",
       "      <td>0.1</td>\n",
       "      <td>-2</td>\n",
       "      <td>0</td>\n",
       "    </tr>\n",
       "    <tr>\n",
       "      <th>1</th>\n",
       "      <td>0.0</td>\n",
       "      <td>-1</td>\n",
       "      <td>1</td>\n",
       "    </tr>\n",
       "    <tr>\n",
       "      <th>2</th>\n",
       "      <td>0.0</td>\n",
       "      <td>0</td>\n",
       "      <td>0</td>\n",
       "    </tr>\n",
       "    <tr>\n",
       "      <th>3</th>\n",
       "      <td>0.0</td>\n",
       "      <td>1</td>\n",
       "      <td>0</td>\n",
       "    </tr>\n",
       "    <tr>\n",
       "      <th>4</th>\n",
       "      <td>0.0</td>\n",
       "      <td>2</td>\n",
       "      <td>0</td>\n",
       "    </tr>\n",
       "    <tr>\n",
       "      <th>5</th>\n",
       "      <td>0.0</td>\n",
       "      <td>3</td>\n",
       "      <td>0</td>\n",
       "    </tr>\n",
       "    <tr>\n",
       "      <th>6</th>\n",
       "      <td>0.0</td>\n",
       "      <td>4</td>\n",
       "      <td>0</td>\n",
       "    </tr>\n",
       "    <tr>\n",
       "      <th>7</th>\n",
       "      <td>0.0</td>\n",
       "      <td>5</td>\n",
       "      <td>0</td>\n",
       "    </tr>\n",
       "    <tr>\n",
       "      <th>8</th>\n",
       "      <td>0.0</td>\n",
       "      <td>6</td>\n",
       "      <td>1</td>\n",
       "    </tr>\n",
       "    <tr>\n",
       "      <th>9</th>\n",
       "      <td>0.0</td>\n",
       "      <td>7</td>\n",
       "      <td>0</td>\n",
       "    </tr>\n",
       "    <tr>\n",
       "      <th>10</th>\n",
       "      <td>0.0</td>\n",
       "      <td>8</td>\n",
       "      <td>1</td>\n",
       "    </tr>\n",
       "  </tbody>\n",
       "</table>\n",
       "</div>"
      ],
      "text/plain": [
       "     x1  x2  y\n",
       "0   0.1  -2  0\n",
       "1   0.0  -1  1\n",
       "2   0.0   0  0\n",
       "3   0.0   1  0\n",
       "4   0.0   2  0\n",
       "5   0.0   3  0\n",
       "6   0.0   4  0\n",
       "7   0.0   5  0\n",
       "8   0.0   6  1\n",
       "9   0.0   7  0\n",
       "10  0.0   8  1"
      ]
     },
     "execution_count": 2,
     "metadata": {},
     "output_type": "execute_result"
    }
   ],
   "source": [
    "columns_name = ['x1', 'x2', 'y']\n",
    "df = pd.read_csv('data/Druns.txt', names = columns_name, sep = ' ')\n",
    "df"
   ]
  },
  {
   "cell_type": "code",
   "execution_count": 3,
   "metadata": {},
   "outputs": [],
   "source": [
    "def entropy(y):\n",
    "    prob = y.value_counts()/y.shape[0]\n",
    "    entropy = np.sum(-prob*np.log2(prob + 1e-9)) #for prob not to be 0 in log\n",
    "    return entropy"
   ]
  },
  {
   "cell_type": "code",
   "execution_count": 4,
   "metadata": {},
   "outputs": [],
   "source": [
    "def info_gain(y, mask, func = entropy):\n",
    "    a = sum(mask)\n",
    "    b = mask.shape[0] - a\n",
    "    if a == 0 or b == 0:\n",
    "        return 0\n",
    "    else:\n",
    "        return func(y) - (func(y[mask])*a/(a+b) + func(y[-mask])*b/(a+b)) \n"
   ]
  },
  {
   "cell_type": "code",
   "execution_count": 5,
   "metadata": {},
   "outputs": [],
   "source": [
    "def info_gain_ratio(col, y, mask, func = info_gain):\n",
    "    if entropy != 0:\n",
    "        return func(y, mask)/entropy(col)\n",
    "    return None"
   ]
  },
  {
   "cell_type": "code",
   "execution_count": 6,
   "metadata": {},
   "outputs": [],
   "source": [
    "def total_info_gain(x, y, func = entropy):\n",
    "    options = x.sort_values().unique()\n",
    "    res = []\n",
    "    for value in options:\n",
    "        mask = x >= value\n",
    "        ig = info_gain_ratio(x, y, mask)\n",
    "        res.append([value, ig])\n",
    "    return res"
   ]
  },
  {
   "cell_type": "code",
   "execution_count": 7,
   "metadata": {},
   "outputs": [
    {
     "name": "stdout",
     "output_type": "stream",
     "text": [
      "     0         1\n",
      "0  0.0  0.000000\n",
      "1  0.1  0.100518\n",
      "    0         1\n",
      "0  -2  0.000000\n",
      "1  -1  0.012770\n",
      "2   0  0.011064\n",
      "3   1  0.001412\n",
      "4   2  0.000313\n",
      "5   3  0.004716\n",
      "6   4  0.014295\n",
      "7   5  0.030408\n",
      "8   6  0.057694\n",
      "9   7  0.011064\n",
      "10  8  0.054648\n"
     ]
    }
   ],
   "source": [
    "colname = ['value', 'ig_ratio']\n",
    "df1 = pd.DataFrame(total_info_gain(df[\"x1\"], df[\"y\"]))\n",
    "print(df1)\n",
    "df2 = pd.DataFrame(total_info_gain(df[\"x2\"], df[\"y\"]))\n",
    "print(df2)\n"
   ]
  },
  {
   "cell_type": "code",
   "execution_count": 8,
   "metadata": {},
   "outputs": [
    {
     "data": {
      "text/html": [
       "<div>\n",
       "<style scoped>\n",
       "    .dataframe tbody tr th:only-of-type {\n",
       "        vertical-align: middle;\n",
       "    }\n",
       "\n",
       "    .dataframe tbody tr th {\n",
       "        vertical-align: top;\n",
       "    }\n",
       "\n",
       "    .dataframe thead th {\n",
       "        text-align: right;\n",
       "    }\n",
       "</style>\n",
       "<table border=\"1\" class=\"dataframe\">\n",
       "  <thead>\n",
       "    <tr style=\"text-align: right;\">\n",
       "      <th></th>\n",
       "      <th>x1</th>\n",
       "      <th>x2</th>\n",
       "      <th>y</th>\n",
       "    </tr>\n",
       "  </thead>\n",
       "  <tbody>\n",
       "    <tr>\n",
       "      <th>0</th>\n",
       "      <td>10</td>\n",
       "      <td>1</td>\n",
       "      <td>1</td>\n",
       "    </tr>\n",
       "    <tr>\n",
       "      <th>1</th>\n",
       "      <td>10</td>\n",
       "      <td>2</td>\n",
       "      <td>1</td>\n",
       "    </tr>\n",
       "    <tr>\n",
       "      <th>2</th>\n",
       "      <td>10</td>\n",
       "      <td>3</td>\n",
       "      <td>1</td>\n",
       "    </tr>\n",
       "    <tr>\n",
       "      <th>3</th>\n",
       "      <td>1</td>\n",
       "      <td>1</td>\n",
       "      <td>0</td>\n",
       "    </tr>\n",
       "    <tr>\n",
       "      <th>4</th>\n",
       "      <td>1</td>\n",
       "      <td>3</td>\n",
       "      <td>1</td>\n",
       "    </tr>\n",
       "  </tbody>\n",
       "</table>\n",
       "</div>"
      ],
      "text/plain": [
       "   x1  x2  y\n",
       "0  10   1  1\n",
       "1  10   2  1\n",
       "2  10   3  1\n",
       "3   1   1  0\n",
       "4   1   3  1"
      ]
     },
     "execution_count": 8,
     "metadata": {},
     "output_type": "execute_result"
    }
   ],
   "source": [
    "colname_d3 = ['x1', 'x2', 'y']\n",
    "df_d3 = pd.read_csv('data/D3leaves.txt', names= colname_d3, sep = ' ')\n",
    "df_d3"
   ]
  },
  {
   "cell_type": "code",
   "execution_count": 9,
   "metadata": {},
   "outputs": [],
   "source": [
    "def max_info_gain(x, y, func = entropy):\n",
    "    options = x.sort_values().unique()\n",
    "    ig = []\n",
    "    split_value = []\n",
    "    entro_list = []\n",
    "    \n",
    "    for value in options:\n",
    "        mask = x >= value\n",
    "        ig_val = info_gain(y, mask, func)\n",
    "        ig.append(ig_val)\n",
    "        split_value.append(value)\n",
    "        entro_list.append(entropy(mask))\n",
    "    if len(ig) == 0:\n",
    "        return (None, None, None, False)\n",
    "    else: \n",
    "        best_ig = max(ig)\n",
    "        best_ig_index = ig.index(best_ig)\n",
    "        best_split = split_value[best_ig_index]\n",
    "        entro = entro_list[best_ig_index]\n",
    "        return(best_split, best_ig, entro, True)"
   ]
  },
  {
   "cell_type": "code",
   "execution_count": null,
   "metadata": {},
   "outputs": [],
   "source": [
    "temp = df_d3['y'] \n",
    "cu = df_d3.drop('y', axis = 1).apply(max_info_gain, y = temp)\n",
    "cu = cu.loc[:, cu.loc[3, :]]\n",
    "cu"
   ]
  },
  {
   "cell_type": "code",
   "execution_count": null,
   "metadata": {},
   "outputs": [],
   "source": []
  },
  {
   "cell_type": "code",
   "execution_count": 11,
   "metadata": {},
   "outputs": [],
   "source": [
    "def get_best_split(x, out):\n",
    "    masks = x.drop(out, axis = 1).apply(max_info_gain, y = x[out])\n",
    "    if np.sum(masks.loc[3, :]) == 0:\n",
    "        return (None, None, False, None)\n",
    "    else:\n",
    "        masks = masks.loc[:, masks.loc[3,:]]\n",
    "        masks = masks.apply(pd.to_numeric)\n",
    "        \n",
    "        temporary = masks.idxmin(axis = 1)[2] #column name of the lowest entropy\n",
    "        #temporary2 = np.sum(masks.loc[2, :])\n",
    "        #if temporary2 == 0: #box has the lowest entropy\n",
    "        #    return (None, None, False, 0)\n",
    "        if masks[temporary][2] == 0: #new\n",
    "            #return (None, None, False)\n",
    "            check = 1 #there is entropy == 0 #new\n",
    "            masks = masks.loc[:, masks.loc[2, :] == 0] #new, choose columns has entropy = 0 to split\n",
    "        else:\n",
    "            check = 0 #there is no entropy == 0 #new\n",
    "            \n",
    "        #masks['Max'] = masks.idxmax(axis = 1)\n",
    "        #split_vari = masks.loc[1][-1]\n",
    "        split_vari = max(masks)\n",
    "        split_value = masks[split_vari][0]\n",
    "        split_ig = masks[split_vari][1]\n",
    "        return(split_vari, split_value, split_ig, check)"
   ]
  },
  {
   "cell_type": "code",
   "execution_count": 12,
   "metadata": {},
   "outputs": [
    {
     "data": {
      "text/plain": [
       "('x2', 2.0, 0.32192809402174527, 0)"
      ]
     },
     "execution_count": 12,
     "metadata": {},
     "output_type": "execute_result"
    }
   ],
   "source": [
    "get_best_split(df_d3, 'y')"
   ]
  },
  {
   "cell_type": "code",
   "execution_count": 13,
   "metadata": {},
   "outputs": [],
   "source": [
    "def make_split(vari, value, data):\n",
    "    data1 = data[data[vari] >= value]\n",
    "    data2 = data[data[vari] < value]\n",
    "    return data1, data2"
   ]
  },
  {
   "cell_type": "code",
   "execution_count": 14,
   "metadata": {},
   "outputs": [],
   "source": [
    "def make_pred(data):\n",
    "    return data.value_counts().idxmax()"
   ]
  },
  {
   "cell_type": "code",
   "execution_count": 15,
   "metadata": {},
   "outputs": [],
   "source": [
    "def train_tree(data, y):\n",
    "    var, val, ig, check = get_best_split(data, y)\n",
    "    if ig is not None and ig != 1e-20:\n",
    "        left, right = make_split(var, val, data)\n",
    "        split_type = \">=\"\n",
    "        question = \"{} {}  {}\".format(var, split_type, val)\n",
    "        subtree = {question: []}\n",
    "        if check == 1: #new\n",
    "            a = make_pred(left[y]) #new\n",
    "            b = make_pred(right[y]) #new\n",
    "            subtree[question].append(a) #new\n",
    "            subtree[question].append(b) #new\n",
    "            return subtree \n",
    "        yes_ans = train_tree(left, y) \n",
    "        no_ans = train_tree(right, y)\n",
    "        if yes_ans == no_ans:\n",
    "            subtree = yes_ans #new subtree\n",
    "        else:\n",
    "            subtree[question].append(yes_ans)\n",
    "            subtree[question].append(no_ans)\n",
    "    else:\n",
    "        return make_pred(data[y])\n",
    "    return subtree\n",
    "        \n"
   ]
  },
  {
   "cell_type": "code",
   "execution_count": 16,
   "metadata": {},
   "outputs": [
    {
     "ename": "",
     "evalue": "",
     "output_type": "error",
     "traceback": [
      "\u001b[1;31mCanceled future for execute_request message before replies were done"
     ]
    },
    {
     "ename": "",
     "evalue": "",
     "output_type": "error",
     "traceback": [
      "\u001b[1;31mThe Kernel crashed while executing code in the the current cell or a previous cell. Please review the code in the cell(s) to identify a possible cause of the failure. Click <a href='https://aka.ms/vscodeJupyterKernelCrash'>here</a> for more info. View Jupyter <a href='command:jupyter.viewOutput'>log</a> for further details."
     ]
    }
   ],
   "source": [
    "train_tree(df_d3, 'y')"
   ]
  },
  {
   "cell_type": "code",
   "execution_count": null,
   "metadata": {},
   "outputs": [],
   "source": [
    "df_d1 = pd.read_csv('data/D1.txt', names = colname_d3, sep = \" \")\n",
    "train_tree(df_d1,'y')"
   ]
  },
  {
   "cell_type": "code",
   "execution_count": null,
   "metadata": {},
   "outputs": [],
   "source": [
    "#cu2 = df_d1.drop('y', axis = 1).apply(max_info_gain, y = df_d1['y'])\n",
    "#cu2 = cu2.loc[:, cu2.loc[3, :]]\n",
    "#cu2 = cu2.apply(pd.to_numeric)\n",
    "#cu2\n",
    "#cu2 = cu2.loc[:, cu2.loc[2, :] == 0]\n",
    "#cu2['Max'] = cu2.idxmax(axis=1) #(max info gain)\n",
    "#cu2\n"
   ]
  },
  {
   "cell_type": "code",
   "execution_count": null,
   "metadata": {},
   "outputs": [],
   "source": [
    "get_best_split(df_d1, 'y')"
   ]
  },
  {
   "cell_type": "code",
   "execution_count": null,
   "metadata": {},
   "outputs": [],
   "source": [
    "df_d2 = pd.read_csv('data/D2.txt', names = colname_d3, sep = \" \")\n",
    "train_tree(df_d2,'y')"
   ]
  },
  {
   "cell_type": "code",
   "execution_count": null,
   "metadata": {},
   "outputs": [],
   "source": [
    "fig, ax = plt.subplots()\n",
    "\n",
    "for label in [0,1]:\n",
    "    #filters this sequence of indices by keeping only those where df_d1['y'][i] is equal to label, go first with label 0\n",
    "    row_ix = [i for i in range(len(df_d1['y'])) if df_d1['y'][i] == label] \n",
    "    plt.scatter([df_d1['x1'][i] for i in row_ix], [df_d1['x2'][i] for i in row_ix], c= ['red' if label == 0 else 'blue'])\n",
    "\n",
    "ax.set_xlabel('x1')\n",
    "ax.set_ylabel('x2')\n",
    "ax.hlines(y= 0.201829, xmin = 0, xmax = 1, linestyles= '--', colors= 'black')\n",
    "plt.show()"
   ]
  },
  {
   "cell_type": "code",
   "execution_count": null,
   "metadata": {},
   "outputs": [],
   "source": [
    "def predict_d2(x1, x2):\n",
    "    if x1 >= 0.533076:\n",
    "        if x1 >= 0.73682:\n",
    "            if x2 >=  0.210079:\n",
    "                return 1\n",
    "            else:\n",
    "                return 0\n",
    "        elif x1 >= 0.538288:\n",
    "            if x1 >=  0.542481: \n",
    "                if x1 >=  0.548306:\n",
    "                    if x1 >=  0.645326:\n",
    "                        if x2 >=  0.301105:\n",
    "                            return 1\n",
    "                        else:\n",
    "                            return 0\n",
    "                    elif x1 >=  0.611437:\n",
    "                        if x2 >=  0.403494:\n",
    "                            return 1\n",
    "                        else:\n",
    "                            return 0\n",
    "                    elif x1 >=  0.60386:\n",
    "                        return 1\n",
    "                    else:\n",
    "                        return 1\n",
    "                else:\n",
    "                    return 1\n",
    "            elif x2 >=  0.62952:\n",
    "                return 1\n",
    "            else:\n",
    "                return 0\n",
    "        elif x2 >= 0.639018:\n",
    "            if x1 >=  0.111076:\n",
    "                if x1 >=  0.329959:\n",
    "                    return 1\n",
    "                else:\n",
    "                    return 1\n",
    "            elif x2 >=  0.964767:\n",
    "                return 1\n",
    "            else:\n",
    "                return 0\n",
    "        elif x1 >=  0.409972:\n",
    "            if x2 >=  0.534979:\n",
    "                if x1 >=  0.426073:\n",
    "                    return 1\n",
    "                return 1\n",
    "            else:\n",
    "                return 0\n",
    "        else:\n",
    "            return 0"
   ]
  },
  {
   "cell_type": "code",
   "execution_count": null,
   "metadata": {},
   "outputs": [],
   "source": [
    "fig, ax = plt.subplots()\n",
    "\n",
    "for label in [0,1]:\n",
    "    row_ind = [i for i in range (len(df_d2['y'])) if df_d2['y'][i] == label]\n",
    "    plt.scatter([df_d2['x1'][row_ind]], [df_d2['x2'][row_ind]], c = 'red' if label == 0 else 'blue')\n",
    "\n",
    "x1 = np.linspace(0, 1, 100)\n",
    "x2 = np.linspace(0, 1, 100)\n",
    "x1_grid, x2_grid = np.meshgrid(x1, x2)\n",
    "z = np.zeros_like(x1_grid)\n",
    "for i in range (x1_grid.shape[0]):\n",
    "    for j in range (x2_grid.shape[1]):\n",
    "        z[i][j] = predict_d2(x1_grid[i, j], x2_grid[i, j])\n",
    "plt.contourf(x1_grid, x2_grid, z, cmap='RdBu', alpha=0.5)\n",
    "ax.set_xlabel('x1')\n",
    "ax.set_ylabel('x2')\n",
    "plt.show()"
   ]
  },
  {
   "cell_type": "code",
   "execution_count": null,
   "metadata": {},
   "outputs": [],
   "source": [
    "df_q2 = pd.read_csv('data/2.2.txt', names = ['x1', 'x2', 'x3', 'y'], sep = ' ')\n",
    "df_q2"
   ]
  },
  {
   "cell_type": "code",
   "execution_count": null,
   "metadata": {},
   "outputs": [],
   "source": [
    "get_best_split(df_q2, 'y')"
   ]
  }
 ],
 "metadata": {
  "kernelspec": {
   "display_name": "Python 3",
   "language": "python",
   "name": "python3"
  },
  "language_info": {
   "codemirror_mode": {
    "name": "ipython",
    "version": 3
   },
   "file_extension": ".py",
   "mimetype": "text/x-python",
   "name": "python",
   "nbconvert_exporter": "python",
   "pygments_lexer": "ipython3",
   "version": "3.9.6"
  },
  "orig_nbformat": 4,
  "vscode": {
   "interpreter": {
    "hash": "81794d4967e6c3204c66dcd87b604927b115b27c00565d3d43f05ba2f3a2cb0d"
   }
  }
 },
 "nbformat": 4,
 "nbformat_minor": 2
}
