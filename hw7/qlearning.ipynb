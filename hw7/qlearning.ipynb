{
 "cells": [
  {
   "attachments": {},
   "cell_type": "markdown",
   "metadata": {},
   "source": [
    "Simulation"
   ]
  },
  {
   "cell_type": "code",
   "execution_count": 1,
   "metadata": {},
   "outputs": [],
   "source": [
    "import numpy as np\n",
    "import random"
   ]
  },
  {
   "cell_type": "code",
   "execution_count": null,
   "metadata": {},
   "outputs": [],
   "source": [
    "num_state = 2\n",
    "num_action = 2\n",
    "num_iter = 200\n",
    "epsilon =0.5\n",
    "alpha = 0.5\n",
    "gamma =0.8"
   ]
  },
  {
   "cell_type": "code",
   "execution_count": 45,
   "metadata": {},
   "outputs": [
    {
     "name": "stdout",
     "output_type": "stream",
     "text": [
      "[[0. 0.]\n",
      " [0. 0.]]\n"
     ]
    }
   ],
   "source": [
    "#Q1\n",
    "Q = np.zeros((num_state, num_action))\n",
    "state = 0 #Start with A\n",
    "\n",
    "for _ in range(num_iter):\n",
    "    if Q[state].argmax() == 1 and Q[state, 0] != Q[state, 1]:\n",
    "        action = 1 #Stay\n",
    "        reward = 1\n",
    "        next_state = state\n",
    "    else:\n",
    "        reward = 0\n",
    "        action = 0\n",
    "        next_state = 1 - state\n",
    "    \n",
    "    Q[state, action] = (1 - alpha)*Q[state, action] + alpha*(reward + gamma*np.max(Q[next_state]))\n",
    "    state = next_state\n",
    "print(Q)"
   ]
  },
  {
   "cell_type": "code",
   "execution_count": 43,
   "metadata": {},
   "outputs": [
    {
     "name": "stdout",
     "output_type": "stream",
     "text": [
      "[[3.99756331 4.99878625]\n",
      " [3.99863442 4.99746236]]\n"
     ]
    }
   ],
   "source": [
    "#Q2\n",
    "#Initialize Q to be all 0\n",
    "Q = np.zeros((num_state, num_action))\n",
    "state = 0 # Start with A\n",
    "for step in range(num_iter):\n",
    "    #Choose an action based on epsilon:\n",
    "    if random.random() < epsilon:\n",
    "        action = random.randint(0, num_action - 1)\n",
    "    else:\n",
    "        action = np.argmax(Q[state])\n",
    "\n",
    "    #Determine the next state and reward\n",
    "    if action == 0: #If move\n",
    "        next_state = 1 - state\n",
    "        reward = 0\n",
    "    else: #If stay\n",
    "    #Update Q\n",
    "        next_state = state\n",
    "        reward = 1\n",
    "    Q[state, action] = (1- alpha)*Q[state, action] + alpha*(reward + gamma*np.max(Q[next_state]))\n",
    "\n",
    "    state = next_state\n",
    "print(Q)"
   ]
  }
 ],
 "metadata": {
  "kernelspec": {
   "display_name": "Python 3",
   "language": "python",
   "name": "python3"
  },
  "language_info": {
   "codemirror_mode": {
    "name": "ipython",
    "version": 3
   },
   "file_extension": ".py",
   "mimetype": "text/x-python",
   "name": "python",
   "nbconvert_exporter": "python",
   "pygments_lexer": "ipython3",
   "version": "3.8.8"
  },
  "orig_nbformat": 4
 },
 "nbformat": 4,
 "nbformat_minor": 2
}
