{
 "cells": [
  {
   "cell_type": "code",
   "execution_count": 1,
   "metadata": {},
   "outputs": [
    {
     "name": "stdout",
     "output_type": "stream",
     "text": [
      "[[ 0.3433646   3.98677909]\n",
      " [-0.31605909 -0.13131087]\n",
      " [-2.81394282  2.31553903]\n",
      " [-6.65433562  1.09321457]\n",
      " [-1.83172895 -0.02120713]\n",
      " [-3.1519246   1.81716485]\n",
      " [-1.26895181  2.56013292]\n",
      " [-1.38356649  1.66287421]\n",
      " [ 0.44077899  0.09007869]\n",
      " [-3.23309406  1.44840371]\n",
      " [-0.77057856  0.38383969]\n",
      " [-1.1347157   3.16004194]\n",
      " [-0.94664278  1.79734006]\n",
      " [-3.23131544  0.30572371]\n",
      " [-1.60854033  1.78016125]\n",
      " [-1.69979604  4.00299627]\n",
      " [-1.79912558  1.17247472]\n",
      " [-0.56909945  1.71870377]\n",
      " [-2.41162328  1.90937054]\n",
      " [ 0.11510467  2.9258602 ]\n",
      " [-0.93119474  0.11411836]\n",
      " [ 0.9623123   2.48549218]\n",
      " [-2.94776308  1.49590145]\n",
      " [-3.1570619  -0.02335189]\n",
      " [-3.26237955 -0.24360078]\n",
      " [ 0.43340519  2.08864841]\n",
      " [-1.85677927 -0.43933121]\n",
      " [-0.32481201  0.99992748]\n",
      " [-1.15237167  2.38608179]\n",
      " [ 0.34174158  2.63777145]\n",
      " [-2.1029272  -0.28185733]\n",
      " [-4.21955508  2.49286707]\n",
      " [-0.86840949  2.731511  ]\n",
      " [-1.76119668  2.33628549]\n",
      " [-0.75210283  1.28727014]\n",
      " [ 0.18644901  2.42661579]\n",
      " [-3.87083468  1.31116917]\n",
      " [ 1.20322526  2.45450003]\n",
      " [-3.18633594  0.61647151]\n",
      " [-0.13016164  2.29408578]\n",
      " [-2.41713809 -0.28143713]\n",
      " [-2.79771506  0.69663161]\n",
      " [-3.12392882  0.99547192]\n",
      " [-1.57532421  3.36061876]\n",
      " [-2.02663741  1.73336446]\n",
      " [ 2.86561155  2.0833174 ]\n",
      " [-2.88620014  2.91227086]\n",
      " [-0.53212715  2.31912699]\n",
      " [-1.65279543  1.42658547]\n",
      " [-2.11841577 -0.40762427]\n",
      " [-0.56255726  0.49664246]\n",
      " [-0.74613552  1.50732371]\n",
      " [ 1.5574528   1.70005037]\n",
      " [ 1.75083013  3.57022803]\n",
      " [ 0.46238243  1.4497194 ]\n",
      " [-1.88979525 -0.27922292]\n",
      " [-1.30363042  0.65629112]\n",
      " [ 0.79570965  1.30151517]\n",
      " [-1.05359272 -0.57245819]\n",
      " [-1.51868049  0.87721578]\n",
      " [-1.80465181  1.46067994]\n",
      " [-0.50666379 -0.48832702]\n",
      " [ 0.04400737  2.25747075]\n",
      " [-2.41014207 -0.91243178]\n",
      " [-2.07929752  0.13576412]\n",
      " [-2.56317905  0.66130076]\n",
      " [-1.66366793 -0.43360335]\n",
      " [-3.03059347  1.85610312]\n",
      " [-2.1138693   0.74949572]\n",
      " [-4.13238486  1.91823112]\n",
      " [-0.97235824  0.91880312]\n",
      " [-1.56844261 -2.01272326]\n",
      " [-2.15097098  0.66069981]\n",
      " [-2.60164039 -0.38365399]\n",
      " [ 0.43665895  2.31353494]\n",
      " [-0.20557891  0.44107074]\n",
      " [-0.76345973  2.34987186]\n",
      " [-0.95178145  1.24358017]\n",
      " [-2.82387385  0.84259234]\n",
      " [-0.65312772  0.25356371]\n",
      " [-0.21498662  4.04550364]\n",
      " [ 0.35567851  3.13986856]\n",
      " [-0.65736759  2.02106601]\n",
      " [ 1.68718682  2.3244434 ]\n",
      " [-1.51010041 -1.25159526]\n",
      " [-0.05942703 -0.47296144]\n",
      " [-1.18738982  0.25775012]\n",
      " [ 0.56861622  3.96243289]\n",
      " [-1.97380193 -1.50590865]\n",
      " [ 0.20825477  1.58444331]\n",
      " [-0.84370421 -1.08475311]\n",
      " [-0.97038098  0.46367782]\n",
      " [-3.3428307   0.72113626]\n",
      " [-0.49297042 -0.77970037]\n",
      " [-0.74496283  2.26181656]\n",
      " [-2.12077696  3.12918011]\n",
      " [-3.32710497  3.76452674]\n",
      " [-2.21557781  1.87039454]\n",
      " [-1.422607   -1.07981853]\n",
      " [-1.24741774 -0.82620811]]\n"
     ]
    }
   ],
   "source": [
    "import numpy as np\n",
    "import matplotlib.pyplot as plt\n",
    "mu = np.array([-1,1]).transpose()\n",
    "sigma = np.array([[2,0], [0,2]])\n",
    "\n",
    "multi = np.random.multivariate_normal(mu, sigma, 100)\n",
    "print(multi)"
   ]
  },
  {
   "cell_type": "code",
   "execution_count": null,
   "metadata": {},
   "outputs": [],
   "source": []
  },
  {
   "cell_type": "code",
   "execution_count": 2,
   "metadata": {},
   "outputs": [],
   "source": [
    "multi_x = np.split(multi, 2, axis = 1)[0]\n",
    "multi_y = np.split(multi, 2, axis = 1)[1]"
   ]
  },
  {
   "cell_type": "code",
   "execution_count": 3,
   "metadata": {},
   "outputs": [
    {
     "data": {
      "image/png": "[encoded data removed]",
      "text/plain": [
       "<Figure size 640x480 with 1 Axes>"
      ]
     },
     "metadata": {},
     "output_type": "display_data"
    }
   ],
   "source": [
    "plt.scatter(multi_x, multi_y)\n",
    "plt.show()"
   ]
  },
  {
   "cell_type": "code",
   "execution_count": null,
   "metadata": {},
   "outputs": [],
   "source": []
  },
  {
   "cell_type": "code",
   "execution_count": 4,
   "metadata": {},
   "outputs": [
    {
     "ename": "TypeError",
     "evalue": "scatter() missing 2 required positional arguments: 'x' and 'y'",
     "output_type": "error",
     "traceback": [
      "\u001b[1;31m---------------------------------------------------------------------------\u001b[0m",
      "\u001b[1;31mTypeError\u001b[0m                                 Traceback (most recent call last)",
      "Cell \u001b[1;32mIn[4], line 15\u001b[0m\n\u001b[0;32m     12\u001b[0m multi70_x \u001b[39m=\u001b[39m np\u001b[39m.\u001b[39msplit(multi70, \u001b[39m2\u001b[39m, axis \u001b[39m=\u001b[39m \u001b[39m1\u001b[39m)[\u001b[39m0\u001b[39m]\n\u001b[0;32m     13\u001b[0m multi70_y \u001b[39m=\u001b[39m np\u001b[39m.\u001b[39msplit(multi70, \u001b[39m2\u001b[39m, axis \u001b[39m=\u001b[39m \u001b[39m1\u001b[39m)[\u001b[39m1\u001b[39m]\n\u001b[1;32m---> 15\u001b[0m plt\u001b[39m.\u001b[39;49mscatter()\n",
      "\u001b[1;31mTypeError\u001b[0m: scatter() missing 2 required positional arguments: 'x' and 'y'"
     ]
    }
   ],
   "source": [
    "mu1 = np.array([1,0]).transpose()\n",
    "mu2 = np.array([-1,0]).transpose()\n",
    "sigma1 = np.array([[1, 0.2], [0.2, 1]])\n",
    "sigma2 = np.array([[1, -0.2], [-0.2, 1]])\n",
    "\n",
    "multi30 = np.random.multivariate_normal(mu1, sigma1, 30)\n",
    "multi70 = np.random.multivariate_normal(mu2, sigma2, 70)\n",
    "\n",
    "multi30_x = np.split(multi30, 2, axis = 1)[0]\n",
    "multi30_y = np.split(multi30, 2, axis = 1)[1]\n",
    "\n",
    "multi70_x = np.split(multi70, 2, axis = 1)[0]\n",
    "multi70_y = np.split(multi70, 2, axis = 1)[1]\n",
    "\n",
    "plt.scatter()\n"
   ]
  }
 ],
 "metadata": {
  "kernelspec": {
   "display_name": "Python 3",
   "language": "python",
   "name": "python3"
  },
  "language_info": {
   "codemirror_mode": {
    "name": "ipython",
    "version": 3
   },
   "file_extension": ".py",
   "mimetype": "text/x-python",
   "name": "python",
   "nbconvert_exporter": "python",
   "pygments_lexer": "ipython3",
   "version": "3.9.6"
  },
  "orig_nbformat": 4,
  "vscode": {
   "interpreter": {
    "hash": "81794d4967e6c3204c66dcd87b604927b115b27c00565d3d43f05ba2f3a2cb0d"
   }
  }
 },
 "nbformat": 4,
 "nbformat_minor": 2
}
