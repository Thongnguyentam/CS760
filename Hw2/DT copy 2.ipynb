{
 "cells": [
  {
   "cell_type": "code",
   "execution_count": 1,
   "metadata": {},
   "outputs": [],
   "source": [
    "#import libraries\n",
    "import numpy as np \n",
    "import pandas as pd\n",
    "import math \n",
    "import sys\n",
    "import matplotlib.pyplot as plt\n",
    "import random\n",
    "from sklearn.tree import DecisionTreeClassifier\n",
    "from sklearn.model_selection import train_test_split\n",
    "from scipy.interpolate import lagrange"
   ]
  },
  {
   "cell_type": "code",
   "execution_count": 2,
   "metadata": {},
   "outputs": [],
   "source": [
    "mu = 2.5\n",
    "sigma = np.identity(2)\n",
    "posi = np.random.multivariate_normal([mu,0], sigma, 750)\n",
    "nega = np.random.multivariate_normal([-mu, 0], sigma, 750)\n",
    "X = np.vstack((posi, nega))\n",
    "y = np.hstack((np.ones(750), (-1)*np.ones(750)))\n",
    "\n",
    "#Split the dataset into train, validation, and test set\n",
    "df_x, df_test, df_y, y_test = train_test_split(X, y, test_size= 250, random_state= 100)\n",
    "x_train, x_val, y_train, y_val = train_test_split(df_x, df_y, test_size= 250, random_state= 100)"
   ]
  },
  {
   "cell_type": "code",
   "execution_count": 3,
   "metadata": {},
   "outputs": [
    {
     "data": {
      "text/plain": [
       "<matplotlib.legend.Legend at 0x213295d4970>"
      ]
     },
     "execution_count": 3,
     "metadata": {},
     "output_type": "execute_result"
    },
    {
     "data": {
      "image/png": "[encoded data removed]",
      "text/plain": [
       "<Figure size 432x288 with 1 Axes>"
      ]
     },
     "metadata": {
      "needs_background": "light"
     },
     "output_type": "display_data"
    }
   ],
   "source": [
    "plt.scatter(posi[:, 0], posi[:, 1], c = 'blue', label = 'Positive')\n",
    "plt.scatter(nega[:, 0], nega[:, 1], c = 'red', label = 'Negative')\n",
    "plt.xlabel('x1')\n",
    "plt.ylabel('x2')\n",
    "plt.legend()"
   ]
  },
  {
   "cell_type": "code",
   "execution_count": 18,
   "metadata": {},
   "outputs": [],
   "source": [
    "def entropy(y):\n",
    "    prob = y.value_counts()/y.shape[0]\n",
    "    entropy = np.sum(-prob*np.log2(prob)) #for prob not to be 0 in log\n",
    "    return entropy"
   ]
  },
  {
   "cell_type": "code",
   "execution_count": 19,
   "metadata": {},
   "outputs": [],
   "source": [
    "def info_gain(y, mask, func = entropy):\n",
    "    a = sum(mask)\n",
    "    b = mask.shape[0] - a\n",
    "    if a == 0 or b == 0:\n",
    "        return 0\n",
    "    else:\n",
    "        return func(y) - (func(y[mask])*a/(a+b) + func(y[-mask])*b/(a+b)) \n"
   ]
  },
  {
   "cell_type": "code",
   "execution_count": 20,
   "metadata": {},
   "outputs": [],
   "source": [
    "def info_gain_ratio(col, y, mask, func = info_gain):\n",
    "    if entropy != 0:\n",
    "        return func(y, mask)/entropy(mask)\n",
    "    return None"
   ]
  },
  {
   "cell_type": "code",
   "execution_count": 21,
   "metadata": {},
   "outputs": [],
   "source": [
    "def total_info_gain(x, y):\n",
    "    options = x.sort_values().unique()\n",
    "    res = []\n",
    "    for value in options:\n",
    "        mask = x >= value\n",
    "        ig = info_gain_ratio(x, y, mask)\n",
    "        res.append([value, ig])\n",
    "    return res"
   ]
  },
  {
   "cell_type": "code",
   "execution_count": 22,
   "metadata": {},
   "outputs": [
    {
     "name": "stdout",
     "output_type": "stream",
     "text": [
      "     0         1\n",
      "0  0.0       NaN\n",
      "1  0.1  0.100518\n",
      "    0         1\n",
      "0  -2       NaN\n",
      "1  -1  0.100518\n",
      "2   0  0.055954\n",
      "3   1  0.005780\n",
      "4   2  0.001144\n",
      "5   3  0.016411\n",
      "6   4  0.049749\n",
      "7   5  0.111240\n",
      "8   6  0.236100\n",
      "9   7  0.055954\n",
      "10  8  0.430157\n"
     ]
    },
    {
     "name": "stderr",
     "output_type": "stream",
     "text": [
      "<ipython-input-20-4ef3c9c7f65a>:3: RuntimeWarning: invalid value encountered in double_scalars\n",
      "  return func(y, mask)/entropy(mask)\n",
      "<ipython-input-20-4ef3c9c7f65a>:3: RuntimeWarning: invalid value encountered in double_scalars\n",
      "  return func(y, mask)/entropy(mask)\n"
     ]
    }
   ],
   "source": [
    "columns_name = ['x1', 'x2', 'y']\n",
    "df = pd.read_csv('data/Druns.txt', names = columns_name, sep = ' ')\n",
    "colname = ['value', 'ig_ratio']\n",
    "df1 = pd.DataFrame(total_info_gain(df[\"x1\"], df[\"y\"]))\n",
    "print(df1)\n",
    "df2 = pd.DataFrame(total_info_gain(df[\"x2\"], df[\"y\"]))\n",
    "print(df2)\n"
   ]
  },
  {
   "cell_type": "code",
   "execution_count": 23,
   "metadata": {},
   "outputs": [
    {
     "name": "stdout",
     "output_type": "stream",
     "text": [
      "   x1  x2  y\n",
      "0  10   1  1\n",
      "1  10   2  1\n",
      "2  10   3  1\n",
      "3   1   1  0\n",
      "4   1   3  1\n"
     ]
    }
   ],
   "source": [
    "colname_d3 = ['x1', 'x2', 'y']\n",
    "df_d3 = pd.read_csv('data/D3leaves.txt', names= colname_d3, sep = ' ')\n",
    "print(df_d3)"
   ]
  },
  {
   "cell_type": "code",
   "execution_count": 24,
   "metadata": {},
   "outputs": [],
   "source": [
    "def max_info_gain(x, y, func = entropy):\n",
    "    options = x.sort_values().unique()\n",
    "    res = -1\n",
    "    split_value = -1000\n",
    "    num = 0\n",
    "    for value in options:\n",
    "        mask = x >= value\n",
    "        ig = info_gain_ratio(x, y, mask)\n",
    "        if ig is not None and ig > res: \n",
    "            res = ig\n",
    "            split_value = value\n",
    "            num = num + 1\n",
    "            #new \n",
    "            entro = entropy(mask)\n",
    "    if num == 0 or res == -1:\n",
    "        return (None, None, None, False)\n",
    "    else: \n",
    "        return(split_value, res, entro, True)"
   ]
  },
  {
   "cell_type": "code",
   "execution_count": 25,
   "metadata": {},
   "outputs": [
    {
     "name": "stderr",
     "output_type": "stream",
     "text": [
      "<ipython-input-20-4ef3c9c7f65a>:3: RuntimeWarning: invalid value encountered in double_scalars\n",
      "  return func(y, mask)/entropy(mask)\n",
      "<ipython-input-20-4ef3c9c7f65a>:3: RuntimeWarning: invalid value encountered in double_scalars\n",
      "  return func(y, mask)/entropy(mask)\n"
     ]
    },
    {
     "data": {
      "text/html": [
       "<div>\n",
       "<style scoped>\n",
       "    .dataframe tbody tr th:only-of-type {\n",
       "        vertical-align: middle;\n",
       "    }\n",
       "\n",
       "    .dataframe tbody tr th {\n",
       "        vertical-align: top;\n",
       "    }\n",
       "\n",
       "    .dataframe thead th {\n",
       "        text-align: right;\n",
       "    }\n",
       "</style>\n",
       "<table border=\"1\" class=\"dataframe\">\n",
       "  <thead>\n",
       "    <tr style=\"text-align: right;\">\n",
       "      <th></th>\n",
       "      <th>x1</th>\n",
       "      <th>x2</th>\n",
       "    </tr>\n",
       "  </thead>\n",
       "  <tbody>\n",
       "    <tr>\n",
       "      <th>0</th>\n",
       "      <td>0.1</td>\n",
       "      <td>8</td>\n",
       "    </tr>\n",
       "    <tr>\n",
       "      <th>1</th>\n",
       "      <td>0.100518</td>\n",
       "      <td>0.430157</td>\n",
       "    </tr>\n",
       "    <tr>\n",
       "      <th>2</th>\n",
       "      <td>0.439497</td>\n",
       "      <td>0.439497</td>\n",
       "    </tr>\n",
       "    <tr>\n",
       "      <th>3</th>\n",
       "      <td>True</td>\n",
       "      <td>True</td>\n",
       "    </tr>\n",
       "  </tbody>\n",
       "</table>\n",
       "</div>"
      ],
      "text/plain": [
       "         x1        x2\n",
       "0       0.1         8\n",
       "1  0.100518  0.430157\n",
       "2  0.439497  0.439497\n",
       "3      True      True"
      ]
     },
     "execution_count": 25,
     "metadata": {},
     "output_type": "execute_result"
    }
   ],
   "source": [
    "columns_name = ['x1', 'x2', 'y']\n",
    "df = pd.read_csv('data/Druns.txt', names = columns_name, sep = ' ')\n",
    "cu = df.drop('y', axis = 1).apply(max_info_gain, y = df['y'])\n",
    "cu"
   ]
  },
  {
   "cell_type": "code",
   "execution_count": 26,
   "metadata": {},
   "outputs": [],
   "source": [
    "def get_best_split(x, out):\n",
    "    try:\n",
    "        masks = x.drop(out, axis = 1).apply(max_info_gain, y = x[out])\n",
    "        if masks is None or len(masks) == 0 or np.sum(masks.loc[3, :]) == 0:\n",
    "            return (None, None, False, None)\n",
    "        else:\n",
    "            masks = masks.loc[:, masks.loc[3,:]]\n",
    "            masks = masks.apply(pd.to_numeric)\n",
    "            temporary = masks.idxmin(axis = 1)[2] #column name of the lowest entropy\n",
    "            #temporary2 = np.sum(masks.loc[2, :])\n",
    "            #if temporary2 == 0: #box has the lowest entropy\n",
    "            #    return (None, None, False, 0)\n",
    "            if masks[temporary][2]  < 0.001: #new\n",
    "                #return (None, None, False)\n",
    "                check = 1 #there is entropy == 0 #new\n",
    "                masks = masks.loc[:, masks.loc[2, :] == 0] #new, choose columns has entropy = 0 to split\n",
    "            else:\n",
    "                check = 0 #there is no entropy == 0 #new\n",
    "            masks['Max'] = masks.idxmax(axis = 1)\n",
    "            split_vari = masks.loc[1][-1]\n",
    "            split_value = masks[split_vari][0]\n",
    "            split_ig = masks[split_vari][1]\n",
    "        return(split_vari, split_value, split_ig, check)\n",
    "    except KeyError:\n",
    "        return (None, None, False, None)"
   ]
  },
  {
   "cell_type": "code",
   "execution_count": 27,
   "metadata": {},
   "outputs": [
    {
     "name": "stderr",
     "output_type": "stream",
     "text": [
      "<ipython-input-20-4ef3c9c7f65a>:3: RuntimeWarning: invalid value encountered in double_scalars\n",
      "  return func(y, mask)/entropy(mask)\n",
      "<ipython-input-20-4ef3c9c7f65a>:3: RuntimeWarning: invalid value encountered in double_scalars\n",
      "  return func(y, mask)/entropy(mask)\n"
     ]
    },
    {
     "data": {
      "text/html": [
       "<div>\n",
       "<style scoped>\n",
       "    .dataframe tbody tr th:only-of-type {\n",
       "        vertical-align: middle;\n",
       "    }\n",
       "\n",
       "    .dataframe tbody tr th {\n",
       "        vertical-align: top;\n",
       "    }\n",
       "\n",
       "    .dataframe thead th {\n",
       "        text-align: right;\n",
       "    }\n",
       "</style>\n",
       "<table border=\"1\" class=\"dataframe\">\n",
       "  <thead>\n",
       "    <tr style=\"text-align: right;\">\n",
       "      <th></th>\n",
       "      <th>x1</th>\n",
       "      <th>x2</th>\n",
       "    </tr>\n",
       "  </thead>\n",
       "  <tbody>\n",
       "    <tr>\n",
       "      <th>0</th>\n",
       "      <td>None</td>\n",
       "      <td>2</td>\n",
       "    </tr>\n",
       "    <tr>\n",
       "      <th>1</th>\n",
       "      <td>None</td>\n",
       "      <td>0.0</td>\n",
       "    </tr>\n",
       "    <tr>\n",
       "      <th>2</th>\n",
       "      <td>None</td>\n",
       "      <td>0.591673</td>\n",
       "    </tr>\n",
       "    <tr>\n",
       "      <th>3</th>\n",
       "      <td>False</td>\n",
       "      <td>True</td>\n",
       "    </tr>\n",
       "  </tbody>\n",
       "</table>\n",
       "</div>"
      ],
      "text/plain": [
       "      x1        x2\n",
       "0   None         2\n",
       "1   None       0.0\n",
       "2   None  0.591673\n",
       "3  False      True"
      ]
     },
     "execution_count": 27,
     "metadata": {},
     "output_type": "execute_result"
    }
   ],
   "source": [
    "test = pd.read_csv('data/2.2.txt', names= ['x1', 'x2', 'y'], sep = ' ')\n",
    "masks = test.drop('y', axis = 1).apply(max_info_gain, y = test['y'])\n",
    "masks"
   ]
  },
  {
   "cell_type": "code",
   "execution_count": 28,
   "metadata": {},
   "outputs": [
    {
     "name": "stderr",
     "output_type": "stream",
     "text": [
      "<ipython-input-20-4ef3c9c7f65a>:3: RuntimeWarning: invalid value encountered in double_scalars\n",
      "  return func(y, mask)/entropy(mask)\n",
      "<ipython-input-20-4ef3c9c7f65a>:3: RuntimeWarning: invalid value encountered in double_scalars\n",
      "  return func(y, mask)/entropy(mask)\n"
     ]
    },
    {
     "data": {
      "text/plain": [
       "('x2', 2.0, 0.0, 0)"
      ]
     },
     "execution_count": 28,
     "metadata": {},
     "output_type": "execute_result"
    }
   ],
   "source": [
    "get_best_split(test, 'y')"
   ]
  },
  {
   "cell_type": "code",
   "execution_count": 29,
   "metadata": {},
   "outputs": [],
   "source": [
    "def make_split(vari, value, data):\n",
    "    data1 = data[data[vari] >= value]\n",
    "    data2 = data[data[vari] < value]\n",
    "    return data1, data2"
   ]
  },
  {
   "cell_type": "code",
   "execution_count": 30,
   "metadata": {},
   "outputs": [
    {
     "data": {
      "text/plain": [
       "(   x1  x2  y\n",
       " 0   5   1  1\n",
       " 1   5   2  1\n",
       " 2   5   3  1\n",
       " 3   5   4  1\n",
       " 4   5   5  1\n",
       " 5   5   6  1\n",
       " 6   5   7  1,\n",
       " Empty DataFrame\n",
       " Columns: [x1, x2, y]\n",
       " Index: [])"
      ]
     },
     "execution_count": 30,
     "metadata": {},
     "output_type": "execute_result"
    }
   ],
   "source": [
    "make_split('x1', 5.0, test)"
   ]
  },
  {
   "cell_type": "code",
   "execution_count": 31,
   "metadata": {},
   "outputs": [],
   "source": [
    "def make_pred(data):\n",
    "    return data.value_counts().idxmax()"
   ]
  },
  {
   "cell_type": "code",
   "execution_count": 32,
   "metadata": {},
   "outputs": [],
   "source": [
    "def train_tree(data, y, max_depth = None, counter = 0):\n",
    "    var, val, ig, check = get_best_split(data, y)\n",
    "    if max_depth != None and counter >= max_depth:\n",
    "        return make_pred(data[y])\n",
    "    if ig is not None and ig != 0 and len(data) != 0:\n",
    "        counter = counter + 1\n",
    "        left, right = make_split(var, val, data)\n",
    "        split_type = \">=\"\n",
    "        question = \"{} {}  {}\".format(var, split_type, val)\n",
    "        subtree = {question: []}\n",
    "        if check == 1: #new\n",
    "            a = make_pred(left[y]) #new\n",
    "            b = make_pred(right[y]) #new\n",
    "            subtree[question].append(a) #new\n",
    "            subtree[question].append(b) #new\n",
    "            return subtree \n",
    "        yes_ans = train_tree(left, y, max_depth, counter) \n",
    "        no_ans = train_tree(right, y, max_depth, counter)\n",
    "        if yes_ans == no_ans:\n",
    "            subtree = yes_ans #new subtree\n",
    "        else:\n",
    "            subtree[question].append(yes_ans)\n",
    "            subtree[question].append(no_ans)\n",
    "    else:\n",
    "        return make_pred(data[y])\n",
    "    return subtree"
   ]
  },
  {
   "cell_type": "code",
   "execution_count": 33,
   "metadata": {},
   "outputs": [],
   "source": [
    "def classi_pred(observaction, side):\n",
    "    quest_key = next(iter(side.keys())) #get the first key, or the first question\n",
    "    vari = quest_key.split()[0] #choose what variables to compare\n",
    "    if isinstance(observaction, pd.Series):\n",
    "        if observaction[vari] >= float(quest_key.split()[2]):\n",
    "            answer = side[quest_key][0]\n",
    "        else:\n",
    "            answer = side[quest_key][1]\n",
    "    if isinstance(observaction, list):\n",
    "        if vari == 'x1':\n",
    "            index = 0\n",
    "        else:\n",
    "            index = 1\n",
    "        if observaction[index] >= float(quest_key.split()[2]):\n",
    "            answer = side[quest_key][0]\n",
    "        else:\n",
    "            answer = side[quest_key][1]\n",
    "    #base case: if the answer is not a dict\n",
    "    if not isinstance(answer, dict):\n",
    "        return answer\n",
    "    else:\n",
    "        return classi_pred(observaction, answer) #go to the side of condition"
   ]
  },
  {
   "cell_type": "code",
   "execution_count": 34,
   "metadata": {},
   "outputs": [
    {
     "name": "stderr",
     "output_type": "stream",
     "text": [
      "<ipython-input-20-4ef3c9c7f65a>:3: RuntimeWarning: invalid value encountered in double_scalars\n",
      "  return func(y, mask)/entropy(mask)\n",
      "<ipython-input-20-4ef3c9c7f65a>:3: RuntimeWarning: invalid value encountered in double_scalars\n",
      "  return func(y, mask)/entropy(mask)\n",
      "<ipython-input-20-4ef3c9c7f65a>:3: RuntimeWarning: invalid value encountered in double_scalars\n",
      "  return func(y, mask)/entropy(mask)\n",
      "<ipython-input-20-4ef3c9c7f65a>:3: RuntimeWarning: invalid value encountered in double_scalars\n",
      "  return func(y, mask)/entropy(mask)\n",
      "<ipython-input-20-4ef3c9c7f65a>:3: RuntimeWarning: invalid value encountered in double_scalars\n",
      "  return func(y, mask)/entropy(mask)\n",
      "<ipython-input-20-4ef3c9c7f65a>:3: RuntimeWarning: invalid value encountered in double_scalars\n",
      "  return func(y, mask)/entropy(mask)\n",
      "<ipython-input-20-4ef3c9c7f65a>:3: RuntimeWarning: invalid value encountered in double_scalars\n",
      "  return func(y, mask)/entropy(mask)\n",
      "<ipython-input-20-4ef3c9c7f65a>:3: RuntimeWarning: invalid value encountered in double_scalars\n",
      "  return func(y, mask)/entropy(mask)\n",
      "<ipython-input-20-4ef3c9c7f65a>:3: RuntimeWarning: invalid value encountered in double_scalars\n",
      "  return func(y, mask)/entropy(mask)\n",
      "<ipython-input-20-4ef3c9c7f65a>:3: RuntimeWarning: invalid value encountered in double_scalars\n",
      "  return func(y, mask)/entropy(mask)\n"
     ]
    }
   ],
   "source": [
    "d3_tree = train_tree(df_d3, 'y')"
   ]
  },
  {
   "cell_type": "code",
   "execution_count": 35,
   "metadata": {},
   "outputs": [
    {
     "data": {
      "text/plain": [
       "{'x1 >=  10.0': [1, {'x2 >=  3': [1, 0]}]}"
      ]
     },
     "execution_count": 35,
     "metadata": {},
     "output_type": "execute_result"
    }
   ],
   "source": [
    "d3_tree"
   ]
  },
  {
   "cell_type": "code",
   "execution_count": 36,
   "metadata": {},
   "outputs": [
    {
     "name": "stderr",
     "output_type": "stream",
     "text": [
      "<ipython-input-20-4ef3c9c7f65a>:3: RuntimeWarning: invalid value encountered in double_scalars\n",
      "  return func(y, mask)/entropy(mask)\n",
      "<ipython-input-20-4ef3c9c7f65a>:3: RuntimeWarning: invalid value encountered in double_scalars\n",
      "  return func(y, mask)/entropy(mask)\n",
      "<ipython-input-20-4ef3c9c7f65a>:3: RuntimeWarning: invalid value encountered in double_scalars\n",
      "  return func(y, mask)/entropy(mask)\n"
     ]
    },
    {
     "ename": "KeyboardInterrupt",
     "evalue": "",
     "output_type": "error",
     "traceback": [
      "\u001b[1;31m---------------------------------------------------------------------------\u001b[0m",
      "\u001b[1;31mKeyboardInterrupt\u001b[0m                         Traceback (most recent call last)",
      "\u001b[1;32m<ipython-input-36-e1ce08a585b9>\u001b[0m in \u001b[0;36m<module>\u001b[1;34m\u001b[0m\n\u001b[0;32m      1\u001b[0m \u001b[0mdf_d1\u001b[0m \u001b[1;33m=\u001b[0m \u001b[0mpd\u001b[0m\u001b[1;33m.\u001b[0m\u001b[0mread_csv\u001b[0m\u001b[1;33m(\u001b[0m\u001b[1;34m'data/D1.txt'\u001b[0m\u001b[1;33m,\u001b[0m \u001b[0mnames\u001b[0m \u001b[1;33m=\u001b[0m \u001b[0mcolname_d3\u001b[0m\u001b[1;33m,\u001b[0m \u001b[0msep\u001b[0m \u001b[1;33m=\u001b[0m \u001b[1;34m\" \"\u001b[0m\u001b[1;33m)\u001b[0m\u001b[1;33m\u001b[0m\u001b[1;33m\u001b[0m\u001b[0m\n\u001b[1;32m----> 2\u001b[1;33m \u001b[0md1_tree\u001b[0m \u001b[1;33m=\u001b[0m \u001b[0mtrain_tree\u001b[0m\u001b[1;33m(\u001b[0m\u001b[0mdf_d1\u001b[0m\u001b[1;33m,\u001b[0m\u001b[1;34m'y'\u001b[0m\u001b[1;33m)\u001b[0m\u001b[1;33m\u001b[0m\u001b[1;33m\u001b[0m\u001b[0m\n\u001b[0m\u001b[0;32m      3\u001b[0m \u001b[0md1_tree\u001b[0m\u001b[1;33m\u001b[0m\u001b[1;33m\u001b[0m\u001b[0m\n",
      "\u001b[1;32m<ipython-input-32-8c49f3e7f8c2>\u001b[0m in \u001b[0;36mtrain_tree\u001b[1;34m(data, y, max_depth, counter)\u001b[0m\n\u001b[0;32m     15\u001b[0m             \u001b[0msubtree\u001b[0m\u001b[1;33m[\u001b[0m\u001b[0mquestion\u001b[0m\u001b[1;33m]\u001b[0m\u001b[1;33m.\u001b[0m\u001b[0mappend\u001b[0m\u001b[1;33m(\u001b[0m\u001b[0mb\u001b[0m\u001b[1;33m)\u001b[0m \u001b[1;31m#new\u001b[0m\u001b[1;33m\u001b[0m\u001b[1;33m\u001b[0m\u001b[0m\n\u001b[0;32m     16\u001b[0m             \u001b[1;32mreturn\u001b[0m \u001b[0msubtree\u001b[0m\u001b[1;33m\u001b[0m\u001b[1;33m\u001b[0m\u001b[0m\n\u001b[1;32m---> 17\u001b[1;33m         \u001b[0myes_ans\u001b[0m \u001b[1;33m=\u001b[0m \u001b[0mtrain_tree\u001b[0m\u001b[1;33m(\u001b[0m\u001b[0mleft\u001b[0m\u001b[1;33m,\u001b[0m \u001b[0my\u001b[0m\u001b[1;33m,\u001b[0m \u001b[0mmax_depth\u001b[0m\u001b[1;33m,\u001b[0m \u001b[0mcounter\u001b[0m\u001b[1;33m)\u001b[0m\u001b[1;33m\u001b[0m\u001b[1;33m\u001b[0m\u001b[0m\n\u001b[0m\u001b[0;32m     18\u001b[0m         \u001b[0mno_ans\u001b[0m \u001b[1;33m=\u001b[0m \u001b[0mtrain_tree\u001b[0m\u001b[1;33m(\u001b[0m\u001b[0mright\u001b[0m\u001b[1;33m,\u001b[0m \u001b[0my\u001b[0m\u001b[1;33m,\u001b[0m \u001b[0mmax_depth\u001b[0m\u001b[1;33m,\u001b[0m \u001b[0mcounter\u001b[0m\u001b[1;33m)\u001b[0m\u001b[1;33m\u001b[0m\u001b[1;33m\u001b[0m\u001b[0m\n\u001b[0;32m     19\u001b[0m         \u001b[1;32mif\u001b[0m \u001b[0myes_ans\u001b[0m \u001b[1;33m==\u001b[0m \u001b[0mno_ans\u001b[0m\u001b[1;33m:\u001b[0m\u001b[1;33m\u001b[0m\u001b[1;33m\u001b[0m\u001b[0m\n",
      "\u001b[1;32m<ipython-input-32-8c49f3e7f8c2>\u001b[0m in \u001b[0;36mtrain_tree\u001b[1;34m(data, y, max_depth, counter)\u001b[0m\n\u001b[0;32m      1\u001b[0m \u001b[1;32mdef\u001b[0m \u001b[0mtrain_tree\u001b[0m\u001b[1;33m(\u001b[0m\u001b[0mdata\u001b[0m\u001b[1;33m,\u001b[0m \u001b[0my\u001b[0m\u001b[1;33m,\u001b[0m \u001b[0mmax_depth\u001b[0m \u001b[1;33m=\u001b[0m \u001b[1;32mNone\u001b[0m\u001b[1;33m,\u001b[0m \u001b[0mcounter\u001b[0m \u001b[1;33m=\u001b[0m \u001b[1;36m0\u001b[0m\u001b[1;33m)\u001b[0m\u001b[1;33m:\u001b[0m\u001b[1;33m\u001b[0m\u001b[1;33m\u001b[0m\u001b[0m\n\u001b[1;32m----> 2\u001b[1;33m     \u001b[0mvar\u001b[0m\u001b[1;33m,\u001b[0m \u001b[0mval\u001b[0m\u001b[1;33m,\u001b[0m \u001b[0mig\u001b[0m\u001b[1;33m,\u001b[0m \u001b[0mcheck\u001b[0m \u001b[1;33m=\u001b[0m \u001b[0mget_best_split\u001b[0m\u001b[1;33m(\u001b[0m\u001b[0mdata\u001b[0m\u001b[1;33m,\u001b[0m \u001b[0my\u001b[0m\u001b[1;33m)\u001b[0m\u001b[1;33m\u001b[0m\u001b[1;33m\u001b[0m\u001b[0m\n\u001b[0m\u001b[0;32m      3\u001b[0m     \u001b[1;32mif\u001b[0m \u001b[0mmax_depth\u001b[0m \u001b[1;33m!=\u001b[0m \u001b[1;32mNone\u001b[0m \u001b[1;32mand\u001b[0m \u001b[0mcounter\u001b[0m \u001b[1;33m>=\u001b[0m \u001b[0mmax_depth\u001b[0m\u001b[1;33m:\u001b[0m\u001b[1;33m\u001b[0m\u001b[1;33m\u001b[0m\u001b[0m\n\u001b[0;32m      4\u001b[0m         \u001b[1;32mreturn\u001b[0m \u001b[0mmake_pred\u001b[0m\u001b[1;33m(\u001b[0m\u001b[0mdata\u001b[0m\u001b[1;33m[\u001b[0m\u001b[0my\u001b[0m\u001b[1;33m]\u001b[0m\u001b[1;33m)\u001b[0m\u001b[1;33m\u001b[0m\u001b[1;33m\u001b[0m\u001b[0m\n\u001b[0;32m      5\u001b[0m     \u001b[1;32mif\u001b[0m \u001b[0mig\u001b[0m \u001b[1;32mis\u001b[0m \u001b[1;32mnot\u001b[0m \u001b[1;32mNone\u001b[0m \u001b[1;32mand\u001b[0m \u001b[0mig\u001b[0m \u001b[1;33m!=\u001b[0m \u001b[1;36m0\u001b[0m \u001b[1;32mand\u001b[0m \u001b[0mlen\u001b[0m\u001b[1;33m(\u001b[0m\u001b[0mdata\u001b[0m\u001b[1;33m)\u001b[0m \u001b[1;33m!=\u001b[0m \u001b[1;36m0\u001b[0m\u001b[1;33m:\u001b[0m\u001b[1;33m\u001b[0m\u001b[1;33m\u001b[0m\u001b[0m\n",
      "\u001b[1;32m<ipython-input-26-fd6cd96d92d7>\u001b[0m in \u001b[0;36mget_best_split\u001b[1;34m(x, out)\u001b[0m\n\u001b[0;32m      1\u001b[0m \u001b[1;32mdef\u001b[0m \u001b[0mget_best_split\u001b[0m\u001b[1;33m(\u001b[0m\u001b[0mx\u001b[0m\u001b[1;33m,\u001b[0m \u001b[0mout\u001b[0m\u001b[1;33m)\u001b[0m\u001b[1;33m:\u001b[0m\u001b[1;33m\u001b[0m\u001b[1;33m\u001b[0m\u001b[0m\n\u001b[0;32m      2\u001b[0m     \u001b[1;32mtry\u001b[0m\u001b[1;33m:\u001b[0m\u001b[1;33m\u001b[0m\u001b[1;33m\u001b[0m\u001b[0m\n\u001b[1;32m----> 3\u001b[1;33m         \u001b[0mmasks\u001b[0m \u001b[1;33m=\u001b[0m \u001b[0mx\u001b[0m\u001b[1;33m.\u001b[0m\u001b[0mdrop\u001b[0m\u001b[1;33m(\u001b[0m\u001b[0mout\u001b[0m\u001b[1;33m,\u001b[0m \u001b[0maxis\u001b[0m \u001b[1;33m=\u001b[0m \u001b[1;36m1\u001b[0m\u001b[1;33m)\u001b[0m\u001b[1;33m.\u001b[0m\u001b[0mapply\u001b[0m\u001b[1;33m(\u001b[0m\u001b[0mmax_info_gain\u001b[0m\u001b[1;33m,\u001b[0m \u001b[0my\u001b[0m \u001b[1;33m=\u001b[0m \u001b[0mx\u001b[0m\u001b[1;33m[\u001b[0m\u001b[0mout\u001b[0m\u001b[1;33m]\u001b[0m\u001b[1;33m)\u001b[0m\u001b[1;33m\u001b[0m\u001b[1;33m\u001b[0m\u001b[0m\n\u001b[0m\u001b[0;32m      4\u001b[0m         \u001b[1;32mif\u001b[0m \u001b[0mmasks\u001b[0m \u001b[1;32mis\u001b[0m \u001b[1;32mNone\u001b[0m \u001b[1;32mor\u001b[0m \u001b[0mlen\u001b[0m\u001b[1;33m(\u001b[0m\u001b[0mmasks\u001b[0m\u001b[1;33m)\u001b[0m \u001b[1;33m==\u001b[0m \u001b[1;36m0\u001b[0m \u001b[1;32mor\u001b[0m \u001b[0mnp\u001b[0m\u001b[1;33m.\u001b[0m\u001b[0msum\u001b[0m\u001b[1;33m(\u001b[0m\u001b[0mmasks\u001b[0m\u001b[1;33m.\u001b[0m\u001b[0mloc\u001b[0m\u001b[1;33m[\u001b[0m\u001b[1;36m3\u001b[0m\u001b[1;33m,\u001b[0m \u001b[1;33m:\u001b[0m\u001b[1;33m]\u001b[0m\u001b[1;33m)\u001b[0m \u001b[1;33m==\u001b[0m \u001b[1;36m0\u001b[0m\u001b[1;33m:\u001b[0m\u001b[1;33m\u001b[0m\u001b[1;33m\u001b[0m\u001b[0m\n\u001b[0;32m      5\u001b[0m             \u001b[1;32mreturn\u001b[0m \u001b[1;33m(\u001b[0m\u001b[1;32mNone\u001b[0m\u001b[1;33m,\u001b[0m \u001b[1;32mNone\u001b[0m\u001b[1;33m,\u001b[0m \u001b[1;32mFalse\u001b[0m\u001b[1;33m,\u001b[0m \u001b[1;32mNone\u001b[0m\u001b[1;33m)\u001b[0m\u001b[1;33m\u001b[0m\u001b[1;33m\u001b[0m\u001b[0m\n",
      "\u001b[1;32mc:\\Users\\thong\\anaconda3\\lib\\site-packages\\pandas\\core\\frame.py\u001b[0m in \u001b[0;36mapply\u001b[1;34m(self, func, axis, raw, result_type, args, **kwds)\u001b[0m\n\u001b[0;32m   7766\u001b[0m             \u001b[0mkwds\u001b[0m\u001b[1;33m=\u001b[0m\u001b[0mkwds\u001b[0m\u001b[1;33m,\u001b[0m\u001b[1;33m\u001b[0m\u001b[1;33m\u001b[0m\u001b[0m\n\u001b[0;32m   7767\u001b[0m         )\n\u001b[1;32m-> 7768\u001b[1;33m         \u001b[1;32mreturn\u001b[0m \u001b[0mop\u001b[0m\u001b[1;33m.\u001b[0m\u001b[0mget_result\u001b[0m\u001b[1;33m(\u001b[0m\u001b[1;33m)\u001b[0m\u001b[1;33m\u001b[0m\u001b[1;33m\u001b[0m\u001b[0m\n\u001b[0m\u001b[0;32m   7769\u001b[0m \u001b[1;33m\u001b[0m\u001b[0m\n\u001b[0;32m   7770\u001b[0m     \u001b[1;32mdef\u001b[0m \u001b[0mapplymap\u001b[0m\u001b[1;33m(\u001b[0m\u001b[0mself\u001b[0m\u001b[1;33m,\u001b[0m \u001b[0mfunc\u001b[0m\u001b[1;33m,\u001b[0m \u001b[0mna_action\u001b[0m\u001b[1;33m:\u001b[0m \u001b[0mOptional\u001b[0m\u001b[1;33m[\u001b[0m\u001b[0mstr\u001b[0m\u001b[1;33m]\u001b[0m \u001b[1;33m=\u001b[0m \u001b[1;32mNone\u001b[0m\u001b[1;33m)\u001b[0m \u001b[1;33m->\u001b[0m \u001b[0mDataFrame\u001b[0m\u001b[1;33m:\u001b[0m\u001b[1;33m\u001b[0m\u001b[1;33m\u001b[0m\u001b[0m\n",
      "\u001b[1;32mc:\\Users\\thong\\anaconda3\\lib\\site-packages\\pandas\\core\\apply.py\u001b[0m in \u001b[0;36mget_result\u001b[1;34m(self)\u001b[0m\n\u001b[0;32m    183\u001b[0m             \u001b[1;32mreturn\u001b[0m \u001b[0mself\u001b[0m\u001b[1;33m.\u001b[0m\u001b[0mapply_raw\u001b[0m\u001b[1;33m(\u001b[0m\u001b[1;33m)\u001b[0m\u001b[1;33m\u001b[0m\u001b[1;33m\u001b[0m\u001b[0m\n\u001b[0;32m    184\u001b[0m \u001b[1;33m\u001b[0m\u001b[0m\n\u001b[1;32m--> 185\u001b[1;33m         \u001b[1;32mreturn\u001b[0m \u001b[0mself\u001b[0m\u001b[1;33m.\u001b[0m\u001b[0mapply_standard\u001b[0m\u001b[1;33m(\u001b[0m\u001b[1;33m)\u001b[0m\u001b[1;33m\u001b[0m\u001b[1;33m\u001b[0m\u001b[0m\n\u001b[0m\u001b[0;32m    186\u001b[0m \u001b[1;33m\u001b[0m\u001b[0m\n\u001b[0;32m    187\u001b[0m     \u001b[1;32mdef\u001b[0m \u001b[0mapply_empty_result\u001b[0m\u001b[1;33m(\u001b[0m\u001b[0mself\u001b[0m\u001b[1;33m)\u001b[0m\u001b[1;33m:\u001b[0m\u001b[1;33m\u001b[0m\u001b[1;33m\u001b[0m\u001b[0m\n",
      "\u001b[1;32mc:\\Users\\thong\\anaconda3\\lib\\site-packages\\pandas\\core\\apply.py\u001b[0m in \u001b[0;36mapply_standard\u001b[1;34m(self)\u001b[0m\n\u001b[0;32m    274\u001b[0m \u001b[1;33m\u001b[0m\u001b[0m\n\u001b[0;32m    275\u001b[0m     \u001b[1;32mdef\u001b[0m \u001b[0mapply_standard\u001b[0m\u001b[1;33m(\u001b[0m\u001b[0mself\u001b[0m\u001b[1;33m)\u001b[0m\u001b[1;33m:\u001b[0m\u001b[1;33m\u001b[0m\u001b[1;33m\u001b[0m\u001b[0m\n\u001b[1;32m--> 276\u001b[1;33m         \u001b[0mresults\u001b[0m\u001b[1;33m,\u001b[0m \u001b[0mres_index\u001b[0m \u001b[1;33m=\u001b[0m \u001b[0mself\u001b[0m\u001b[1;33m.\u001b[0m\u001b[0mapply_series_generator\u001b[0m\u001b[1;33m(\u001b[0m\u001b[1;33m)\u001b[0m\u001b[1;33m\u001b[0m\u001b[1;33m\u001b[0m\u001b[0m\n\u001b[0m\u001b[0;32m    277\u001b[0m \u001b[1;33m\u001b[0m\u001b[0m\n\u001b[0;32m    278\u001b[0m         \u001b[1;31m# wrap results\u001b[0m\u001b[1;33m\u001b[0m\u001b[1;33m\u001b[0m\u001b[1;33m\u001b[0m\u001b[0m\n",
      "\u001b[1;32mc:\\Users\\thong\\anaconda3\\lib\\site-packages\\pandas\\core\\apply.py\u001b[0m in \u001b[0;36mapply_series_generator\u001b[1;34m(self)\u001b[0m\n\u001b[0;32m    288\u001b[0m             \u001b[1;32mfor\u001b[0m \u001b[0mi\u001b[0m\u001b[1;33m,\u001b[0m \u001b[0mv\u001b[0m \u001b[1;32min\u001b[0m \u001b[0menumerate\u001b[0m\u001b[1;33m(\u001b[0m\u001b[0mseries_gen\u001b[0m\u001b[1;33m)\u001b[0m\u001b[1;33m:\u001b[0m\u001b[1;33m\u001b[0m\u001b[1;33m\u001b[0m\u001b[0m\n\u001b[0;32m    289\u001b[0m                 \u001b[1;31m# ignore SettingWithCopy here in case the user mutates\u001b[0m\u001b[1;33m\u001b[0m\u001b[1;33m\u001b[0m\u001b[1;33m\u001b[0m\u001b[0m\n\u001b[1;32m--> 290\u001b[1;33m                 \u001b[0mresults\u001b[0m\u001b[1;33m[\u001b[0m\u001b[0mi\u001b[0m\u001b[1;33m]\u001b[0m \u001b[1;33m=\u001b[0m \u001b[0mself\u001b[0m\u001b[1;33m.\u001b[0m\u001b[0mf\u001b[0m\u001b[1;33m(\u001b[0m\u001b[0mv\u001b[0m\u001b[1;33m)\u001b[0m\u001b[1;33m\u001b[0m\u001b[1;33m\u001b[0m\u001b[0m\n\u001b[0m\u001b[0;32m    291\u001b[0m                 \u001b[1;32mif\u001b[0m \u001b[0misinstance\u001b[0m\u001b[1;33m(\u001b[0m\u001b[0mresults\u001b[0m\u001b[1;33m[\u001b[0m\u001b[0mi\u001b[0m\u001b[1;33m]\u001b[0m\u001b[1;33m,\u001b[0m \u001b[0mABCSeries\u001b[0m\u001b[1;33m)\u001b[0m\u001b[1;33m:\u001b[0m\u001b[1;33m\u001b[0m\u001b[1;33m\u001b[0m\u001b[0m\n\u001b[0;32m    292\u001b[0m                     \u001b[1;31m# If we have a view on v, we need to make a copy because\u001b[0m\u001b[1;33m\u001b[0m\u001b[1;33m\u001b[0m\u001b[1;33m\u001b[0m\u001b[0m\n",
      "\u001b[1;32mc:\\Users\\thong\\anaconda3\\lib\\site-packages\\pandas\\core\\apply.py\u001b[0m in \u001b[0;36mf\u001b[1;34m(x)\u001b[0m\n\u001b[0;32m    108\u001b[0m \u001b[1;33m\u001b[0m\u001b[0m\n\u001b[0;32m    109\u001b[0m             \u001b[1;32mdef\u001b[0m \u001b[0mf\u001b[0m\u001b[1;33m(\u001b[0m\u001b[0mx\u001b[0m\u001b[1;33m)\u001b[0m\u001b[1;33m:\u001b[0m\u001b[1;33m\u001b[0m\u001b[1;33m\u001b[0m\u001b[0m\n\u001b[1;32m--> 110\u001b[1;33m                 \u001b[1;32mreturn\u001b[0m \u001b[0mfunc\u001b[0m\u001b[1;33m(\u001b[0m\u001b[0mx\u001b[0m\u001b[1;33m,\u001b[0m \u001b[1;33m*\u001b[0m\u001b[0margs\u001b[0m\u001b[1;33m,\u001b[0m \u001b[1;33m**\u001b[0m\u001b[0mkwds\u001b[0m\u001b[1;33m)\u001b[0m\u001b[1;33m\u001b[0m\u001b[1;33m\u001b[0m\u001b[0m\n\u001b[0m\u001b[0;32m    111\u001b[0m \u001b[1;33m\u001b[0m\u001b[0m\n\u001b[0;32m    112\u001b[0m         \u001b[1;32melse\u001b[0m\u001b[1;33m:\u001b[0m\u001b[1;33m\u001b[0m\u001b[1;33m\u001b[0m\u001b[0m\n",
      "\u001b[1;32m<ipython-input-24-6cebdbb73893>\u001b[0m in \u001b[0;36mmax_info_gain\u001b[1;34m(x, y, func)\u001b[0m\n\u001b[0;32m      6\u001b[0m     \u001b[1;32mfor\u001b[0m \u001b[0mvalue\u001b[0m \u001b[1;32min\u001b[0m \u001b[0moptions\u001b[0m\u001b[1;33m:\u001b[0m\u001b[1;33m\u001b[0m\u001b[1;33m\u001b[0m\u001b[0m\n\u001b[0;32m      7\u001b[0m         \u001b[0mmask\u001b[0m \u001b[1;33m=\u001b[0m \u001b[0mx\u001b[0m \u001b[1;33m>=\u001b[0m \u001b[0mvalue\u001b[0m\u001b[1;33m\u001b[0m\u001b[1;33m\u001b[0m\u001b[0m\n\u001b[1;32m----> 8\u001b[1;33m         \u001b[0mig\u001b[0m \u001b[1;33m=\u001b[0m \u001b[0minfo_gain_ratio\u001b[0m\u001b[1;33m(\u001b[0m\u001b[0mx\u001b[0m\u001b[1;33m,\u001b[0m \u001b[0my\u001b[0m\u001b[1;33m,\u001b[0m \u001b[0mmask\u001b[0m\u001b[1;33m)\u001b[0m\u001b[1;33m\u001b[0m\u001b[1;33m\u001b[0m\u001b[0m\n\u001b[0m\u001b[0;32m      9\u001b[0m         \u001b[1;32mif\u001b[0m \u001b[0mig\u001b[0m \u001b[1;32mis\u001b[0m \u001b[1;32mnot\u001b[0m \u001b[1;32mNone\u001b[0m \u001b[1;32mand\u001b[0m \u001b[0mig\u001b[0m \u001b[1;33m>\u001b[0m \u001b[0mres\u001b[0m\u001b[1;33m:\u001b[0m\u001b[1;33m\u001b[0m\u001b[1;33m\u001b[0m\u001b[0m\n\u001b[0;32m     10\u001b[0m             \u001b[0mres\u001b[0m \u001b[1;33m=\u001b[0m \u001b[0mig\u001b[0m\u001b[1;33m\u001b[0m\u001b[1;33m\u001b[0m\u001b[0m\n",
      "\u001b[1;32m<ipython-input-20-4ef3c9c7f65a>\u001b[0m in \u001b[0;36minfo_gain_ratio\u001b[1;34m(col, y, mask, func)\u001b[0m\n\u001b[0;32m      1\u001b[0m \u001b[1;32mdef\u001b[0m \u001b[0minfo_gain_ratio\u001b[0m\u001b[1;33m(\u001b[0m\u001b[0mcol\u001b[0m\u001b[1;33m,\u001b[0m \u001b[0my\u001b[0m\u001b[1;33m,\u001b[0m \u001b[0mmask\u001b[0m\u001b[1;33m,\u001b[0m \u001b[0mfunc\u001b[0m \u001b[1;33m=\u001b[0m \u001b[0minfo_gain\u001b[0m\u001b[1;33m)\u001b[0m\u001b[1;33m:\u001b[0m\u001b[1;33m\u001b[0m\u001b[1;33m\u001b[0m\u001b[0m\n\u001b[0;32m      2\u001b[0m     \u001b[1;32mif\u001b[0m \u001b[0mentropy\u001b[0m \u001b[1;33m!=\u001b[0m \u001b[1;36m0\u001b[0m\u001b[1;33m:\u001b[0m\u001b[1;33m\u001b[0m\u001b[1;33m\u001b[0m\u001b[0m\n\u001b[1;32m----> 3\u001b[1;33m         \u001b[1;32mreturn\u001b[0m \u001b[0mfunc\u001b[0m\u001b[1;33m(\u001b[0m\u001b[0my\u001b[0m\u001b[1;33m,\u001b[0m \u001b[0mmask\u001b[0m\u001b[1;33m)\u001b[0m\u001b[1;33m/\u001b[0m\u001b[0mentropy\u001b[0m\u001b[1;33m(\u001b[0m\u001b[0mmask\u001b[0m\u001b[1;33m)\u001b[0m\u001b[1;33m\u001b[0m\u001b[1;33m\u001b[0m\u001b[0m\n\u001b[0m\u001b[0;32m      4\u001b[0m     \u001b[1;32mreturn\u001b[0m \u001b[1;32mNone\u001b[0m\u001b[1;33m\u001b[0m\u001b[1;33m\u001b[0m\u001b[0m\n",
      "\u001b[1;32m<ipython-input-19-4fb432eb3a2b>\u001b[0m in \u001b[0;36minfo_gain\u001b[1;34m(y, mask, func)\u001b[0m\n\u001b[0;32m      5\u001b[0m         \u001b[1;32mreturn\u001b[0m \u001b[1;36m0\u001b[0m\u001b[1;33m\u001b[0m\u001b[1;33m\u001b[0m\u001b[0m\n\u001b[0;32m      6\u001b[0m     \u001b[1;32melse\u001b[0m\u001b[1;33m:\u001b[0m\u001b[1;33m\u001b[0m\u001b[1;33m\u001b[0m\u001b[0m\n\u001b[1;32m----> 7\u001b[1;33m         \u001b[1;32mreturn\u001b[0m \u001b[0mfunc\u001b[0m\u001b[1;33m(\u001b[0m\u001b[0my\u001b[0m\u001b[1;33m)\u001b[0m \u001b[1;33m-\u001b[0m \u001b[1;33m(\u001b[0m\u001b[0mfunc\u001b[0m\u001b[1;33m(\u001b[0m\u001b[0my\u001b[0m\u001b[1;33m[\u001b[0m\u001b[0mmask\u001b[0m\u001b[1;33m]\u001b[0m\u001b[1;33m)\u001b[0m\u001b[1;33m*\u001b[0m\u001b[0ma\u001b[0m\u001b[1;33m/\u001b[0m\u001b[1;33m(\u001b[0m\u001b[0ma\u001b[0m\u001b[1;33m+\u001b[0m\u001b[0mb\u001b[0m\u001b[1;33m)\u001b[0m \u001b[1;33m+\u001b[0m \u001b[0mfunc\u001b[0m\u001b[1;33m(\u001b[0m\u001b[0my\u001b[0m\u001b[1;33m[\u001b[0m\u001b[1;33m-\u001b[0m\u001b[0mmask\u001b[0m\u001b[1;33m]\u001b[0m\u001b[1;33m)\u001b[0m\u001b[1;33m*\u001b[0m\u001b[0mb\u001b[0m\u001b[1;33m/\u001b[0m\u001b[1;33m(\u001b[0m\u001b[0ma\u001b[0m\u001b[1;33m+\u001b[0m\u001b[0mb\u001b[0m\u001b[1;33m)\u001b[0m\u001b[1;33m)\u001b[0m\u001b[1;33m\u001b[0m\u001b[1;33m\u001b[0m\u001b[0m\n\u001b[0m",
      "\u001b[1;32m<ipython-input-18-8d9c5327cbd3>\u001b[0m in \u001b[0;36mentropy\u001b[1;34m(y)\u001b[0m\n\u001b[0;32m      1\u001b[0m \u001b[1;32mdef\u001b[0m \u001b[0mentropy\u001b[0m\u001b[1;33m(\u001b[0m\u001b[0my\u001b[0m\u001b[1;33m)\u001b[0m\u001b[1;33m:\u001b[0m\u001b[1;33m\u001b[0m\u001b[1;33m\u001b[0m\u001b[0m\n\u001b[1;32m----> 2\u001b[1;33m     \u001b[0mprob\u001b[0m \u001b[1;33m=\u001b[0m \u001b[0my\u001b[0m\u001b[1;33m.\u001b[0m\u001b[0mvalue_counts\u001b[0m\u001b[1;33m(\u001b[0m\u001b[1;33m)\u001b[0m\u001b[1;33m/\u001b[0m\u001b[0my\u001b[0m\u001b[1;33m.\u001b[0m\u001b[0mshape\u001b[0m\u001b[1;33m[\u001b[0m\u001b[1;36m0\u001b[0m\u001b[1;33m]\u001b[0m\u001b[1;33m\u001b[0m\u001b[1;33m\u001b[0m\u001b[0m\n\u001b[0m\u001b[0;32m      3\u001b[0m     \u001b[0mentropy\u001b[0m \u001b[1;33m=\u001b[0m \u001b[0mnp\u001b[0m\u001b[1;33m.\u001b[0m\u001b[0msum\u001b[0m\u001b[1;33m(\u001b[0m\u001b[1;33m-\u001b[0m\u001b[0mprob\u001b[0m\u001b[1;33m*\u001b[0m\u001b[0mnp\u001b[0m\u001b[1;33m.\u001b[0m\u001b[0mlog2\u001b[0m\u001b[1;33m(\u001b[0m\u001b[0mprob\u001b[0m\u001b[1;33m)\u001b[0m\u001b[1;33m)\u001b[0m \u001b[1;31m#for prob not to be 0 in log\u001b[0m\u001b[1;33m\u001b[0m\u001b[1;33m\u001b[0m\u001b[0m\n\u001b[0;32m      4\u001b[0m     \u001b[1;32mreturn\u001b[0m \u001b[0mentropy\u001b[0m\u001b[1;33m\u001b[0m\u001b[1;33m\u001b[0m\u001b[0m\n",
      "\u001b[1;32mc:\\Users\\thong\\anaconda3\\lib\\site-packages\\pandas\\core\\base.py\u001b[0m in \u001b[0;36mvalue_counts\u001b[1;34m(self, normalize, sort, ascending, bins, dropna)\u001b[0m\n\u001b[0;32m   1025\u001b[0m         \u001b[0mdtype\u001b[0m\u001b[1;33m:\u001b[0m \u001b[0mint64\u001b[0m\u001b[1;33m\u001b[0m\u001b[1;33m\u001b[0m\u001b[0m\n\u001b[0;32m   1026\u001b[0m         \"\"\"\n\u001b[1;32m-> 1027\u001b[1;33m         result = value_counts(\n\u001b[0m\u001b[0;32m   1028\u001b[0m             \u001b[0mself\u001b[0m\u001b[1;33m,\u001b[0m\u001b[1;33m\u001b[0m\u001b[1;33m\u001b[0m\u001b[0m\n\u001b[0;32m   1029\u001b[0m             \u001b[0msort\u001b[0m\u001b[1;33m=\u001b[0m\u001b[0msort\u001b[0m\u001b[1;33m,\u001b[0m\u001b[1;33m\u001b[0m\u001b[1;33m\u001b[0m\u001b[0m\n",
      "\u001b[1;32mc:\\Users\\thong\\anaconda3\\lib\\site-packages\\pandas\\core\\algorithms.py\u001b[0m in \u001b[0;36mvalue_counts\u001b[1;34m(values, sort, ascending, normalize, bins, dropna)\u001b[0m\n\u001b[0;32m    818\u001b[0m \u001b[1;33m\u001b[0m\u001b[0m\n\u001b[0;32m    819\u001b[0m         \u001b[1;32melse\u001b[0m\u001b[1;33m:\u001b[0m\u001b[1;33m\u001b[0m\u001b[1;33m\u001b[0m\u001b[0m\n\u001b[1;32m--> 820\u001b[1;33m             \u001b[0mkeys\u001b[0m\u001b[1;33m,\u001b[0m \u001b[0mcounts\u001b[0m \u001b[1;33m=\u001b[0m \u001b[0mvalue_counts_arraylike\u001b[0m\u001b[1;33m(\u001b[0m\u001b[0mvalues\u001b[0m\u001b[1;33m,\u001b[0m \u001b[0mdropna\u001b[0m\u001b[1;33m)\u001b[0m\u001b[1;33m\u001b[0m\u001b[1;33m\u001b[0m\u001b[0m\n\u001b[0m\u001b[0;32m    821\u001b[0m \u001b[1;33m\u001b[0m\u001b[0m\n\u001b[0;32m    822\u001b[0m             \u001b[0mresult\u001b[0m \u001b[1;33m=\u001b[0m \u001b[0mSeries\u001b[0m\u001b[1;33m(\u001b[0m\u001b[0mcounts\u001b[0m\u001b[1;33m,\u001b[0m \u001b[0mindex\u001b[0m\u001b[1;33m=\u001b[0m\u001b[0mkeys\u001b[0m\u001b[1;33m,\u001b[0m \u001b[0mname\u001b[0m\u001b[1;33m=\u001b[0m\u001b[0mname\u001b[0m\u001b[1;33m)\u001b[0m\u001b[1;33m\u001b[0m\u001b[1;33m\u001b[0m\u001b[0m\n",
      "\u001b[1;32mc:\\Users\\thong\\anaconda3\\lib\\site-packages\\pandas\\core\\algorithms.py\u001b[0m in \u001b[0;36mvalue_counts_arraylike\u001b[1;34m(values, dropna)\u001b[0m\n\u001b[0;32m    863\u001b[0m         \u001b[1;31m# TODO: handle uint8\u001b[0m\u001b[1;33m\u001b[0m\u001b[1;33m\u001b[0m\u001b[1;33m\u001b[0m\u001b[0m\n\u001b[0;32m    864\u001b[0m         \u001b[0mf\u001b[0m \u001b[1;33m=\u001b[0m \u001b[0mgetattr\u001b[0m\u001b[1;33m(\u001b[0m\u001b[0mhtable\u001b[0m\u001b[1;33m,\u001b[0m \u001b[1;34mf\"value_count_{ndtype}\"\u001b[0m\u001b[1;33m)\u001b[0m\u001b[1;33m\u001b[0m\u001b[1;33m\u001b[0m\u001b[0m\n\u001b[1;32m--> 865\u001b[1;33m         \u001b[0mkeys\u001b[0m\u001b[1;33m,\u001b[0m \u001b[0mcounts\u001b[0m \u001b[1;33m=\u001b[0m \u001b[0mf\u001b[0m\u001b[1;33m(\u001b[0m\u001b[0mvalues\u001b[0m\u001b[1;33m,\u001b[0m \u001b[0mdropna\u001b[0m\u001b[1;33m)\u001b[0m\u001b[1;33m\u001b[0m\u001b[1;33m\u001b[0m\u001b[0m\n\u001b[0m\u001b[0;32m    866\u001b[0m \u001b[1;33m\u001b[0m\u001b[0m\n\u001b[0;32m    867\u001b[0m         \u001b[0mmask\u001b[0m \u001b[1;33m=\u001b[0m \u001b[0misna\u001b[0m\u001b[1;33m(\u001b[0m\u001b[0mvalues\u001b[0m\u001b[1;33m)\u001b[0m\u001b[1;33m\u001b[0m\u001b[1;33m\u001b[0m\u001b[0m\n",
      "\u001b[1;32mpandas\\_libs\\hashtable_func_helper.pxi\u001b[0m in \u001b[0;36mpandas._libs.hashtable.value_count_int64\u001b[1;34m()\u001b[0m\n",
      "\u001b[1;32mpandas\\_libs\\hashtable_func_helper.pxi\u001b[0m in \u001b[0;36mpandas._libs.hashtable.value_count_int64\u001b[1;34m()\u001b[0m\n",
      "\u001b[1;32mc:\\Users\\thong\\anaconda3\\lib\\site-packages\\numpy\\core\\_asarray.py\u001b[0m in \u001b[0;36masarray\u001b[1;34m(a, dtype, order)\u001b[0m\n\u001b[0;32m     12\u001b[0m ]\n\u001b[0;32m     13\u001b[0m \u001b[1;33m\u001b[0m\u001b[0m\n\u001b[1;32m---> 14\u001b[1;33m \u001b[1;33m@\u001b[0m\u001b[0mset_module\u001b[0m\u001b[1;33m(\u001b[0m\u001b[1;34m'numpy'\u001b[0m\u001b[1;33m)\u001b[0m\u001b[1;33m\u001b[0m\u001b[1;33m\u001b[0m\u001b[0m\n\u001b[0m\u001b[0;32m     15\u001b[0m \u001b[1;32mdef\u001b[0m \u001b[0masarray\u001b[0m\u001b[1;33m(\u001b[0m\u001b[0ma\u001b[0m\u001b[1;33m,\u001b[0m \u001b[0mdtype\u001b[0m\u001b[1;33m=\u001b[0m\u001b[1;32mNone\u001b[0m\u001b[1;33m,\u001b[0m \u001b[0morder\u001b[0m\u001b[1;33m=\u001b[0m\u001b[1;32mNone\u001b[0m\u001b[1;33m)\u001b[0m\u001b[1;33m:\u001b[0m\u001b[1;33m\u001b[0m\u001b[1;33m\u001b[0m\u001b[0m\n\u001b[0;32m     16\u001b[0m     \"\"\"Convert the input to an array.\n",
      "\u001b[1;31mKeyboardInterrupt\u001b[0m: "
     ]
    }
   ],
   "source": [
    "df_d1 = pd.read_csv('data/D1.txt', names = colname_d3, sep = \" \")\n",
    "d1_tree = train_tree(df_d1,'y')\n",
    "d1_tree"
   ]
  },
  {
   "cell_type": "code",
   "execution_count": null,
   "metadata": {},
   "outputs": [
    {
     "name": "stderr",
     "output_type": "stream",
     "text": [
      "<ipython-input-42-4ef3c9c7f65a>:3: RuntimeWarning: invalid value encountered in double_scalars\n",
      "  return func(y, mask)/entropy(mask)\n",
      "<ipython-input-42-4ef3c9c7f65a>:3: RuntimeWarning: invalid value encountered in double_scalars\n",
      "  return func(y, mask)/entropy(mask)\n",
      "<ipython-input-42-4ef3c9c7f65a>:3: RuntimeWarning: invalid value encountered in double_scalars\n",
      "  return func(y, mask)/entropy(mask)\n",
      "<ipython-input-42-4ef3c9c7f65a>:3: RuntimeWarning: invalid value encountered in double_scalars\n",
      "  return func(y, mask)/entropy(mask)\n",
      "<ipython-input-42-4ef3c9c7f65a>:3: RuntimeWarning: invalid value encountered in double_scalars\n",
      "  return func(y, mask)/entropy(mask)\n",
      "<ipython-input-42-4ef3c9c7f65a>:3: RuntimeWarning: invalid value encountered in double_scalars\n",
      "  return func(y, mask)/entropy(mask)\n",
      "<ipython-input-42-4ef3c9c7f65a>:3: RuntimeWarning: invalid value encountered in double_scalars\n",
      "  return func(y, mask)/entropy(mask)\n",
      "<ipython-input-42-4ef3c9c7f65a>:3: RuntimeWarning: invalid value encountered in double_scalars\n",
      "  return func(y, mask)/entropy(mask)\n",
      "<ipython-input-42-4ef3c9c7f65a>:3: RuntimeWarning: invalid value encountered in double_scalars\n",
      "  return func(y, mask)/entropy(mask)\n",
      "<ipython-input-42-4ef3c9c7f65a>:3: RuntimeWarning: invalid value encountered in double_scalars\n",
      "  return func(y, mask)/entropy(mask)\n",
      "<ipython-input-42-4ef3c9c7f65a>:3: RuntimeWarning: invalid value encountered in double_scalars\n",
      "  return func(y, mask)/entropy(mask)\n",
      "<ipython-input-42-4ef3c9c7f65a>:3: RuntimeWarning: invalid value encountered in double_scalars\n",
      "  return func(y, mask)/entropy(mask)\n",
      "<ipython-input-42-4ef3c9c7f65a>:3: RuntimeWarning: invalid value encountered in double_scalars\n",
      "  return func(y, mask)/entropy(mask)\n",
      "<ipython-input-42-4ef3c9c7f65a>:3: RuntimeWarning: invalid value encountered in double_scalars\n",
      "  return func(y, mask)/entropy(mask)\n",
      "<ipython-input-42-4ef3c9c7f65a>:3: RuntimeWarning: invalid value encountered in double_scalars\n",
      "  return func(y, mask)/entropy(mask)\n",
      "<ipython-input-42-4ef3c9c7f65a>:3: RuntimeWarning: invalid value encountered in double_scalars\n",
      "  return func(y, mask)/entropy(mask)\n",
      "<ipython-input-42-4ef3c9c7f65a>:3: RuntimeWarning: invalid value encountered in double_scalars\n",
      "  return func(y, mask)/entropy(mask)\n",
      "<ipython-input-42-4ef3c9c7f65a>:3: RuntimeWarning: invalid value encountered in double_scalars\n",
      "  return func(y, mask)/entropy(mask)\n",
      "<ipython-input-42-4ef3c9c7f65a>:3: RuntimeWarning: invalid value encountered in double_scalars\n",
      "  return func(y, mask)/entropy(mask)\n",
      "<ipython-input-42-4ef3c9c7f65a>:3: RuntimeWarning: invalid value encountered in double_scalars\n",
      "  return func(y, mask)/entropy(mask)\n",
      "<ipython-input-42-4ef3c9c7f65a>:3: RuntimeWarning: invalid value encountered in double_scalars\n",
      "  return func(y, mask)/entropy(mask)\n",
      "<ipython-input-42-4ef3c9c7f65a>:3: RuntimeWarning: invalid value encountered in double_scalars\n",
      "  return func(y, mask)/entropy(mask)\n",
      "<ipython-input-42-4ef3c9c7f65a>:3: RuntimeWarning: invalid value encountered in double_scalars\n",
      "  return func(y, mask)/entropy(mask)\n",
      "<ipython-input-42-4ef3c9c7f65a>:3: RuntimeWarning: invalid value encountered in double_scalars\n",
      "  return func(y, mask)/entropy(mask)\n",
      "<ipython-input-42-4ef3c9c7f65a>:3: RuntimeWarning: invalid value encountered in double_scalars\n",
      "  return func(y, mask)/entropy(mask)\n",
      "<ipython-input-42-4ef3c9c7f65a>:3: RuntimeWarning: invalid value encountered in double_scalars\n",
      "  return func(y, mask)/entropy(mask)\n",
      "<ipython-input-42-4ef3c9c7f65a>:3: RuntimeWarning: invalid value encountered in double_scalars\n",
      "  return func(y, mask)/entropy(mask)\n",
      "<ipython-input-42-4ef3c9c7f65a>:3: RuntimeWarning: invalid value encountered in double_scalars\n",
      "  return func(y, mask)/entropy(mask)\n",
      "<ipython-input-42-4ef3c9c7f65a>:3: RuntimeWarning: invalid value encountered in double_scalars\n",
      "  return func(y, mask)/entropy(mask)\n",
      "<ipython-input-42-4ef3c9c7f65a>:3: RuntimeWarning: invalid value encountered in double_scalars\n",
      "  return func(y, mask)/entropy(mask)\n",
      "<ipython-input-42-4ef3c9c7f65a>:3: RuntimeWarning: invalid value encountered in double_scalars\n",
      "  return func(y, mask)/entropy(mask)\n",
      "<ipython-input-42-4ef3c9c7f65a>:3: RuntimeWarning: invalid value encountered in double_scalars\n",
      "  return func(y, mask)/entropy(mask)\n",
      "<ipython-input-42-4ef3c9c7f65a>:3: RuntimeWarning: invalid value encountered in double_scalars\n",
      "  return func(y, mask)/entropy(mask)\n",
      "<ipython-input-42-4ef3c9c7f65a>:3: RuntimeWarning: invalid value encountered in double_scalars\n",
      "  return func(y, mask)/entropy(mask)\n",
      "<ipython-input-42-4ef3c9c7f65a>:3: RuntimeWarning: invalid value encountered in double_scalars\n",
      "  return func(y, mask)/entropy(mask)\n",
      "<ipython-input-42-4ef3c9c7f65a>:3: RuntimeWarning: invalid value encountered in double_scalars\n",
      "  return func(y, mask)/entropy(mask)\n",
      "<ipython-input-42-4ef3c9c7f65a>:3: RuntimeWarning: invalid value encountered in double_scalars\n",
      "  return func(y, mask)/entropy(mask)\n",
      "<ipython-input-42-4ef3c9c7f65a>:3: RuntimeWarning: invalid value encountered in double_scalars\n",
      "  return func(y, mask)/entropy(mask)\n",
      "<ipython-input-42-4ef3c9c7f65a>:3: RuntimeWarning: invalid value encountered in double_scalars\n",
      "  return func(y, mask)/entropy(mask)\n",
      "<ipython-input-42-4ef3c9c7f65a>:3: RuntimeWarning: invalid value encountered in double_scalars\n",
      "  return func(y, mask)/entropy(mask)\n",
      "<ipython-input-42-4ef3c9c7f65a>:3: RuntimeWarning: invalid value encountered in double_scalars\n",
      "  return func(y, mask)/entropy(mask)\n",
      "<ipython-input-42-4ef3c9c7f65a>:3: RuntimeWarning: invalid value encountered in double_scalars\n",
      "  return func(y, mask)/entropy(mask)\n",
      "<ipython-input-42-4ef3c9c7f65a>:3: RuntimeWarning: invalid value encountered in double_scalars\n",
      "  return func(y, mask)/entropy(mask)\n",
      "<ipython-input-42-4ef3c9c7f65a>:3: RuntimeWarning: invalid value encountered in double_scalars\n",
      "  return func(y, mask)/entropy(mask)\n",
      "<ipython-input-42-4ef3c9c7f65a>:3: RuntimeWarning: invalid value encountered in double_scalars\n",
      "  return func(y, mask)/entropy(mask)\n",
      "<ipython-input-42-4ef3c9c7f65a>:3: RuntimeWarning: invalid value encountered in double_scalars\n",
      "  return func(y, mask)/entropy(mask)\n",
      "<ipython-input-42-4ef3c9c7f65a>:3: RuntimeWarning: invalid value encountered in double_scalars\n",
      "  return func(y, mask)/entropy(mask)\n",
      "<ipython-input-42-4ef3c9c7f65a>:3: RuntimeWarning: invalid value encountered in double_scalars\n",
      "  return func(y, mask)/entropy(mask)\n",
      "<ipython-input-42-4ef3c9c7f65a>:3: RuntimeWarning: invalid value encountered in double_scalars\n",
      "  return func(y, mask)/entropy(mask)\n",
      "<ipython-input-42-4ef3c9c7f65a>:3: RuntimeWarning: invalid value encountered in double_scalars\n",
      "  return func(y, mask)/entropy(mask)\n",
      "<ipython-input-42-4ef3c9c7f65a>:3: RuntimeWarning: invalid value encountered in double_scalars\n",
      "  return func(y, mask)/entropy(mask)\n",
      "<ipython-input-42-4ef3c9c7f65a>:3: RuntimeWarning: invalid value encountered in double_scalars\n",
      "  return func(y, mask)/entropy(mask)\n",
      "<ipython-input-42-4ef3c9c7f65a>:3: RuntimeWarning: invalid value encountered in double_scalars\n",
      "  return func(y, mask)/entropy(mask)\n",
      "<ipython-input-42-4ef3c9c7f65a>:3: RuntimeWarning: invalid value encountered in double_scalars\n",
      "  return func(y, mask)/entropy(mask)\n",
      "<ipython-input-42-4ef3c9c7f65a>:3: RuntimeWarning: invalid value encountered in double_scalars\n",
      "  return func(y, mask)/entropy(mask)\n",
      "<ipython-input-42-4ef3c9c7f65a>:3: RuntimeWarning: invalid value encountered in double_scalars\n",
      "  return func(y, mask)/entropy(mask)\n",
      "<ipython-input-42-4ef3c9c7f65a>:3: RuntimeWarning: invalid value encountered in double_scalars\n",
      "  return func(y, mask)/entropy(mask)\n",
      "<ipython-input-42-4ef3c9c7f65a>:3: RuntimeWarning: invalid value encountered in double_scalars\n",
      "  return func(y, mask)/entropy(mask)\n",
      "<ipython-input-42-4ef3c9c7f65a>:3: RuntimeWarning: invalid value encountered in double_scalars\n",
      "  return func(y, mask)/entropy(mask)\n",
      "<ipython-input-42-4ef3c9c7f65a>:3: RuntimeWarning: invalid value encountered in double_scalars\n",
      "  return func(y, mask)/entropy(mask)\n",
      "<ipython-input-42-4ef3c9c7f65a>:3: RuntimeWarning: invalid value encountered in double_scalars\n",
      "  return func(y, mask)/entropy(mask)\n",
      "<ipython-input-42-4ef3c9c7f65a>:3: RuntimeWarning: invalid value encountered in double_scalars\n",
      "  return func(y, mask)/entropy(mask)\n",
      "<ipython-input-42-4ef3c9c7f65a>:3: RuntimeWarning: invalid value encountered in double_scalars\n",
      "  return func(y, mask)/entropy(mask)\n",
      "<ipython-input-42-4ef3c9c7f65a>:3: RuntimeWarning: invalid value encountered in double_scalars\n",
      "  return func(y, mask)/entropy(mask)\n",
      "<ipython-input-42-4ef3c9c7f65a>:3: RuntimeWarning: invalid value encountered in double_scalars\n",
      "  return func(y, mask)/entropy(mask)\n",
      "<ipython-input-42-4ef3c9c7f65a>:3: RuntimeWarning: invalid value encountered in double_scalars\n",
      "  return func(y, mask)/entropy(mask)\n",
      "<ipython-input-42-4ef3c9c7f65a>:3: RuntimeWarning: invalid value encountered in double_scalars\n",
      "  return func(y, mask)/entropy(mask)\n",
      "<ipython-input-42-4ef3c9c7f65a>:3: RuntimeWarning: invalid value encountered in double_scalars\n",
      "  return func(y, mask)/entropy(mask)\n",
      "<ipython-input-42-4ef3c9c7f65a>:3: RuntimeWarning: invalid value encountered in double_scalars\n",
      "  return func(y, mask)/entropy(mask)\n",
      "<ipython-input-42-4ef3c9c7f65a>:3: RuntimeWarning: invalid value encountered in double_scalars\n",
      "  return func(y, mask)/entropy(mask)\n",
      "<ipython-input-42-4ef3c9c7f65a>:3: RuntimeWarning: invalid value encountered in double_scalars\n",
      "  return func(y, mask)/entropy(mask)\n",
      "<ipython-input-42-4ef3c9c7f65a>:3: RuntimeWarning: invalid value encountered in double_scalars\n",
      "  return func(y, mask)/entropy(mask)\n",
      "<ipython-input-42-4ef3c9c7f65a>:3: RuntimeWarning: invalid value encountered in double_scalars\n",
      "  return func(y, mask)/entropy(mask)\n",
      "<ipython-input-42-4ef3c9c7f65a>:3: RuntimeWarning: invalid value encountered in double_scalars\n",
      "  return func(y, mask)/entropy(mask)\n",
      "<ipython-input-42-4ef3c9c7f65a>:3: RuntimeWarning: invalid value encountered in double_scalars\n",
      "  return func(y, mask)/entropy(mask)\n",
      "<ipython-input-42-4ef3c9c7f65a>:3: RuntimeWarning: invalid value encountered in double_scalars\n",
      "  return func(y, mask)/entropy(mask)\n",
      "<ipython-input-42-4ef3c9c7f65a>:3: RuntimeWarning: invalid value encountered in double_scalars\n",
      "  return func(y, mask)/entropy(mask)\n",
      "<ipython-input-42-4ef3c9c7f65a>:3: RuntimeWarning: invalid value encountered in double_scalars\n",
      "  return func(y, mask)/entropy(mask)\n",
      "<ipython-input-42-4ef3c9c7f65a>:3: RuntimeWarning: invalid value encountered in double_scalars\n",
      "  return func(y, mask)/entropy(mask)\n",
      "<ipython-input-42-4ef3c9c7f65a>:3: RuntimeWarning: invalid value encountered in double_scalars\n",
      "  return func(y, mask)/entropy(mask)\n",
      "<ipython-input-42-4ef3c9c7f65a>:3: RuntimeWarning: invalid value encountered in double_scalars\n",
      "  return func(y, mask)/entropy(mask)\n",
      "<ipython-input-42-4ef3c9c7f65a>:3: RuntimeWarning: invalid value encountered in double_scalars\n",
      "  return func(y, mask)/entropy(mask)\n",
      "<ipython-input-42-4ef3c9c7f65a>:3: RuntimeWarning: invalid value encountered in double_scalars\n",
      "  return func(y, mask)/entropy(mask)\n",
      "<ipython-input-42-4ef3c9c7f65a>:3: RuntimeWarning: invalid value encountered in double_scalars\n",
      "  return func(y, mask)/entropy(mask)\n",
      "<ipython-input-42-4ef3c9c7f65a>:3: RuntimeWarning: invalid value encountered in double_scalars\n",
      "  return func(y, mask)/entropy(mask)\n",
      "<ipython-input-42-4ef3c9c7f65a>:3: RuntimeWarning: invalid value encountered in double_scalars\n",
      "  return func(y, mask)/entropy(mask)\n",
      "<ipython-input-42-4ef3c9c7f65a>:3: RuntimeWarning: invalid value encountered in double_scalars\n",
      "  return func(y, mask)/entropy(mask)\n",
      "<ipython-input-42-4ef3c9c7f65a>:3: RuntimeWarning: invalid value encountered in double_scalars\n",
      "  return func(y, mask)/entropy(mask)\n",
      "<ipython-input-42-4ef3c9c7f65a>:3: RuntimeWarning: invalid value encountered in double_scalars\n",
      "  return func(y, mask)/entropy(mask)\n",
      "<ipython-input-42-4ef3c9c7f65a>:3: RuntimeWarning: invalid value encountered in double_scalars\n",
      "  return func(y, mask)/entropy(mask)\n",
      "<ipython-input-42-4ef3c9c7f65a>:3: RuntimeWarning: invalid value encountered in double_scalars\n",
      "  return func(y, mask)/entropy(mask)\n",
      "<ipython-input-42-4ef3c9c7f65a>:3: RuntimeWarning: invalid value encountered in double_scalars\n",
      "  return func(y, mask)/entropy(mask)\n",
      "<ipython-input-42-4ef3c9c7f65a>:3: RuntimeWarning: invalid value encountered in double_scalars\n",
      "  return func(y, mask)/entropy(mask)\n",
      "<ipython-input-42-4ef3c9c7f65a>:3: RuntimeWarning: invalid value encountered in double_scalars\n",
      "  return func(y, mask)/entropy(mask)\n",
      "<ipython-input-42-4ef3c9c7f65a>:3: RuntimeWarning: invalid value encountered in double_scalars\n",
      "  return func(y, mask)/entropy(mask)\n",
      "<ipython-input-42-4ef3c9c7f65a>:3: RuntimeWarning: invalid value encountered in double_scalars\n",
      "  return func(y, mask)/entropy(mask)\n",
      "<ipython-input-42-4ef3c9c7f65a>:3: RuntimeWarning: invalid value encountered in double_scalars\n",
      "  return func(y, mask)/entropy(mask)\n",
      "<ipython-input-42-4ef3c9c7f65a>:3: RuntimeWarning: invalid value encountered in double_scalars\n",
      "  return func(y, mask)/entropy(mask)\n",
      "<ipython-input-42-4ef3c9c7f65a>:3: RuntimeWarning: invalid value encountered in double_scalars\n",
      "  return func(y, mask)/entropy(mask)\n",
      "<ipython-input-42-4ef3c9c7f65a>:3: RuntimeWarning: invalid value encountered in double_scalars\n",
      "  return func(y, mask)/entropy(mask)\n",
      "<ipython-input-42-4ef3c9c7f65a>:3: RuntimeWarning: invalid value encountered in double_scalars\n",
      "  return func(y, mask)/entropy(mask)\n",
      "<ipython-input-42-4ef3c9c7f65a>:3: RuntimeWarning: invalid value encountered in double_scalars\n",
      "  return func(y, mask)/entropy(mask)\n",
      "<ipython-input-42-4ef3c9c7f65a>:3: RuntimeWarning: invalid value encountered in double_scalars\n",
      "  return func(y, mask)/entropy(mask)\n",
      "<ipython-input-42-4ef3c9c7f65a>:3: RuntimeWarning: invalid value encountered in double_scalars\n",
      "  return func(y, mask)/entropy(mask)\n",
      "<ipython-input-42-4ef3c9c7f65a>:3: RuntimeWarning: invalid value encountered in double_scalars\n",
      "  return func(y, mask)/entropy(mask)\n",
      "<ipython-input-42-4ef3c9c7f65a>:3: RuntimeWarning: invalid value encountered in double_scalars\n",
      "  return func(y, mask)/entropy(mask)\n",
      "<ipython-input-42-4ef3c9c7f65a>:3: RuntimeWarning: invalid value encountered in double_scalars\n",
      "  return func(y, mask)/entropy(mask)\n",
      "<ipython-input-42-4ef3c9c7f65a>:3: RuntimeWarning: invalid value encountered in double_scalars\n",
      "  return func(y, mask)/entropy(mask)\n",
      "<ipython-input-42-4ef3c9c7f65a>:3: RuntimeWarning: invalid value encountered in double_scalars\n",
      "  return func(y, mask)/entropy(mask)\n",
      "<ipython-input-42-4ef3c9c7f65a>:3: RuntimeWarning: invalid value encountered in double_scalars\n",
      "  return func(y, mask)/entropy(mask)\n",
      "<ipython-input-42-4ef3c9c7f65a>:3: RuntimeWarning: invalid value encountered in double_scalars\n",
      "  return func(y, mask)/entropy(mask)\n",
      "<ipython-input-42-4ef3c9c7f65a>:3: RuntimeWarning: invalid value encountered in double_scalars\n",
      "  return func(y, mask)/entropy(mask)\n",
      "<ipython-input-42-4ef3c9c7f65a>:3: RuntimeWarning: invalid value encountered in double_scalars\n",
      "  return func(y, mask)/entropy(mask)\n",
      "<ipython-input-42-4ef3c9c7f65a>:3: RuntimeWarning: invalid value encountered in double_scalars\n",
      "  return func(y, mask)/entropy(mask)\n",
      "<ipython-input-42-4ef3c9c7f65a>:3: RuntimeWarning: invalid value encountered in double_scalars\n",
      "  return func(y, mask)/entropy(mask)\n",
      "<ipython-input-42-4ef3c9c7f65a>:3: RuntimeWarning: invalid value encountered in double_scalars\n",
      "  return func(y, mask)/entropy(mask)\n",
      "<ipython-input-42-4ef3c9c7f65a>:3: RuntimeWarning: invalid value encountered in double_scalars\n",
      "  return func(y, mask)/entropy(mask)\n",
      "<ipython-input-42-4ef3c9c7f65a>:3: RuntimeWarning: invalid value encountered in double_scalars\n",
      "  return func(y, mask)/entropy(mask)\n",
      "<ipython-input-42-4ef3c9c7f65a>:3: RuntimeWarning: invalid value encountered in double_scalars\n",
      "  return func(y, mask)/entropy(mask)\n",
      "<ipython-input-42-4ef3c9c7f65a>:3: RuntimeWarning: invalid value encountered in double_scalars\n",
      "  return func(y, mask)/entropy(mask)\n",
      "<ipython-input-42-4ef3c9c7f65a>:3: RuntimeWarning: invalid value encountered in double_scalars\n",
      "  return func(y, mask)/entropy(mask)\n",
      "<ipython-input-42-4ef3c9c7f65a>:3: RuntimeWarning: invalid value encountered in double_scalars\n",
      "  return func(y, mask)/entropy(mask)\n"
     ]
    }
   ],
   "source": [
    "df_d2 = pd.read_csv('data/D2.txt', names = colname_d3, sep = \" \")\n",
    "question_d2 = train_tree(df_d2,'y')"
   ]
  },
  {
   "cell_type": "code",
   "execution_count": null,
   "metadata": {},
   "outputs": [
    {
     "data": {
      "text/plain": [
       "{'x1 >=  0.533076': [{'x2 >=  0.228007': [{'x2 >=  0.424906': [1,\n",
       "      {'x1 >=  0.708127': [1,\n",
       "        {'x2 >=  0.32625': [{'x1 >=  0.595471': [{'x1 >=  0.646007': [1,\n",
       "              {'x2 >=  0.403494': [1, 0]}]},\n",
       "            0]},\n",
       "          0]}]}]},\n",
       "    {'x1 >=  0.887224': [{'x2 >=  0.037708': [{'x2 >=  0.082895': [1,\n",
       "          {'x1 >=  0.960783': [1, 0]}]},\n",
       "        0]},\n",
       "      {'x1 >=  0.850316': [{'x2 >=  0.169053': [1, 0]}, 0]}]}]},\n",
       "  {'x2 >=  0.88635': [{'x1 >=  0.041245': [{'x1 >=  0.104043': [1,\n",
       "        {'x1 >=  0.07642': [0, 1]}]},\n",
       "      0]},\n",
       "    {'x2 >=  0.691474': [{'x1 >=  0.254049': [1,\n",
       "        {'x1 >=  0.191915': [{'x2 >=  0.792752': [1, 0]},\n",
       "          {'x2 >=  0.864128': [{'x1 >=  0.144781': [1, 0]}, 0]}]}]},\n",
       "      {'x2 >=  0.534979': [{'x1 >=  0.426073': [1,\n",
       "          {'x1 >=  0.409972': [{'x1 >=  0.417579': [0, 1]},\n",
       "            {'x1 >=  0.393227': [{'x1 >=  0.39583': [0, 1]}, 0]}]}]},\n",
       "        0]}]}]}]}"
      ]
     },
     "execution_count": 60,
     "metadata": {},
     "output_type": "execute_result"
    }
   ],
   "source": [
    "question_d2"
   ]
  },
  {
   "cell_type": "code",
   "execution_count": null,
   "metadata": {},
   "outputs": [
    {
     "data": {
      "text/plain": [
       "1.0"
      ]
     },
     "execution_count": 61,
     "metadata": {},
     "output_type": "execute_result"
    }
   ],
   "source": [
    "pred_d2 = []\n",
    "for i in range(df_d2.shape[0]):\n",
    "    data_pred = classi_pred(df_d2.iloc[i,:], question_d2)\n",
    "    pred_d2.append(data_pred)\n",
    "actual_d2 = df_d2.y.tolist()\n",
    "truth_d2= np.subtract(actual_d2, pred_d2)\n",
    "accuracy = 1 - np.count_nonzero(truth_d2)/len(truth_d2)\n",
    "accuracy"
   ]
  },
  {
   "cell_type": "code",
   "execution_count": null,
   "metadata": {},
   "outputs": [
    {
     "data": {
      "text/plain": [
       "'x1 >=  0.533076'"
      ]
     },
     "execution_count": 62,
     "metadata": {},
     "output_type": "execute_result"
    }
   ],
   "source": [
    "next(iter(question_d2.keys()))"
   ]
  },
  {
   "cell_type": "code",
   "execution_count": null,
   "metadata": {},
   "outputs": [
    {
     "data": {
      "image/png": "[encoded data removed]",
      "text/plain": [
       "<Figure size 432x288 with 1 Axes>"
      ]
     },
     "metadata": {
      "needs_background": "light"
     },
     "output_type": "display_data"
    }
   ],
   "source": [
    "fig, ax = plt.subplots()\n",
    "\n",
    "for label in [0,1]:\n",
    "    #filters this sequence of indices by keeping only those where df_d1['y'][i] is equal to label, go first with label 0\n",
    "    row_ix = [i for i in range(len(df_d1['y'])) if df_d1['y'][i] == label] \n",
    "    plt.scatter([df_d1['x1'][i] for i in row_ix], [df_d1['x2'][i] for i in row_ix], c= ['red' if label == 0 else 'blue'])\n",
    "\n",
    "ax.set_xlabel('x1')\n",
    "ax.set_ylabel('x2')\n",
    "ax.hlines(y= 0.201829, xmin = 0, xmax = 1, linestyles= '--', colors= 'black')\n",
    "plt.show()"
   ]
  },
  {
   "cell_type": "code",
   "execution_count": null,
   "metadata": {},
   "outputs": [
    {
     "data": {
      "image/png": "[encoded data removed]",
      "text/plain": [
       "<Figure size 432x288 with 1 Axes>"
      ]
     },
     "metadata": {
      "needs_background": "light"
     },
     "output_type": "display_data"
    }
   ],
   "source": [
    "fig, ax = plt.subplots()\n",
    "\n",
    "for label in [0,1]:\n",
    "    #filters this sequence of indices by keeping only those where df_d1['y'][i] is equal to label, go first with label 0\n",
    "    row_ix = [i for i in range(len(df_d1['y'])) if df_d1['y'][i] == label] \n",
    "    plt.scatter([df_d1['x1'][i] for i in row_ix], [df_d1['x2'][i] for i in row_ix], c= ['red' if label == 0 else 'blue'])\n",
    "\n",
    "x1 = np.linspace(0, 1, 3000)\n",
    "x2 = np.linspace(0, 1, 3000)\n",
    "#takes two 1-D arrays as inputs and\n",
    "# returns two 2-D arrays representing all possible combinations of their elements.\n",
    "x1_grid1, x2_grid1 = np.meshgrid(x1, x2)\n",
    "z = np.zeros_like(x1_grid1)\n",
    "for i in range(x1_grid1.shape[0]):\n",
    "    for j in range(x1_grid1.shape[1]):\n",
    "        z[i, j] = classi_pred([float(x1_grid1[i, j]), float(x2_grid1[i, j])], d1_tree)\n",
    "plt.contourf(x1_grid1, x2_grid1, z, cmap='RdBu', alpha=0.5)\n",
    "ax.set_xlabel('x1')\n",
    "ax.set_ylabel('x2')\n",
    "ax.hlines(y= 0.201829, xmin = 0, xmax = 1, linestyles= '--', colors= 'black')\n",
    "plt.show()"
   ]
  },
  {
   "cell_type": "code",
   "execution_count": null,
   "metadata": {},
   "outputs": [
    {
     "data": {
      "image/png": "[encoded data removed]",
      "text/plain": [
       "<Figure size 432x288 with 1 Axes>"
      ]
     },
     "metadata": {
      "needs_background": "light"
     },
     "output_type": "display_data"
    }
   ],
   "source": [
    "fig, ax = plt.subplots()\n",
    "\n",
    "for label in [0,1]:\n",
    "    row_ind = [i for i in range (len(df_d2['y'])) if df_d2['y'][i] == label]\n",
    "    plt.scatter([df_d2['x1'][row_ind]], [df_d2['x2'][row_ind]], c = 'red' if label == 0 else 'blue')\n",
    "ax.set_xlabel('x1')\n",
    "ax.set_ylabel('x2')\n",
    "plt.show()"
   ]
  },
  {
   "cell_type": "code",
   "execution_count": null,
   "metadata": {},
   "outputs": [
    {
     "data": {
      "image/png": "[encoded data removed]",
      "text/plain": [
       "<Figure size 432x288 with 1 Axes>"
      ]
     },
     "metadata": {
      "needs_background": "light"
     },
     "output_type": "display_data"
    }
   ],
   "source": [
    "fig, ax = plt.subplots()\n",
    "\n",
    "for label in [0,1]:\n",
    "    row_ind = [i for i in range (len(df_d2['y'])) if df_d2['y'][i] == label]\n",
    "    plt.scatter([df_d2['x1'][row_ind]], [df_d2['x2'][row_ind]], c = 'red' if label == 0 else 'blue')\n",
    "    \n",
    "x1 = np.linspace(0, 1, 3000)\n",
    "x2 = np.linspace(0, 1, 3000)\n",
    "#takes two 1-D arrays as inputs and\n",
    "# returns two 2-D arrays representing all possible combinations of their elements.\n",
    "x1_grid1, x2_grid1 = np.meshgrid(x1, x2)\n",
    "z = np.zeros_like(x1_grid1)\n",
    "for i in range(x1_grid1.shape[0]):\n",
    "    for j in range(x1_grid1.shape[1]):\n",
    "        z[i, j] = classi_pred([float(x1_grid1[i, j]), float(x2_grid1[i, j])], question_d2)\n",
    "plt.contourf(x1_grid1, x2_grid1, z, cmap='RdBu', alpha=0.5)\n",
    "ax.set_xlabel('x1')\n",
    "ax.set_ylabel('x2')\n",
    "plt.show()"
   ]
  },
  {
   "cell_type": "code",
   "execution_count": null,
   "metadata": {},
   "outputs": [],
   "source": [
    "dbig = pd.read_csv('data/Dbig.txt', sep= \" \", names= colname_d3)\n",
    "\n",
    "np.random.seed(0)\n",
    "ind_list = np.random.permutation(10000) #list of 10000 numbers in random numbers\n",
    "\n",
    "training_ind = ind_list[:8192]\n",
    "test_ind = ind_list[8192:]\n",
    "train_set = dbig.loc[training_ind]\n",
    "test_set = dbig.loc[test_ind]\n"
   ]
  },
  {
   "cell_type": "code",
   "execution_count": null,
   "metadata": {},
   "outputs": [
    {
     "name": "stderr",
     "output_type": "stream",
     "text": [
      "<ipython-input-42-4ef3c9c7f65a>:3: RuntimeWarning: invalid value encountered in double_scalars\n",
      "  return func(y, mask)/entropy(mask)\n",
      "<ipython-input-42-4ef3c9c7f65a>:3: RuntimeWarning: invalid value encountered in double_scalars\n",
      "  return func(y, mask)/entropy(mask)\n",
      "<ipython-input-42-4ef3c9c7f65a>:3: RuntimeWarning: invalid value encountered in double_scalars\n",
      "  return func(y, mask)/entropy(mask)\n",
      "<ipython-input-42-4ef3c9c7f65a>:3: RuntimeWarning: invalid value encountered in double_scalars\n",
      "  return func(y, mask)/entropy(mask)\n",
      "<ipython-input-42-4ef3c9c7f65a>:3: RuntimeWarning: invalid value encountered in double_scalars\n",
      "  return func(y, mask)/entropy(mask)\n",
      "<ipython-input-42-4ef3c9c7f65a>:3: RuntimeWarning: invalid value encountered in double_scalars\n",
      "  return func(y, mask)/entropy(mask)\n",
      "<ipython-input-42-4ef3c9c7f65a>:3: RuntimeWarning: invalid value encountered in double_scalars\n",
      "  return func(y, mask)/entropy(mask)\n",
      "<ipython-input-42-4ef3c9c7f65a>:3: RuntimeWarning: invalid value encountered in double_scalars\n",
      "  return func(y, mask)/entropy(mask)\n",
      "<ipython-input-42-4ef3c9c7f65a>:3: RuntimeWarning: invalid value encountered in double_scalars\n",
      "  return func(y, mask)/entropy(mask)\n",
      "<ipython-input-42-4ef3c9c7f65a>:3: RuntimeWarning: invalid value encountered in double_scalars\n",
      "  return func(y, mask)/entropy(mask)\n"
     ]
    }
   ],
   "source": [
    "tree_8192 = train_tree(train_set, 'y')\n",
    "train_set = train_set.reset_index()"
   ]
  },
  {
   "cell_type": "code",
   "execution_count": null,
   "metadata": {},
   "outputs": [],
   "source": [
    "x1 = np.linspace(-1.5, 1.5, 3000)\n",
    "x2 = np.linspace(-1.5, 1.5, 3000)\n",
    "x1_grid, x2_grid = np.meshgrid(x1, x2)\n",
    "\n",
    "for label in [0,1]:\n",
    "    row_ind = [i for i in range (len(train_set['y'])) if train_set['y'][i] == label]\n",
    "    plt.scatter([train_set['x1'][row_ind]], [train_set['x2'][row_ind]], c = 'red' if label == 0 else 'blue')\n",
    "    "
   ]
  },
  {
   "cell_type": "code",
   "execution_count": null,
   "metadata": {},
   "outputs": [],
   "source": [
    "x1 = np.linspace(-1.5, 1.5, 3000)\n",
    "x2 = np.linspace(-1.5, 1.5, 3000)\n",
    "x1_grid, x2_grid = np.meshgrid(x1, x2)    \n",
    "\n",
    "# Evaluate the decision tree on each point in the meshgrid\n",
    "z = np.zeros_like(x1_grid)\n",
    "for i in range(x1_grid.shape[0]):\n",
    "    for j in range(x1_grid.shape[1]):\n",
    "         z[i, j] = classi_pred([float(x1_grid1[i, j]), float(x2_grid1[i, j])], tree_8192)\n",
    "\n",
    "for label in [0,1]:\n",
    "    row_ind = [i for i in range (len(train_set['y'])) if train_set['y'][i] == label]\n",
    "    plt.scatter([train_set['x1'][row_ind]], [train_set['x2'][row_ind]], c = 'red' if label == 0 else 'blue')\n",
    "\n",
    "# Plot the decision boundary\n",
    "plt.contourf(x1_grid, x2_grid, z, cmap='RdBu', alpha=0.5)\n",
    "plt.xlabel('x1')\n",
    "plt.ylabel('x2')\n",
    "plt.title('Decision boundary of training set D8092')\n",
    "plt.show()"
   ]
  },
  {
   "cell_type": "code",
   "execution_count": null,
   "metadata": {},
   "outputs": [],
   "source": [
    "training_ind_32 = ind_list[:32]\n",
    "test_ind_32 = ind_list[32:]\n",
    "train_set32 = dbig.loc[training_ind_32]\n",
    "test_set32 = dbig.loc[test_ind_32]\n",
    "tree_32 = train_tree(train_set32, 'y')\n"
   ]
  },
  {
   "cell_type": "code",
   "execution_count": null,
   "metadata": {},
   "outputs": [],
   "source": [
    "train_set32 = train_set32.reset_index()"
   ]
  },
  {
   "cell_type": "code",
   "execution_count": null,
   "metadata": {},
   "outputs": [],
   "source": [
    "fig, ax = plt.subplots()\n",
    "\n",
    "for label in [0,1]:\n",
    "    row_ind = [i for i in range (len(train_set32['y'])) if train_set32['y'][i] == label]\n",
    "    plt.scatter([train_set32['x1'][row_ind]], [train_set32['x2'][row_ind]], c = 'red' if label == 0 else 'blue')\n",
    "     \n",
    "x1 = np.linspace(-1.5, 1.5, 3000)\n",
    "x2 = np.linspace(-1.5, 1.5, 3000)\n",
    "#takes two 1-D arrays as inputs and\n",
    "# returns two 2-D arrays representing all possible combinations of their elements.\n",
    "x1_grid1, x2_grid1 = np.meshgrid(x1, x2)\n",
    "z = np.zeros_like(x1_grid1)\n",
    "for i in range(x1_grid1.shape[0]):\n",
    "    for j in range(x1_grid1.shape[1]):\n",
    "        z[i, j] = classi_pred([float(x1_grid1[i, j]), float(x2_grid1[i, j])], tree_32)\n",
    "plt.contourf(x1_grid1, x2_grid1, z, cmap='RdBu', alpha=0.5)\n",
    "ax.set_xlabel('x1')\n",
    "ax.set_ylabel('x2')\n",
    "plt.show()"
   ]
  },
  {
   "cell_type": "code",
   "execution_count": null,
   "metadata": {},
   "outputs": [],
   "source": [
    "training_ind_128 = ind_list[:128]\n",
    "test_ind_128 = ind_list[128:]\n",
    "train_set128 = dbig.loc[training_ind_128]\n",
    "test_set128 = dbig.loc[test_ind_128]\n",
    "tree_128 = train_tree(train_set128, 'y')\n",
    "train_set128 = train_set128.reset_index()"
   ]
  },
  {
   "cell_type": "code",
   "execution_count": null,
   "metadata": {},
   "outputs": [],
   "source": [
    "x1 = np.linspace(-1.5, 1.5, 3000)\n",
    "x2 = np.linspace(-1.5, 1.5, 3000)\n",
    "x1_grid, x2_grid = np.meshgrid(x1, x2)\n",
    "for label in [0,1]:\n",
    "    row_ind = [i for i in range (len(train_set128['y'])) if train_set128['y'][i] == label]\n",
    "    plt.scatter([train_set128['x1'][row_ind]], [train_set128['x2'][row_ind]], c = 'red' if label == 0 else 'blue')\n",
    "    \n",
    "# Evaluate the decision tree on each point in the meshgrid\n",
    "z = np.zeros_like(x1_grid)\n",
    "for i in range(x1_grid.shape[0]):\n",
    "    for j in range(x1_grid.shape[1]):\n",
    "         z[i, j] = classi_pred([float(x1_grid1[i, j]), float(x2_grid1[i, j])], tree_128)\n",
    "\n",
    "# Plot the decision boundary\n",
    "plt.contourf(x1_grid, x2_grid, z, cmap='RdBu', alpha=0.5)\n",
    "plt.xlabel('x1')\n",
    "plt.ylabel('x2')\n",
    "plt.title('Decision boundary of training set D128')\n",
    "plt.show()"
   ]
  },
  {
   "cell_type": "code",
   "execution_count": null,
   "metadata": {},
   "outputs": [],
   "source": [
    "training_ind_512 = ind_list[:512]\n",
    "test_ind_512 = ind_list[512:]\n",
    "train_set512 = dbig.loc[training_ind_512]\n",
    "test_set512 = dbig.loc[test_ind_512]\n",
    "tree_512 = train_tree(train_set512, 'y')\n",
    "train_set512 = train_set512.reset_index()"
   ]
  },
  {
   "cell_type": "code",
   "execution_count": null,
   "metadata": {},
   "outputs": [],
   "source": [
    "x1 = np.linspace(-1.5, 1.5, 3000)\n",
    "x2 = np.linspace(-1.5, 1.5, 3000)\n",
    "x1_grid, x2_grid = np.meshgrid(x1, x2)\n",
    "for label in [0,1]:\n",
    "    row_ind = [i for i in range (len(train_set512['y'])) if train_set512['y'][i] == label]\n",
    "    plt.scatter([train_set512['x1'][row_ind]], [train_set512['x2'][row_ind]], c = 'red' if label == 0 else 'blue')\n",
    "    \n",
    "# Evaluate the decision tree on each point in the meshgrid\n",
    "z = np.zeros_like(x1_grid)\n",
    "for i in range(x1_grid.shape[0]):\n",
    "    for j in range(x1_grid.shape[1]):\n",
    "         z[i, j] = classi_pred([float(x1_grid1[i, j]), float(x2_grid1[i, j])], tree_512)\n",
    "\n",
    "# Plot the decision boundary\n",
    "plt.contourf(x1_grid, x2_grid, z, cmap='RdBu', alpha=0.5)\n",
    "plt.xlabel('x1')\n",
    "plt.ylabel('x2')\n",
    "plt.title('Decision boundary of training set D512')\n",
    "plt.show()"
   ]
  },
  {
   "cell_type": "code",
   "execution_count": null,
   "metadata": {},
   "outputs": [],
   "source": [
    "training_ind_2048 = ind_list[:2048]\n",
    "test_ind_2048 = ind_list[2048:]\n",
    "train_set2048 = dbig.loc[training_ind_2048]\n",
    "test_set2048 = dbig.loc[test_ind_2048]\n",
    "tree_2048 = train_tree(train_set2048, 'y')\n",
    "train_set2048 = train_set2048.reset_index()"
   ]
  },
  {
   "cell_type": "code",
   "execution_count": null,
   "metadata": {},
   "outputs": [],
   "source": [
    "x1 = np.linspace(-1.5, 1.5, 3000)\n",
    "x2 = np.linspace(-1.5, 1.5, 3000)\n",
    "x1_grid, x2_grid = np.meshgrid(x1, x2)\n",
    "for label in [0,1]:\n",
    "    row_ind = [i for i in range (len(train_set2048['y'])) if train_set2048['y'][i] == label]\n",
    "    plt.scatter([train_set2048['x1'][row_ind]], [train_set2048['x2'][row_ind]], c = 'red' if label == 0 else 'blue')\n",
    "    \n",
    "# Evaluate the decision tree on each point in the meshgrid\n",
    "z = np.zeros_like(x1_grid)\n",
    "for i in range(x1_grid.shape[0]):\n",
    "    for j in range(x1_grid.shape[1]):\n",
    "         z[i, j] = classi_pred([float(x1_grid1[i, j]), float(x2_grid1[i, j])], tree_2048)\n",
    "\n",
    "# Plot the decision boundary\n",
    "plt.contourf(x1_grid, x2_grid, z, cmap='RdBu', alpha=0.5)\n",
    "plt.xlabel('x1')\n",
    "plt.ylabel('x2')\n",
    "plt.title('Decision boundary of training set D2048')\n",
    "plt.show()"
   ]
  },
  {
   "cell_type": "code",
   "execution_count": null,
   "metadata": {},
   "outputs": [],
   "source": [
    "test_set32 = test_set32.reset_index()\n",
    "test_set128 = test_set128.reset_index()\n",
    "test_set512 = test_set512.reset_index()\n",
    "test_set2048 = test_set2048.reset_index()"
   ]
  },
  {
   "cell_type": "code",
   "execution_count": null,
   "metadata": {},
   "outputs": [],
   "source": [
    "test_set = test_set.reset_index()"
   ]
  },
  {
   "cell_type": "code",
   "execution_count": null,
   "metadata": {},
   "outputs": [],
   "source": [
    "err = []"
   ]
  },
  {
   "cell_type": "code",
   "execution_count": null,
   "metadata": {},
   "outputs": [],
   "source": [
    "pred_d32 = []\n",
    "for i in range(test_set32.shape[0]):\n",
    "    data_pred = classi_pred(test_set32.iloc[i,:], tree_32)\n",
    "    pred_d32.append(data_pred)\n",
    "actual_d32 = test_set32.y.tolist()\n",
    "truth_d32= np.subtract(actual_d32, pred_d32)\n",
    "accuracy_32 = np.count_nonzero(truth_d32)/len(truth_d32)\n",
    "err.append([accuracy_32, 6])\n",
    "accuracy_32"
   ]
  },
  {
   "cell_type": "code",
   "execution_count": null,
   "metadata": {},
   "outputs": [],
   "source": [
    "pred_d128 = []\n",
    "for i in range(test_set128.shape[0]):\n",
    "    data_pred = classi_pred(test_set128.iloc[i,:], tree_128)\n",
    "    pred_d128.append(data_pred)\n",
    "actual_d128 = test_set128.y.tolist()\n",
    "truth_d128= np.subtract(actual_d128, pred_d128)\n",
    "accuracy_128 = np.count_nonzero(truth_d128)/len(truth_d128)\n",
    "err.append([accuracy_128, 9])\n",
    "accuracy_128"
   ]
  },
  {
   "cell_type": "code",
   "execution_count": null,
   "metadata": {},
   "outputs": [],
   "source": [
    "pred_d512 = []\n",
    "for i in range(test_set512.shape[0]):\n",
    "    data_pred = classi_pred(test_set512.iloc[i,:], tree_512)\n",
    "    pred_d512.append(data_pred)\n",
    "actual_d512 = test_set512.y.tolist()\n",
    "truth_d512= np.subtract(actual_d512, pred_d512)\n",
    "accuracy_d512 = np.count_nonzero(truth_d512)/len(truth_d512)\n",
    "err.append([accuracy_d512, 28])\n",
    "accuracy_d512"
   ]
  },
  {
   "cell_type": "code",
   "execution_count": null,
   "metadata": {},
   "outputs": [],
   "source": [
    "pred_d2048 = []\n",
    "for i in range(test_set2048.shape[0]):\n",
    "    data_pred = classi_pred(test_set2048.iloc[i,:], tree_2048)\n",
    "    pred_d2048.append(data_pred)\n",
    "actual_d2048 = test_set2048.y.tolist()\n",
    "truth_d2048= np.subtract(actual_d2048, pred_d2048)\n",
    "accuracy_d2048 = np.count_nonzero(truth_d2048)/len(truth_d2048)\n",
    "err.append([accuracy_d2048, 59])\n",
    "accuracy_d2048"
   ]
  },
  {
   "cell_type": "code",
   "execution_count": null,
   "metadata": {},
   "outputs": [],
   "source": [
    "pred = []\n",
    "for i in range(test_set.shape[0]):\n",
    "    data_pred = classi_pred(test_set.iloc[i,:], tree_8192)\n",
    "    pred.append(data_pred)\n",
    "actual = test_set.y.tolist()\n",
    "truth= np.subtract(actual, pred)\n",
    "accuracy = np.count_nonzero(truth)/len(truth)\n",
    "err.append([accuracy, 136])\n",
    "accuracy"
   ]
  },
  {
   "cell_type": "code",
   "execution_count": null,
   "metadata": {},
   "outputs": [],
   "source": [
    "err"
   ]
  },
  {
   "cell_type": "code",
   "execution_count": null,
   "metadata": {},
   "outputs": [],
   "source": [
    "pd.DataFrame(err, columns= ['error','n']).plot.line(x = 'n', y = 'error', xlabel = 'number of node', ylabel = 'test set error')"
   ]
  },
  {
   "attachments": {},
   "cell_type": "markdown",
   "metadata": {},
   "source": [
    "Sklearn.tree"
   ]
  },
  {
   "cell_type": "code",
   "execution_count": null,
   "metadata": {},
   "outputs": [],
   "source": [
    "list_tree = []\n",
    "clf32 = DecisionTreeClassifier()\n",
    "clf32 = clf32.fit(train_set32.drop('y', axis = 1), train_set32['y'])\n",
    "#use score() method of the fitted classifier object, passing in the training/test data\n",
    "test_error32 = 1 - clf32.score(test_set32.drop('y', axis = 1), test_set32['y'])\n",
    "list_tree.append([clf32.tree_.node_count, test_error32])\n",
    "\n",
    "clf128 = DecisionTreeClassifier()\n",
    "clf128 = clf128.fit(train_set128.drop('y', axis = 1), train_set128['y'])\n",
    "test_error128 =  1 - clf128.score(test_set128.drop('y', axis = 1), test_set128['y'])\n",
    "list_tree.append([clf128.tree_.node_count, test_error128])\n",
    "\n",
    "clf512 = DecisionTreeClassifier()\n",
    "clf512 = clf512.fit(train_set512.drop('y', axis = 1), train_set512['y'])\n",
    "test_error512 =  1 - clf512.score(test_set512.drop('y', axis = 1), test_set512['y'])\n",
    "list_tree.append([clf512.tree_.node_count, test_error512])\n",
    "\n",
    "clf2048 = DecisionTreeClassifier()\n",
    "clf2048 = clf2048.fit(train_set2048.drop('y', axis = 1), train_set2048['y'])\n",
    "test_error2048 =  1 - clf2048.score(test_set2048.drop('y', axis = 1), test_set2048['y'])\n",
    "list_tree.append([clf2048.tree_.node_count, test_error2048])\n",
    "\n",
    "clf8092 = DecisionTreeClassifier()\n",
    "clf8092 = clf8092.fit(train_set.drop('y', axis = 1), train_set['y'])\n",
    "test_error8092 =  1 - clf8092.score(test_set.drop('y', axis = 1), test_set['y'])\n",
    "list_tree.append([clf8092.tree_.node_count, test_error8092])\n",
    "\n",
    "pd.DataFrame(list_tree, columns= ['n', 'err']).plot.line(x = 'n', y = 'err', xlabel = 'number of node', ylabel = 'test error')\n",
    "\n"
   ]
  },
  {
   "cell_type": "code",
   "execution_count": null,
   "metadata": {},
   "outputs": [],
   "source": [
    "list_tree"
   ]
  },
  {
   "attachments": {},
   "cell_type": "markdown",
   "metadata": {},
   "source": [
    "Lagrange Interpolation"
   ]
  },
  {
   "cell_type": "code",
   "execution_count": null,
   "metadata": {},
   "outputs": [],
   "source": [
    "a,b, n = 0, np.pi, 100\n",
    "list_cu = []\n",
    "\n",
    "#train set\n",
    "x_train = np.linspace(a, b, n)\n",
    "y_train = np.sin(x_train)\n",
    "\n",
    "#test set\n",
    "x_test = np.linspace(a, b, 50)\n",
    "y_test = np.sin(x_test)\n",
    "\n",
    "f = lagrange(x_train,y_train)\n",
    "\n",
    "#training error and test error \n",
    "train_error = np.mean((f(x_train) - y_train)**2)\n",
    "test_error = np.mean((f(x_test) - y_test)**2)\n",
    "list_cu.append([0, train_error, test_error])\n",
    "for i in [0.05, 0.1, 0.15, 0.2, 0.25, 0.3, 0.35]:\n",
    "    #train with noise set from 0 to 0.35\n",
    "    np.random.seed(0)\n",
    "    noise = np.random.normal(0, i, n)\n",
    "    x_train_noise = x_train + noise\n",
    "    y_train_noise = np.sin(x_train_noise)\n",
    "\n",
    "    f_noise = lagrange(x_train_noise, y_train_noise)\n",
    "    \n",
    "    #train error & test error\n",
    "    train_error = np.mean((f_noise(x_train_noise) - y_train_noise)**2)\n",
    "    test_error = np.mean((f_noise(x_test) - y_test)**2)\n",
    "    list_cu.append([i, train_error, test_error])\n",
    "\n",
    "list_cu\n"
   ]
  }
 ],
 "metadata": {
  "kernelspec": {
   "display_name": "Python 3",
   "language": "python",
   "name": "python3"
  },
  "language_info": {
   "codemirror_mode": {
    "name": "ipython",
    "version": 3
   },
   "file_extension": ".py",
   "mimetype": "text/x-python",
   "name": "python",
   "nbconvert_exporter": "python",
   "pygments_lexer": "ipython3",
   "version": "3.8.8"
  },
  "orig_nbformat": 4,
  "vscode": {
   "interpreter": {
    "hash": "81794d4967e6c3204c66dcd87b604927b115b27c00565d3d43f05ba2f3a2cb0d"
   }
  }
 },
 "nbformat": 4,
 "nbformat_minor": 2
}
