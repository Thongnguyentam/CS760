{
 "cells": [
  {
   "cell_type": "code",
   "execution_count": 285,
   "metadata": {},
   "outputs": [
    {
     "name": "stdout",
     "output_type": "stream",
     "text": [
      "The autoreload extension is already loaded. To reload it, use:\n",
      "  %reload_ext autoreload\n"
     ]
    }
   ],
   "source": [
    "%load_ext autoreload\n",
    "%autoreload 2\n",
    "import matplotlib.pyplot as plt\n",
    "import numpy as np\n",
    "import pandas as pd\n",
    "from sklearn import neighbors\n",
    "from sklearn.metrics import accuracy_score, recall_score, precision_score\n",
    "from sklearn.linear_model import LogisticRegression\n",
    "from logistic_regression import CustomeLogisticRegression\n",
    "from sklearn.metrics import roc_curve, auc,roc_auc_score\n"
   ]
  },
  {
   "cell_type": "code",
   "execution_count": 308,
   "metadata": {},
   "outputs": [
    {
     "data": {
      "text/plain": [
       "Text(0.5, 1.0, 'ROC Curve')"
      ]
     },
     "execution_count": 308,
     "metadata": {},
     "output_type": "execute_result"
    },
    {
     "data": {
      "image/png": "[encoded data removed]",
      "text/plain": [
       "<Figure size 640x480 with 1 Axes>"
      ]
     },
     "metadata": {},
     "output_type": "display_data"
    }
   ],
   "source": [
    "q5 = [[0,0], [1/3, 0], [2/3, 1/4], [1, 1/2], [1, 1]]\n",
    "df_q5 = pd.DataFrame(q5, columns= ['TPR', 'FPR'])\n",
    "fig, ax = plt.subplots()\n",
    "\n",
    "ax.plot(df_q5['FPR'], df_q5['TPR'])\n",
    "ax.set_xlabel(\"False Positive Rate\")\n",
    "ax.set_ylabel('True Positive Rate')\n",
    "ax.set_title('ROC Curve')\n"
   ]
  },
  {
   "cell_type": "code",
   "execution_count": 287,
   "metadata": {},
   "outputs": [
    {
     "data": {
      "text/html": [
       "<div>\n",
       "<style scoped>\n",
       "    .dataframe tbody tr th:only-of-type {\n",
       "        vertical-align: middle;\n",
       "    }\n",
       "\n",
       "    .dataframe tbody tr th {\n",
       "        vertical-align: top;\n",
       "    }\n",
       "\n",
       "    .dataframe thead th {\n",
       "        text-align: right;\n",
       "    }\n",
       "</style>\n",
       "<table border=\"1\" class=\"dataframe\">\n",
       "  <thead>\n",
       "    <tr style=\"text-align: right;\">\n",
       "      <th></th>\n",
       "      <th>x1</th>\n",
       "      <th>x2</th>\n",
       "      <th>y</th>\n",
       "    </tr>\n",
       "  </thead>\n",
       "  <tbody>\n",
       "    <tr>\n",
       "      <th>0</th>\n",
       "      <td>-0.333338</td>\n",
       "      <td>-0.087171</td>\n",
       "      <td>0</td>\n",
       "    </tr>\n",
       "    <tr>\n",
       "      <th>1</th>\n",
       "      <td>-1.531730</td>\n",
       "      <td>0.358194</td>\n",
       "      <td>1</td>\n",
       "    </tr>\n",
       "    <tr>\n",
       "      <th>2</th>\n",
       "      <td>1.549590</td>\n",
       "      <td>-0.364050</td>\n",
       "      <td>0</td>\n",
       "    </tr>\n",
       "    <tr>\n",
       "      <th>3</th>\n",
       "      <td>-1.349910</td>\n",
       "      <td>0.252063</td>\n",
       "      <td>1</td>\n",
       "    </tr>\n",
       "    <tr>\n",
       "      <th>4</th>\n",
       "      <td>1.283850</td>\n",
       "      <td>-0.531146</td>\n",
       "      <td>0</td>\n",
       "    </tr>\n",
       "  </tbody>\n",
       "</table>\n",
       "</div>"
      ],
      "text/plain": [
       "         x1        x2  y\n",
       "0 -0.333338 -0.087171  0\n",
       "1 -1.531730  0.358194  1\n",
       "2  1.549590 -0.364050  0\n",
       "3 -1.349910  0.252063  1\n",
       "4  1.283850 -0.531146  0"
      ]
     },
     "execution_count": 287,
     "metadata": {},
     "output_type": "execute_result"
    }
   ],
   "source": [
    "D2z = pd.read_csv('data/D2z.txt', names= [\"x1\", \"x2\", \"y\"], sep = ' ')\n",
    "D2z.head()"
   ]
  },
  {
   "cell_type": "code",
   "execution_count": 288,
   "metadata": {},
   "outputs": [
    {
     "data": {
      "text/plain": [
       "array([0, 1, 0, 1, 0, 1, 1, 1, 1, 1, 0, 1, 1, 1, 0, 1, 1, 1, 0, 1, 0, 0,\n",
       "       1, 0, 0, 0, 0, 0, 0, 0, 0, 1, 0, 0, 1, 1, 0, 0, 1, 1, 1, 1, 0, 1,\n",
       "       1, 1, 1, 0, 1, 0, 0, 1, 1, 0, 0, 1, 0, 1, 1, 0, 1, 1, 1, 0, 1, 0,\n",
       "       0, 1, 0, 0, 0, 1, 0, 0, 1, 1, 0, 0, 1, 1, 0, 0, 1, 0, 1, 0, 0, 1,\n",
       "       0, 1, 0, 1, 1, 1, 0, 1, 1, 1, 1, 0, 1, 0, 1, 1, 1, 0, 0, 0, 1, 0,\n",
       "       1, 1, 0, 0, 0, 0, 1, 0, 0, 0, 1, 1, 0, 0, 1, 0, 0, 1, 1, 0, 1, 0,\n",
       "       0, 1, 0, 1, 0, 1, 1, 1, 1, 0, 1, 0, 1, 1, 1, 1, 0, 0, 0, 1, 0, 0,\n",
       "       0, 0, 0, 1, 0, 1, 1, 0, 1, 1, 1, 1, 1, 1, 1, 0, 1, 1, 0, 0, 1, 1,\n",
       "       0, 0, 1, 1, 1, 0, 1, 1, 1, 1, 1, 1, 1, 0, 1, 0, 0, 0, 1, 1, 0, 1,\n",
       "       1, 0], dtype=int64)"
      ]
     },
     "execution_count": 288,
     "metadata": {},
     "output_type": "execute_result"
    }
   ],
   "source": [
    "X = D2z.drop('y', axis = 1)\n",
    "X.values\n",
    "Y = D2z['y']\n",
    "Y.values"
   ]
  },
  {
   "cell_type": "code",
   "execution_count": 289,
   "metadata": {},
   "outputs": [],
   "source": [
    "s = np.arange(-20, 21)/10\n",
    "distances_list = []\n",
    "k = 0\n",
    "for i in s:\n",
    "    for j in s:\n",
    "       new_point = np.array([i, j])\n",
    "       distances = np.linalg.norm(X - new_point, axis = 1)\n",
    "       distances_min = distances.argsort()[k]\n",
    "       y_distances_min = Y[distances_min]\n",
    "       distances_list.append([i, j, y_distances_min])\n",
    "\n",
    "distances_list = pd.DataFrame(distances_list, columns= ['x1', 'x2', 'y'])\n"
   ]
  },
  {
   "cell_type": "code",
   "execution_count": 290,
   "metadata": {},
   "outputs": [
    {
     "data": {
      "text/plain": [
       "0       True\n",
       "1      False\n",
       "2       True\n",
       "3      False\n",
       "4       True\n",
       "       ...  \n",
       "195    False\n",
       "196     True\n",
       "197    False\n",
       "198    False\n",
       "199     True\n",
       "Name: y, Length: 200, dtype: bool"
      ]
     },
     "execution_count": 290,
     "metadata": {},
     "output_type": "execute_result"
    }
   ],
   "source": [
    "D2z['y'] == 0"
   ]
  },
  {
   "cell_type": "code",
   "execution_count": 291,
   "metadata": {},
   "outputs": [
    {
     "data": {
      "image/png": "[encoded data removed]",
      "text/plain": [
       "<Figure size 640x480 with 1 Axes>"
      ]
     },
     "metadata": {},
     "output_type": "display_data"
    }
   ],
   "source": [
    "group1 = distances_list[distances_list['y'] == 1]\n",
    "group2 = distances_list[distances_list['y'] == 0]\n",
    "group1_train = D2z[D2z['y'] == 1] \n",
    "group2_train = D2z[D2z['y'] == 0] \n",
    "fig, ax = plt.subplots()\n",
    "\n",
    "ax.scatter(group1['x1'], group1['x2'], color = 'red', alpha= 0.2, s = 2)\n",
    "ax.scatter(group2['x1'], group2['x2'], color = 'blue', alpha= 0.2, s = 2)\n",
    "ax.scatter(group1_train['x1'], group1_train['x2'], color = 'black', marker= '+', alpha=0.8)\n",
    "ax.scatter(group2_train['x1'], group2_train['x2'], color = 'black', marker= 'o', alpha = 0.8, s = 3)\n",
    "\n",
    "plt.show()"
   ]
  },
  {
   "cell_type": "code",
   "execution_count": 292,
   "metadata": {},
   "outputs": [],
   "source": [
    "df_email = pd.read_csv('data/emails.csv')"
   ]
  },
  {
   "cell_type": "code",
   "execution_count": 293,
   "metadata": {},
   "outputs": [],
   "source": [
    "#fold1\n",
    "fold1_train = df_email[1000:]\n",
    "X_fold1 = fold1_train.drop(['Email No.', 'Prediction'], axis = 1).apply(pd.to_numeric, axis = 1).reset_index()\n",
    "X_fold1 = X_fold1.drop('level_0', axis = 1)\n",
    "Y_fold1 = fold1_train['Prediction'].reset_index()\n",
    "\n",
    "fold1_test = df_email[0:1000]\n",
    "x_test_fold1 = fold1_test.drop(['Email No.', 'Prediction'], axis = 1).apply(pd.to_numeric, axis = 1)\n",
    "y_actual_fold1 = fold1_test['Prediction']\n",
    "\n",
    "#fold2\n",
    "fold2_train = df_email.drop(index= range(999, 2000))\n",
    "X_fold2 = fold2_train.drop(['Email No.', 'Prediction'], axis=1).apply(pd.to_numeric, axis = 1).reset_index()\n",
    "X_fold2 = X_fold2.drop('level_0', axis = 1)\n",
    "Y_fold2 = fold2_train['Prediction'].reset_index()\n",
    "\n",
    "fold2_test = df_email[999:2000]\n",
    "x_test_fold2 = fold2_test.drop(['Email No.', 'Prediction'], axis = 1).apply(pd.to_numeric, axis = 1)\n",
    "x_test_fold2 = x_test_fold2.reset_index().drop('level_0', axis = 1)\n",
    "y_actual_fold2 = fold2_test['Prediction']\n",
    "y_actual_fold2 = y_actual_fold2.reset_index()['Prediction']\n",
    "\n",
    "#fold3\n",
    "fold3_train = df_email.drop(index= range(1999, 3000))\n",
    "X_fold3 = fold3_train.drop(['Email No.', 'Prediction'], axis=1).apply(pd.to_numeric, axis = 1).reset_index()\n",
    "X_fold3 = X_fold3.drop('level_0', axis = 1)\n",
    "Y_fold3 = fold3_train['Prediction'].reset_index()\n",
    "\n",
    "fold3_test = df_email[1999:3000]\n",
    "x_test_fold3 = fold3_test.drop(['Email No.', 'Prediction'], axis = 1).apply(pd.to_numeric, axis = 1)\n",
    "x_test_fold3 = x_test_fold3.reset_index().drop('level_0', axis = 1)\n",
    "y_actual_fold3 = fold3_test['Prediction']\n",
    "y_actual_fold3 = y_actual_fold3.reset_index()['Prediction']\n",
    "\n",
    "#fold4\n",
    "fold4_train = df_email.drop(index= range(2999, 4000))\n",
    "X_fold4 = fold4_train.drop(['Email No.', 'Prediction'], axis=1).apply(pd.to_numeric, axis = 1).reset_index()\n",
    "X_fold4 = X_fold4.drop('level_0', axis = 1)\n",
    "Y_fold4 = fold4_train['Prediction'].reset_index()\n",
    "\n",
    "fold4_test = df_email[2999:4000]\n",
    "x_test_fold4 = fold4_test.drop(['Email No.', 'Prediction'], axis = 1).apply(pd.to_numeric, axis = 1)\n",
    "x_test_fold4 = x_test_fold4.reset_index().drop('level_0', axis = 1)\n",
    "y_actual_fold4 = fold4_test['Prediction']\n",
    "y_actual_fold4 = y_actual_fold4.reset_index()['Prediction']\n",
    "\n",
    "#fold5\n",
    "fold5_train = df_email.drop(index= range(3999, 5000))\n",
    "X_fold5 = fold5_train.drop(['Email No.', 'Prediction'], axis=1).apply(pd.to_numeric, axis = 1).reset_index()\n",
    "X_fold5 = X_fold5.drop('level_0', axis = 1)\n",
    "Y_fold5 = fold5_train['Prediction'].reset_index()\n",
    "\n",
    "fold5_test = df_email[3999:5000]\n",
    "x_test_fold5 = fold5_test.drop(['Email No.', 'Prediction'], axis = 1).apply(pd.to_numeric, axis = 1)\n",
    "x_test_fold5 = x_test_fold5.reset_index().drop('level_0', axis = 1)\n",
    "y_actual_fold5 = fold5_test['Prediction']\n",
    "y_actual_fold5 = y_actual_fold5.reset_index()['Prediction']\n",
    "\n",
    "# result\n",
    "res = []\n"
   ]
  },
  {
   "cell_type": "markdown",
   "metadata": {},
   "source": [
    "# Sklearn Knn"
   ]
  },
  {
   "cell_type": "code",
   "execution_count": 294,
   "metadata": {},
   "outputs": [],
   "source": [
    "def accuracy(actual, pred):\n",
    "    TP, TN, FP, FN = 0, 0, 0, 0\n",
    "    for i in range(len(actual)):\n",
    "        if actual[i] == 0 and pred[i][1] == 0:\n",
    "            TN = TN + 1\n",
    "        elif actual[i] == 0 and pred[i][1] == 1:\n",
    "            FN = FN + 1\n",
    "        elif  actual[i] == 1 and pred[i][1] == 1:\n",
    "            TP = TP + 1\n",
    "        else:\n",
    "            FP = FP + 1\n",
    "    Accuracy = (TP + TN) / (TP + TN + FN + FP)\n",
    "    Precision = TP/(TP + FP)\n",
    "    Recall = TP/(TP + FN)\n",
    "    return Accuracy, Precision, Recall"
   ]
  },
  {
   "cell_type": "code",
   "execution_count": 295,
   "metadata": {},
   "outputs": [],
   "source": [
    "clf = neighbors.KNeighborsClassifier(n_neighbors= 1, p = 2)\n",
    "clf.fit(X_fold1, Y_fold1)\n",
    "y_pred = clf.predict(x_test_fold1)\n",
    "\n",
    "evaluation = []\n",
    "\n",
    "Accuracy, Precision, Recall = accuracy(y_actual_fold1, y_pred)\n",
    "evaluation.append(['Fold 1', Accuracy, Precision, Recall])"
   ]
  },
  {
   "cell_type": "code",
   "execution_count": 296,
   "metadata": {},
   "outputs": [],
   "source": [
    "evaluation = []\n",
    "clf = neighbors.KNeighborsClassifier(n_neighbors= 1, p = 2)\n",
    "\n",
    "clf.fit(X_fold1, Y_fold1)\n",
    "y_pred = clf.predict(x_test_fold1)\n",
    "Accuracy, Precision, Recall = accuracy(y_actual_fold1, y_pred)\n",
    "evaluation.append(['Fold 1', Accuracy, Precision, Recall])\n",
    "\n",
    "clf.fit(X_fold2, Y_fold2)\n",
    "y_pred = clf.predict(x_test_fold2)\n",
    "Accuracy, Precision, Recall = accuracy(y_actual_fold2, y_pred)\n",
    "evaluation.append(['Fold 2', Accuracy, Precision, Recall])\n",
    "\n",
    "clf.fit(X_fold3, Y_fold3)\n",
    "y_pred = clf.predict(x_test_fold3)\n",
    "Accuracy, Precision, Recall = accuracy(y_actual_fold3, y_pred)\n",
    "evaluation.append(['Fold 3', Accuracy, Precision, Recall])\n",
    "\n",
    "clf.fit(X_fold4, Y_fold4)\n",
    "y_pred = clf.predict(x_test_fold4)\n",
    "Accuracy, Precision, Recall = accuracy(y_actual_fold4, y_pred)\n",
    "evaluation.append(['Fold 4', Accuracy, Precision, Recall])\n",
    "\n",
    "clf.fit(X_fold5, Y_fold5)\n",
    "y_pred = clf.predict(x_test_fold5)\n",
    "Accuracy, Precision, Recall = accuracy(y_actual_fold5, y_pred)\n",
    "evaluation.append(['Fold 5', Accuracy, Precision, Recall])"
   ]
  },
  {
   "cell_type": "code",
   "execution_count": 297,
   "metadata": {},
   "outputs": [
    {
     "data": {
      "text/html": [
       "<div>\n",
       "<style scoped>\n",
       "    .dataframe tbody tr th:only-of-type {\n",
       "        vertical-align: middle;\n",
       "    }\n",
       "\n",
       "    .dataframe tbody tr th {\n",
       "        vertical-align: top;\n",
       "    }\n",
       "\n",
       "    .dataframe thead th {\n",
       "        text-align: right;\n",
       "    }\n",
       "</style>\n",
       "<table border=\"1\" class=\"dataframe\">\n",
       "  <thead>\n",
       "    <tr style=\"text-align: right;\">\n",
       "      <th></th>\n",
       "      <th>Fold</th>\n",
       "      <th>Accuracy</th>\n",
       "      <th>Precision</th>\n",
       "      <th>Recall</th>\n",
       "    </tr>\n",
       "  </thead>\n",
       "  <tbody>\n",
       "    <tr>\n",
       "      <th>0</th>\n",
       "      <td>Fold 1</td>\n",
       "      <td>0.825000</td>\n",
       "      <td>0.817544</td>\n",
       "      <td>0.654494</td>\n",
       "    </tr>\n",
       "    <tr>\n",
       "      <th>1</th>\n",
       "      <td>Fold 2</td>\n",
       "      <td>0.852148</td>\n",
       "      <td>0.866426</td>\n",
       "      <td>0.683761</td>\n",
       "    </tr>\n",
       "    <tr>\n",
       "      <th>2</th>\n",
       "      <td>Fold 3</td>\n",
       "      <td>0.861139</td>\n",
       "      <td>0.835088</td>\n",
       "      <td>0.721212</td>\n",
       "    </tr>\n",
       "    <tr>\n",
       "      <th>3</th>\n",
       "      <td>Fold 4</td>\n",
       "      <td>0.851149</td>\n",
       "      <td>0.816327</td>\n",
       "      <td>0.716418</td>\n",
       "    </tr>\n",
       "    <tr>\n",
       "      <th>4</th>\n",
       "      <td>Fold 5</td>\n",
       "      <td>0.775225</td>\n",
       "      <td>0.758170</td>\n",
       "      <td>0.605744</td>\n",
       "    </tr>\n",
       "  </tbody>\n",
       "</table>\n",
       "</div>"
      ],
      "text/plain": [
       "     Fold  Accuracy  Precision    Recall\n",
       "0  Fold 1  0.825000   0.817544  0.654494\n",
       "1  Fold 2  0.852148   0.866426  0.683761\n",
       "2  Fold 3  0.861139   0.835088  0.721212\n",
       "3  Fold 4  0.851149   0.816327  0.716418\n",
       "4  Fold 5  0.775225   0.758170  0.605744"
      ]
     },
     "execution_count": 297,
     "metadata": {},
     "output_type": "execute_result"
    }
   ],
   "source": [
    "evaluation = pd.DataFrame(evaluation, columns= ['Fold', 'Accuracy', 'Precision', 'Recall'])\n",
    "evaluation"
   ]
  },
  {
   "cell_type": "code",
   "execution_count": 298,
   "metadata": {},
   "outputs": [],
   "source": [
    "mean_accuracy = []\n",
    "mean_accuracy.append([1, np.mean(evaluation['Accuracy'])])"
   ]
  },
  {
   "cell_type": "code",
   "execution_count": 299,
   "metadata": {},
   "outputs": [],
   "source": [
    "for i in [3,5,7,10]:\n",
    "    evaluation = []\n",
    "    clf = neighbors.KNeighborsClassifier(n_neighbors= i, p = 2)\n",
    "\n",
    "    clf.fit(X_fold1, Y_fold1)\n",
    "    y_pred = clf.predict(x_test_fold1)\n",
    "    Accuracy, Precision, Recall = accuracy(y_actual_fold1, y_pred)\n",
    "    evaluation.append(Accuracy)\n",
    "\n",
    "    clf.fit(X_fold2, Y_fold2)\n",
    "    y_pred = clf.predict(x_test_fold2)\n",
    "    Accuracy, Precision, Recall = accuracy(y_actual_fold2, y_pred)\n",
    "    evaluation.append(Accuracy)\n",
    "\n",
    "    clf.fit(X_fold3, Y_fold3)\n",
    "    y_pred = clf.predict(x_test_fold3)\n",
    "    Accuracy, Precision, Recall = accuracy(y_actual_fold3, y_pred)\n",
    "    evaluation.append(Accuracy)\n",
    "\n",
    "    clf.fit(X_fold4, Y_fold4)\n",
    "    y_pred = clf.predict(x_test_fold4)\n",
    "    Accuracy, Precision, Recall = accuracy(y_actual_fold4, y_pred)\n",
    "    evaluation.append(Accuracy)\n",
    "\n",
    "    clf.fit(X_fold5, Y_fold5)\n",
    "    y_pred = clf.predict(x_test_fold5)\n",
    "    Accuracy, Precision, Recall = accuracy(y_actual_fold5, y_pred)\n",
    "    evaluation.append(Accuracy)\n",
    "\n",
    "    mean_accuracy.append([i, np.mean(evaluation)])\n"
   ]
  },
  {
   "cell_type": "code",
   "execution_count": 300,
   "metadata": {},
   "outputs": [
    {
     "data": {
      "text/html": [
       "<div>\n",
       "<style scoped>\n",
       "    .dataframe tbody tr th:only-of-type {\n",
       "        vertical-align: middle;\n",
       "    }\n",
       "\n",
       "    .dataframe tbody tr th {\n",
       "        vertical-align: top;\n",
       "    }\n",
       "\n",
       "    .dataframe thead th {\n",
       "        text-align: right;\n",
       "    }\n",
       "</style>\n",
       "<table border=\"1\" class=\"dataframe\">\n",
       "  <thead>\n",
       "    <tr style=\"text-align: right;\">\n",
       "      <th></th>\n",
       "      <th>k</th>\n",
       "      <th>Accuracy</th>\n",
       "    </tr>\n",
       "  </thead>\n",
       "  <tbody>\n",
       "    <tr>\n",
       "      <th>0</th>\n",
       "      <td>1</td>\n",
       "      <td>0.832932</td>\n",
       "    </tr>\n",
       "    <tr>\n",
       "      <th>1</th>\n",
       "      <td>3</td>\n",
       "      <td>0.841728</td>\n",
       "    </tr>\n",
       "    <tr>\n",
       "      <th>2</th>\n",
       "      <td>5</td>\n",
       "      <td>0.840527</td>\n",
       "    </tr>\n",
       "    <tr>\n",
       "      <th>3</th>\n",
       "      <td>7</td>\n",
       "      <td>0.846122</td>\n",
       "    </tr>\n",
       "    <tr>\n",
       "      <th>4</th>\n",
       "      <td>10</td>\n",
       "      <td>0.855117</td>\n",
       "    </tr>\n",
       "  </tbody>\n",
       "</table>\n",
       "</div>"
      ],
      "text/plain": [
       "    k  Accuracy\n",
       "0   1  0.832932\n",
       "1   3  0.841728\n",
       "2   5  0.840527\n",
       "3   7  0.846122\n",
       "4  10  0.855117"
      ]
     },
     "execution_count": 300,
     "metadata": {},
     "output_type": "execute_result"
    }
   ],
   "source": [
    "mean_accuracy = pd.DataFrame(mean_accuracy, columns= ['k', 'Accuracy'])\n",
    "mean_accuracy"
   ]
  },
  {
   "cell_type": "code",
   "execution_count": 301,
   "metadata": {},
   "outputs": [
    {
     "data": {
      "text/plain": [
       "Text(0.5, 1.0, 'kNN 5-Fold Cross validation')"
      ]
     },
     "execution_count": 301,
     "metadata": {},
     "output_type": "execute_result"
    },
    {
     "data": {
      "image/png": "[encoded data removed]",
      "text/plain": [
       "<Figure size 640x480 with 1 Axes>"
      ]
     },
     "metadata": {},
     "output_type": "display_data"
    }
   ],
   "source": [
    "fig, ax = plt.subplots()\n",
    "\n",
    "ax.plot(mean_accuracy['k'], mean_accuracy['Accuracy'])\n",
    "ax.set_xlabel('k')\n",
    "ax.set_ylabel('Accuracy')\n",
    "ax.set_title('kNN 5-Fold Cross validation')"
   ]
  },
  {
   "cell_type": "code",
   "execution_count": 302,
   "metadata": {},
   "outputs": [],
   "source": [
    "fold5_train = df_email.loc[:3999]\n",
    "X_fold5 = fold5_train.drop(['Email No.', 'Prediction'], axis=1)\n",
    "Y_fold5 = fold5_train['Prediction']\n",
    "fold5_test = df_email.loc[4000:4999]\n",
    "x_test_fold5 = fold5_test.drop(['Email No.', 'Prediction'], axis=1)\n",
    "y_actual_fold5 = fold5_test['Prediction']\n"
   ]
  },
  {
   "cell_type": "code",
   "execution_count": 303,
   "metadata": {},
   "outputs": [
    {
     "data": {
      "text/plain": [
       "0.846393456518054"
      ]
     },
     "execution_count": 303,
     "metadata": {},
     "output_type": "execute_result"
    }
   ],
   "source": [
    "clf = neighbors.KNeighborsClassifier(n_neighbors= 5, p = 2)\n",
    "clf.fit(X_fold5, Y_fold5)\n",
    "y_prob = clf.predict_proba(x_test_fold5)[:, 1] # is a list of predicted probabilities (i.e., the probability that the sample belongs to the positive class)\n",
    "fpr, tpr, threshold = roc_curve(y_actual_fold5, y_prob)\n",
    "roc_auc = auc(fpr, tpr)\n",
    "roc_auc_score(y_actual_fold5, y_prob)"
   ]
  },
  {
   "attachments": {},
   "cell_type": "markdown",
   "metadata": {},
   "source": [
    "# Logistics Regression"
   ]
  },
  {
   "cell_type": "code",
   "execution_count": 304,
   "metadata": {},
   "outputs": [],
   "source": [
    "df_email = pd.read_csv('data/emails.csv')\n",
    "\n",
    "#fold1\n",
    "fold1_train = df_email[1000:]\n",
    "X_fold1 = fold1_train.drop(['Email No.', 'Prediction'], axis = 1).apply(pd.to_numeric, axis = 1)\n",
    "Y_fold1 = fold1_train['Prediction']\n",
    "\n",
    "fold1_test = df_email[0:1000]\n",
    "x_test_fold1 = fold1_test.drop(['Email No.', 'Prediction'], axis = 1).apply(pd.to_numeric, axis = 1)\n",
    "y_actual_fold1 = fold1_test['Prediction']\n",
    "\n",
    "#fold2\n",
    "fold2_train = df_email.drop(index= range(999, 2000))\n",
    "X_fold2 = fold2_train.drop(['Email No.', 'Prediction'], axis=1).apply(pd.to_numeric, axis = 1)\n",
    "Y_fold2 = fold2_train['Prediction']\n",
    "\n",
    "fold2_test = df_email[999:2000]\n",
    "x_test_fold2 = fold2_test.drop(['Email No.', 'Prediction'], axis = 1).apply(pd.to_numeric, axis = 1)\n",
    "y_actual_fold2 = fold2_test['Prediction']\n",
    "\n",
    "#fold3\n",
    "fold3_train = df_email.drop(index= range(1999, 3000))\n",
    "X_fold3 = fold3_train.drop(['Email No.', 'Prediction'], axis=1).apply(pd.to_numeric, axis = 1)\n",
    "Y_fold3 = fold3_train['Prediction']\n",
    "\n",
    "fold3_test = df_email[1999:3000]\n",
    "x_test_fold3 = fold3_test.drop(['Email No.', 'Prediction'], axis = 1).apply(pd.to_numeric, axis = 1)\n",
    "y_actual_fold3 = fold3_test['Prediction']\n",
    "\n",
    "#fold4\n",
    "fold4_train = df_email.drop(index= range(2999, 4000))\n",
    "X_fold4 = fold4_train.drop(['Email No.', 'Prediction'], axis=1).apply(pd.to_numeric, axis = 1)\n",
    "Y_fold4 = fold4_train['Prediction']\n",
    "\n",
    "fold4_test = df_email[2999:4000]\n",
    "x_test_fold4 = fold4_test.drop(['Email No.', 'Prediction'], axis = 1).apply(pd.to_numeric, axis = 1)\n",
    "y_actual_fold4 = fold4_test['Prediction']\n",
    "\n",
    "#fold5\n",
    "fold5_train = df_email.drop(index= range(3999, 5000))\n",
    "X_fold5 = fold5_train.drop(['Email No.', 'Prediction'], axis=1).apply(pd.to_numeric, axis = 1)\n",
    "Y_fold5 = fold5_train['Prediction']\n",
    "\n",
    "fold5_test = df_email[3999:5000]\n",
    "x_test_fold5 = fold5_test.drop(['Email No.', 'Prediction'], axis = 1).apply(pd.to_numeric, axis = 1)\n",
    "y_actual_fold5 = fold5_test['Prediction']\n",
    "\n",
    "# result\n",
    "res = []"
   ]
  },
  {
   "cell_type": "code",
   "execution_count": 305,
   "metadata": {},
   "outputs": [],
   "source": [
    "lr = CustomeLogisticRegression(learning_rate= 0.005)\n",
    "epoch = 750\n",
    "metrics = []"
   ]
  },
  {
   "cell_type": "code",
   "execution_count": 306,
   "metadata": {},
   "outputs": [
    {
     "data": {
      "text/plain": [
       "[[0.893, 0.9120370370370371, 0.6912280701754386],\n",
       " [0.8851148851148851, 0.8347107438016529, 0.7292418772563177],\n",
       " [0.8691308691308691, 0.7436708860759493, 0.8245614035087719],\n",
       " [0.8771228771228772, 0.8131868131868132, 0.7551020408163265],\n",
       " [0.8401598401598401, 0.7027777777777777, 0.826797385620915]]"
      ]
     },
     "execution_count": 306,
     "metadata": {},
     "output_type": "execute_result"
    }
   ],
   "source": [
    "lr.fit(X_fold1, Y_fold1, epoch)\n",
    "pred = lr.predict(x_test_fold1)\n",
    "accuracy = accuracy_score(pred,y_actual_fold1)\n",
    "recall = recall_score(pred,y_actual_fold1)\n",
    "prec = precision_score(pred,y_actual_fold1)\n",
    "metrics.append([accuracy, recall, prec])\n",
    "\n",
    "lr.fit(X_fold2, Y_fold2, epoch)\n",
    "pred = lr.predict(x_test_fold2)\n",
    "accuracy = accuracy_score(pred,y_actual_fold2)\n",
    "recall = recall_score(pred,y_actual_fold2)\n",
    "prec = precision_score(pred,y_actual_fold2)\n",
    "metrics.append([accuracy, recall, prec])\n",
    "\n",
    "lr.fit(X_fold3, Y_fold3, epoch)\n",
    "pred = lr.predict(x_test_fold3)\n",
    "accuracy = accuracy_score(pred,y_actual_fold3)\n",
    "recall = recall_score(pred,y_actual_fold3)\n",
    "prec = precision_score(pred,y_actual_fold3)\n",
    "metrics.append([accuracy, recall, prec])\n",
    "\n",
    "lr.fit(X_fold4, Y_fold4, epoch)\n",
    "pred = lr.predict(x_test_fold4)\n",
    "accuracy = accuracy_score(pred,y_actual_fold4)\n",
    "recall = recall_score(pred,y_actual_fold4)\n",
    "prec = precision_score(pred,y_actual_fold4)\n",
    "metrics.append([accuracy, recall, prec])\n",
    "\n",
    "lr.fit(X_fold5, Y_fold5, epoch)\n",
    "pred = lr.predict(x_test_fold5)\n",
    "accuracy = accuracy_score(pred,y_actual_fold5)\n",
    "recall = recall_score(pred,y_actual_fold5)\n",
    "prec = precision_score(pred,y_actual_fold5)\n",
    "metrics.append([accuracy, recall, prec])\n",
    "\n",
    "metrics"
   ]
  },
  {
   "cell_type": "code",
   "execution_count": 307,
   "metadata": {},
   "outputs": [
    {
     "data": {
      "text/plain": [
       "Text(0, 0.5, 'True Positive Rate (Positive Rate: 1)')"
      ]
     },
     "execution_count": 307,
     "metadata": {},
     "output_type": "execute_result"
    },
    {
     "data": {
      "image/png": "[encoded data removed]",
      "text/plain": [
       "<Figure size 640x480 with 1 Axes>"
      ]
     },
     "metadata": {},
     "output_type": "display_data"
    }
   ],
   "source": [
    "y_prob_lr = lr.predict_proba_lr(x_test_fold5)[:, 1] #get the second column\n",
    "# first argument to roc_curve should be the true labels (i.e., y_actual_fold5) \n",
    "# and the second argument should be the predicted probabilities (i.e., y_prob)\n",
    "lr_fpr, lr_tpr, lr_threshold = roc_curve(y_actual_fold5, y_prob_lr)\n",
    "roc_auc_lr = auc(lr_fpr, lr_tpr)\n",
    "plt.plot(lr_fpr, lr_tpr, color = 'darkorange', label = 'LogisticRegression (AUC = {:.2f})'.format(roc_auc_lr))\n",
    "plt.plot(fpr, tpr, color = 'blue', label = 'KNeighborsClassifier(AUC = {:.2f})'.format(roc_auc))\n",
    "plt.legend()\n",
    "plt.xlabel('False Positive Rate (Positive label: 1)')\n",
    "plt.ylabel('True Positive Rate (Positive Rate: 1)')\n",
    "#plt.plot([0,1], [1, 0], color = 'navy', linestyle = '--')\n"
   ]
  },
  {
   "attachments": {},
   "cell_type": "markdown",
   "metadata": {},
   "source": [
    "End"
   ]
  }
 ],
 "metadata": {
  "kernelspec": {
   "display_name": "Python 3",
   "language": "python",
   "name": "python3"
  },
  "language_info": {
   "codemirror_mode": {
    "name": "ipython",
    "version": 3
   },
   "file_extension": ".py",
   "mimetype": "text/x-python",
   "name": "python",
   "nbconvert_exporter": "python",
   "pygments_lexer": "ipython3",
   "version": "3.9.6"
  },
  "orig_nbformat": 4,
  "vscode": {
   "interpreter": {
    "hash": "81794d4967e6c3204c66dcd87b604927b115b27c00565d3d43f05ba2f3a2cb0d"
   }
  }
 },
 "nbformat": 4,
 "nbformat_minor": 2
}
