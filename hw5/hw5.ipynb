{
 "cells": [
  {
   "cell_type": "code",
   "execution_count": 397,
   "metadata": {},
   "outputs": [],
   "source": [
    "import numpy as np\n",
    "import matplotlib.pyplot as plt\n",
    "import pandas as pd\n",
    "from scipy.stats import multivariate_normal\n",
    "from sklearn.cluster import KMeans\n",
    "import matplotlib.pyplot as plt\n",
    "import torch \n",
    "from sklearn.mixture import GaussianMixture\n",
    "from sklearn.neighbors import NearestNeighbors\n",
    "from sklearn.cluster import AgglomerativeClustering\n",
    "from sklearn.preprocessing import StandardScaler"
   ]
  },
  {
   "attachments": {},
   "cell_type": "markdown",
   "metadata": {},
   "source": [
    "# 1.2 Experiment (20 Points)"
   ]
  },
  {
   "cell_type": "code",
   "execution_count": 398,
   "metadata": {},
   "outputs": [],
   "source": [
    "def k_means(data, k, max_iter = 100, n_restarts = 100):\n",
    "    objective_min = np.inf\n",
    "    centroid_best = None\n",
    "    labels_best = None\n",
    "    for restart in range(n_restarts):\n",
    "        centroids = data[np.random.choice(data.shape[0], k, replace = False), :]\n",
    "        for i in range(max_iter):\n",
    "            #data.shape = (n_sample, n_features) = (1500, 2)\n",
    "            #centroids.shape = (n_clusters, n_features) = (5, 2)\n",
    "            # (n_clusters, n_samples, n_features) = (5, 1, 2)\n",
    "            # data - centroids[:, np.newaxis] = (n_clusters, n_samples, n_features)\n",
    "            # sum(axis = 2) result resulting in an array of shape (n_clusters, n_samples) containing the squared \n",
    "            #    Euclidean distances between each data point and each centroid.\n",
    "            labels = np.argmin(((data - centroids[:, np.newaxis])**2).sum(axis = 2), axis = 0)\n",
    "            # returns the indices of the minimum values along columns.\n",
    "            for j in range(k):\n",
    "                # choose columns with a row value of true\n",
    "                # in this case, there're 5 centroids\n",
    "                centroids[j] = data[labels == j, :].mean(axis = 0)\n",
    "        # picking the one with the lowest objective value\n",
    "        objective = np.sum(((data - centroids[labels, :])**2).sum(axis = 1))\n",
    "        if objective_min > objective:\n",
    "            objective_min = objective\n",
    "            centroid_best = centroids\n",
    "            labels_best = labels\n",
    "\n",
    "    return centroid_best, labels_best"
   ]
  },
  {
   "cell_type": "code",
   "execution_count": 399,
   "metadata": {},
   "outputs": [],
   "source": [
    "# Use k-means++ initialization strategy\n",
    "# k-means++ algorithm selects the initial centroids to be well-spaced and tries to improve the convergence of the k-means algorithm.\n",
    "\n",
    "def kmean_plus(data, k, max_iter = 200, n_restarts = 500):\n",
    "    \"\"\"\n",
    "    kmeans.labels_ : returns an array of cluster labels, where each element corresponds \n",
    "        to a data point and specifies which cluster it belongs to.\n",
    "    centroids[labels] uses these labels to index the centroids array, so that \n",
    "        each data point is paired with its assigned centroid.\n",
    "    \"\"\"\n",
    "    scaler = StandardScaler()\n",
    "    data = scaler.fit_transform(data)\n",
    "    objective_min = np.inf\n",
    "    centroid_best = None\n",
    "\n",
    "    for restart in range(n_restarts):\n",
    "        kmeans = KMeans(n_clusters= k, init = 'k-means++', max_iter = max_iter).fit(data)\n",
    "        labels = kmeans.labels_\n",
    "        centroids = kmeans.cluster_centers_\n",
    "        # calculates the sum of squared distances between each data point and its assigned centroid.\n",
    "        objective = np.sum((data - centroids[labels]) ** 2)\n",
    "\n",
    "        if objective_min > objective:\n",
    "            objective_min = objective\n",
    "            centroid_best = centroids\n",
    "            labels_best = labels\n",
    "        \n",
    "    return objective_min, centroid_best, labels_best"
   ]
  },
  {
   "attachments": {},
   "cell_type": "markdown",
   "metadata": {},
   "source": [
    "#### Expectation maximization algorith for GMMs:"
   ]
  },
  {
   "cell_type": "code",
   "execution_count": 400,
   "metadata": {},
   "outputs": [],
   "source": [
    "# responsibility matrix for each sample and cluster\n",
    "def compute_respon(data, k, means, covariances, weights):\n",
    "    n_data, n_features = data.shape\n",
    "    respon = np.zeros((n_data, k))\n",
    "    for j in range(k):\n",
    "        # calculates the probability density function (PDF) of a multivariate normal distribution \n",
    "        # at a given set of points.\n",
    "        # used in the E-step to compute the responsibilities of each data point for each mixture component.\n",
    "        # calculating the posterior probability of each data point being in the j-th cluster. \n",
    "        respon[:, j] = weights[j] * multivariate_normal.pdf(data, mean = means[j], cov = covariances[j])\n",
    "    # respon has shape (n_data, k), normal has shape (n_data, 1)\n",
    "    # Therefore, we need to add extra axis so that it has the same shape as respon\n",
    "    normal = np.sum(respon, axis = 1)[:, np.newaxis]\n",
    "    #normalize the responsibility across each cluster\n",
    "    return respon/normal"
   ]
  },
  {
   "cell_type": "code",
   "execution_count": 401,
   "metadata": {},
   "outputs": [],
   "source": [
    "#has error\n",
    "def gmm(data, k, max_iter = 100, n_restarts = 10):\n",
    "    np.random.seed(0)\n",
    "    obj_min = np.inf\n",
    "    best_means = None\n",
    "    best_covs = None\n",
    "    best_weights = None\n",
    "    best_labels = None\n",
    "    n_data, n_features = data.shape\n",
    "\n",
    "    for ind in range(n_restarts):\n",
    "        # Initialize parameters\n",
    "        # the weights are initialized uniformly.\n",
    "        # the means are randomly chosen from the input data.\n",
    "        # the covariance matrices are initialized as the identity matrix.\n",
    "        weights = np.ones(k) / k\n",
    "        means = data[np.random.choice(n_data, k, replace = False), :]\n",
    "        cov = np.array([np.eye(n_features) + 1e-6*np.diag(np.ones(n_features)) for i in range (k)])\n",
    "        # E-step: compute responsibilities\n",
    "        for i in range(max_iter):\n",
    "            likelihoods = np.zeros((n_data,k))\n",
    "            likelihoods = np.array([multivariate_normal.logpdf(data, means[j], cov[j], allow_singular= False) for j in range(k)]).T \n",
    "            # weights = (k,)\n",
    "            # (n_data, k): The probability of each data belong to one cluster\n",
    "            joint_prob = likelihoods * weights\n",
    "            respon = joint_prob / joint_prob.sum(axis = 1)[:, np.newaxis]\n",
    "            #respon = compute_respon(data, k, means, cov, weights)\n",
    "            # Nk[i] represents the sum of responsibilities for cluster 'i' over all data points. \n",
    "            # This value is used in the M-step of the EM algorithm to update the \n",
    "            # cluster weights, means, and covariances.\n",
    "            Nk = np.sum(respon, axis = 0)\n",
    "            # ensures that the weights sum up to 1, \n",
    "            # which is a requirement for probabilities.\n",
    "            # Updates the prior probabilities of the data points\n",
    "            # belonging to each of the Gaussian mixture components.\n",
    "            weights = Nk/n_data\n",
    "            # updated based on the current responsibilities and the data.\n",
    "            # data = (1500, 2) = (n_data, n_features)\n",
    "            # respon = (1500, 5) = (n_data, k)'\n",
    "            # Weighted sum of the data points, where the weights are given by\n",
    "            # the responsibilities of the Gaussian components for each data point.\n",
    "            # Nk[:, np.newaxis] has shape (k, 1)\n",
    "            # divide each row of the weighted sum by the corresponding value of Nk\n",
    "            means = (respon.T @ data) / Nk[: , np.newaxis]\n",
    "            # means = (k,n_features)\n",
    "            for j in range(k):\n",
    "                # (num_data, num_features)\n",
    "                diff = data - means[j]\n",
    "                cov[j] = (respon[:, j, np.newaxis]).T @ diff / Nk[j]\n",
    "        objective = -np.log(likelihoods.sum(axis = 1)).sum()\n",
    "        labels = np.argmax(respon, axis = 1)\n",
    "        if objective < obj_min:\n",
    "            obj_min = objective\n",
    "            best_labels = labels\n",
    "            best_covs = cov\n",
    "            best_means = means\n",
    "            best_weights = weights\n",
    "    return best_means, best_covs, best_weights, best_labels, obj_min"
   ]
  },
  {
   "cell_type": "code",
   "execution_count": 402,
   "metadata": {},
   "outputs": [],
   "source": [
    "# has error\n",
    "def gmm_v2_1(data, k, max_iter=100, n_restarts= 10):\n",
    "    data = torch.from_numpy(data).float()\n",
    "    best_labels, best_means, best_covs, best_mixing_coeffs = None, None, None, None\n",
    "    best_objective = -np.inf\n",
    "    n_data, n_features = data.shape\n",
    "\n",
    "    for _ in range(n_restarts):\n",
    "        means = torch.randn(k, n_features)\n",
    "        covs = torch.stack([torch.eye(n_features) for _ in range(k)]) #shape [3,2,2]\n",
    "        mixing_coeffs = torch.ones(k)/k\n",
    "\n",
    "        for _ in range(max_iter):\n",
    "            normal_dis = torch.distributions.MultivariateNormal(means, covs)\n",
    "            likelihoods = normal_dis.log_prob(data.unsqueeze(1))\n",
    "            likelihoods = likelihoods.transpose(0,1)\n",
    "            respon = mixing_coeffs.unsqueeze(1) * torch.exp(likelihoods)\n",
    "            respon = respon/ respon.sum(dim = 1, keepdim = True)\n",
    "            # respon.shape = [3, 300]\n",
    "            #M-step\n",
    "            Nk = respon.sum(dim = 1) #shape [3]\n",
    "            means = torch.matmul(respon, data)\n",
    "            means = means/ Nk[:, None] #shape [3, 2]\n",
    "            # data.shape = [300, None, 2] - [None, 3,2]\n",
    "            diff = data[:, None, :] - means[None, :, :] #shape (300, 3, 2)\n",
    "            covs = torch.einsum('nik,njk->kij', diff, diff * respon.transpose(0, 1).unsqueeze(-1))\n",
    "            covs = covs/ Nk[:, None, None]\n",
    "            mixing_coeffs = Nk/n_data\n",
    "\n",
    "            #Compute Log-likelihood\n",
    "            llh = torch.sum(torch.log(torch.sum(mixing_coeffs * torch.exp(likelihoods.T), dim = 1)))\n",
    "\n",
    "            if llh - best_objective < 1e-6:\n",
    "                break\n",
    "            best_objective = llh\n",
    "        \n",
    "        if best_objective > -np.inf:\n",
    "            labels = torch.argmax(respon, dim = 1)\n",
    "            if best_labels is None or np.sum(labels == best_labels) < np.sum(best_labels == best_labels):\n",
    "                best_labels = labels\n",
    "                best_means = means\n",
    "                best_covs = covs\n",
    "                best_mixing_coeffs = mixing_coeffs\n",
    "    return best_labels.numpy(), best_means.numpy(), best_covs.numpy(), best_mixing_coeffs.numpy(), best_objective.numpy()"
   ]
  },
  {
   "cell_type": "code",
   "execution_count": 403,
   "metadata": {},
   "outputs": [],
   "source": [
    "def gmm_v2(data, k, max_iter=200, n_restarts= 500, linkage = 'ward', metric = 'euclidean', eps =0.5, min_samples = 5):\n",
    "    best_gmm = None \n",
    "    best_objective = -np.inf\n",
    "    n_data, n_features = data.shape\n",
    "    for _ in range(n_restarts):\n",
    "        #Use AgglomerativeClustering to get initial cluster means\n",
    "        clustering = AgglomerativeClustering(n_clusters= k, linkage= linkage, affinity= metric).fit(data)\n",
    "        init_means = np.zeros((k, n_features))\n",
    "        for i in range(k):\n",
    "            init_means[i] = np.mean(data[clustering.labels_ == i], axis = 0)\n",
    "        #Use initial means to initalize GMM parameters\n",
    "        gmm = GaussianMixture(n_components= k, means_init= init_means, max_iter = max_iter, n_init = 1)\n",
    "        gmm.fit(data)\n",
    "        if gmm.lower_bound_ > best_objective:\n",
    "            best_gmm = gmm\n",
    "            best_objective = gmm.lower_bound_\n",
    "    return best_gmm.means_, best_gmm.covariances_, best_gmm.weights_, best_gmm.predict(data), best_objective"
   ]
  },
  {
   "cell_type": "code",
   "execution_count": 404,
   "metadata": {},
   "outputs": [
    {
     "data": {
      "text/plain": [
       "(5,)"
      ]
     },
     "execution_count": 404,
     "metadata": {},
     "output_type": "execute_result"
    }
   ],
   "source": [
    "np.ones(5).shape"
   ]
  },
  {
   "cell_type": "code",
   "execution_count": 405,
   "metadata": {},
   "outputs": [
    {
     "data": {
      "text/plain": [
       "array([[[1., 0.],\n",
       "        [0., 1.]],\n",
       "\n",
       "       [[1., 0.],\n",
       "        [0., 1.]],\n",
       "\n",
       "       [[1., 0.],\n",
       "        [0., 1.]],\n",
       "\n",
       "       [[1., 0.],\n",
       "        [0., 1.]],\n",
       "\n",
       "       [[1., 0.],\n",
       "        [0., 1.]]])"
      ]
     },
     "execution_count": 405,
     "metadata": {},
     "output_type": "execute_result"
    }
   ],
   "source": [
    "np.array([np.eye(2) for i in range (5)])"
   ]
  },
  {
   "attachments": {},
   "cell_type": "markdown",
   "metadata": {},
   "source": [
    "## Clustering accuracy"
   ]
  },
  {
   "cell_type": "code",
   "execution_count": 406,
   "metadata": {},
   "outputs": [],
   "source": [
    "import itertools"
   ]
  },
  {
   "cell_type": "code",
   "execution_count": 407,
   "metadata": {},
   "outputs": [],
   "source": [
    "def kmean_cluster_accuracy(centroids, labels, true_labels):\n",
    "    \"\"\"\n",
    "    labels: an array containing index of  cluster produced by one of the above \n",
    "    true_labels: array containing the true cluster assignments \n",
    "    \"\"\"\n",
    "    true_means = np.array([[-1, -1], [1, -1], [0, 1]])\n",
    "    mapping = []\n",
    "    for i in range(3):\n",
    "        idx = (labels == i)\n",
    "        idx = np.nonzero(idx)[0] # get the index \n",
    "        # if a cluster is empty, it is assigned a mapping of -1 \n",
    "        if np.sum(idx) == 0:\n",
    "            mapping.append(-1)\n",
    "            # to skip the current iteration of the loop and move on to the next iteration.\n",
    "            continue\n",
    "        distances = np.linalg.norm(centroids[i] - true_means, axis = 1)\n",
    "        closest_means = np.argmin(distances) #location of the closest true mean\n",
    "        mapping.append(closest_means)\n",
    "    predicted_labels = np.array([mapping[label] for label in labels])\n",
    "    accuracy = (predicted_labels == true_labels).mean()\n",
    "    return accuracy"
   ]
  },
  {
   "cell_type": "code",
   "execution_count": 408,
   "metadata": {},
   "outputs": [],
   "source": [
    "def gmm_cluster_accuracy(means, labels, true_labels):\n",
    "    true_means = np.array([[-1, -1], [1, -1], [0, 1]])\n",
    "    # Compute the distance between cluster means and true means\n",
    "    dist = np.zeros((3,3))\n",
    "    for i in range(3):\n",
    "        for j in range(3):\n",
    "            dist[i,j] = np.linalg.norm(means[i] - true_means[j])\n",
    "    \n",
    "    perm = np.array(list(itertools.permutations([0,1,2])))\n",
    "    best_perm =perm[np.argmin(np.sum(dist[perm], axis = 1))]\n",
    "\n",
    "    mapped_labels = np.zeros_like(labels)\n",
    "    for i in range(3):\n",
    "        mapped_labels[labels == i] = best_perm[i]\n",
    "    \n",
    "    accuracy = np.mean(mapped_labels == true_labels)\n",
    "    return accuracy"
   ]
  },
  {
   "cell_type": "code",
   "execution_count": 409,
   "metadata": {},
   "outputs": [
    {
     "data": {
      "text/plain": [
       "array([[0, 1, 2],\n",
       "       [0, 2, 1],\n",
       "       [1, 0, 2],\n",
       "       [1, 2, 0],\n",
       "       [2, 0, 1],\n",
       "       [2, 1, 0]])"
      ]
     },
     "execution_count": 409,
     "metadata": {},
     "output_type": "execute_result"
    }
   ],
   "source": [
    "perm = np.array(list(itertools.permutations([0,1,2])))\n",
    "perm"
   ]
  },
  {
   "cell_type": "code",
   "execution_count": 410,
   "metadata": {},
   "outputs": [],
   "source": [
    "sigmas = [0.5, 1, 2, 4, 8]\n",
    "mu1 = np.array([-1, -1])\n",
    "mu2 = np.array([1, -1])\n",
    "mu3 = np.array([0, 1])\n",
    "sigma1 = np.array([[2, 0.5], [0.5, 1]])\n",
    "sigma2 = np.array([[1, -0.5], [-0.5, 2]])\n",
    "sigma3 = np.array([[1, 0], [0, 2]])\n",
    "np.random.seed(0)\n",
    "numpoints = 100\n",
    "data = np.empty((0, 2), float)\n",
    "accuracy_kmean_list = []\n",
    "for sigma in sigmas:\n",
    "    multi = np.random.multivariate_normal(mu1, sigma*sigma1, numpoints)\n",
    "    multi2 = np.random.multivariate_normal(mu2, sigma*sigma2, numpoints)\n",
    "    multi3 = np.random.multivariate_normal(mu3, sigma*sigma3, numpoints)\n",
    "    dataset = np.concatenate((multi, multi2, multi3))\n",
    "    data = np.concatenate((data, dataset)) \n",
    "    true_label = np.repeat(np.arange(3), numpoints)\n",
    "\n",
    "    objective_plus,centroid_best_plus, labels_best_plus = kmean_plus(dataset, 3)\n",
    "    accuracy = kmean_cluster_accuracy(centroid_best_plus, labels_best_plus, true_label)\n",
    "    accuracy_kmean_list.append([accuracy, objective_plus, sigma])"
   ]
  },
  {
   "cell_type": "code",
   "execution_count": 421,
   "metadata": {},
   "outputs": [],
   "source": [
    "accuracy_gmm_list = []\n",
    "for sigma in sigmas:\n",
    "    multi = np.random.multivariate_normal(mu1, sigma*sigma1, numpoints)\n",
    "    multi2 = np.random.multivariate_normal(mu2, sigma*sigma2, numpoints)\n",
    "    multi3 = np.random.multivariate_normal(mu3, sigma*sigma3, numpoints)\n",
    "    dataset = np.concatenate((multi, multi2, multi3))\n",
    "    data = np.concatenate((data, dataset)) \n",
    "    true_label = np.repeat(np.arange(3), numpoints)\n",
    "    means, _, _, labels_best_gmm, objective_gmm = gmm_v2(dataset, 3)\n",
    "    accuracy_gmm = gmm_cluster_accuracy(means, labels_best_gmm, true_label)\n",
    "    accuracy_gmm_list.append([accuracy_gmm, -objective_gmm, sigma])"
   ]
  },
  {
   "cell_type": "code",
   "execution_count": 422,
   "metadata": {},
   "outputs": [
    {
     "data": {
      "text/html": [
       "<div>\n",
       "<style scoped>\n",
       "    .dataframe tbody tr th:only-of-type {\n",
       "        vertical-align: middle;\n",
       "    }\n",
       "\n",
       "    .dataframe tbody tr th {\n",
       "        vertical-align: top;\n",
       "    }\n",
       "\n",
       "    .dataframe thead th {\n",
       "        text-align: right;\n",
       "    }\n",
       "</style>\n",
       "<table border=\"1\" class=\"dataframe\">\n",
       "  <thead>\n",
       "    <tr style=\"text-align: right;\">\n",
       "      <th></th>\n",
       "      <th>accuracy</th>\n",
       "      <th>objective</th>\n",
       "      <th>sigma</th>\n",
       "    </tr>\n",
       "  </thead>\n",
       "  <tbody>\n",
       "    <tr>\n",
       "      <th>0</th>\n",
       "      <td>0.836667</td>\n",
       "      <td>3.111398</td>\n",
       "      <td>0.5</td>\n",
       "    </tr>\n",
       "    <tr>\n",
       "      <th>1</th>\n",
       "      <td>0.333333</td>\n",
       "      <td>3.451733</td>\n",
       "      <td>1.0</td>\n",
       "    </tr>\n",
       "    <tr>\n",
       "      <th>2</th>\n",
       "      <td>0.193333</td>\n",
       "      <td>4.090433</td>\n",
       "      <td>2.0</td>\n",
       "    </tr>\n",
       "    <tr>\n",
       "      <th>3</th>\n",
       "      <td>0.256667</td>\n",
       "      <td>4.686926</td>\n",
       "      <td>4.0</td>\n",
       "    </tr>\n",
       "    <tr>\n",
       "      <th>4</th>\n",
       "      <td>0.386667</td>\n",
       "      <td>5.275395</td>\n",
       "      <td>8.0</td>\n",
       "    </tr>\n",
       "  </tbody>\n",
       "</table>\n",
       "</div>"
      ],
      "text/plain": [
       "   accuracy  objective  sigma\n",
       "0  0.836667   3.111398    0.5\n",
       "1  0.333333   3.451733    1.0\n",
       "2  0.193333   4.090433    2.0\n",
       "3  0.256667   4.686926    4.0\n",
       "4  0.386667   5.275395    8.0"
      ]
     },
     "execution_count": 422,
     "metadata": {},
     "output_type": "execute_result"
    }
   ],
   "source": [
    "accuracy_gmm_list = pd.DataFrame(accuracy_gmm_list, columns = ['accuracy', 'objective', 'sigma'])\n",
    "accuracy_gmm_list"
   ]
  },
  {
   "cell_type": "code",
   "execution_count": 413,
   "metadata": {},
   "outputs": [
    {
     "data": {
      "text/html": [
       "<div>\n",
       "<style scoped>\n",
       "    .dataframe tbody tr th:only-of-type {\n",
       "        vertical-align: middle;\n",
       "    }\n",
       "\n",
       "    .dataframe tbody tr th {\n",
       "        vertical-align: top;\n",
       "    }\n",
       "\n",
       "    .dataframe thead th {\n",
       "        text-align: right;\n",
       "    }\n",
       "</style>\n",
       "<table border=\"1\" class=\"dataframe\">\n",
       "  <thead>\n",
       "    <tr style=\"text-align: right;\">\n",
       "      <th></th>\n",
       "      <th>accuracy</th>\n",
       "      <th>objective</th>\n",
       "      <th>sigma</th>\n",
       "    </tr>\n",
       "  </thead>\n",
       "  <tbody>\n",
       "    <tr>\n",
       "      <th>0</th>\n",
       "      <td>0.793333</td>\n",
       "      <td>214.332572</td>\n",
       "      <td>0.5</td>\n",
       "    </tr>\n",
       "    <tr>\n",
       "      <th>1</th>\n",
       "      <td>0.710000</td>\n",
       "      <td>214.422178</td>\n",
       "      <td>1.0</td>\n",
       "    </tr>\n",
       "    <tr>\n",
       "      <th>2</th>\n",
       "      <td>0.613333</td>\n",
       "      <td>249.910734</td>\n",
       "      <td>2.0</td>\n",
       "    </tr>\n",
       "    <tr>\n",
       "      <th>3</th>\n",
       "      <td>0.573333</td>\n",
       "      <td>262.848510</td>\n",
       "      <td>4.0</td>\n",
       "    </tr>\n",
       "    <tr>\n",
       "      <th>4</th>\n",
       "      <td>0.476667</td>\n",
       "      <td>267.524405</td>\n",
       "      <td>8.0</td>\n",
       "    </tr>\n",
       "  </tbody>\n",
       "</table>\n",
       "</div>"
      ],
      "text/plain": [
       "   accuracy   objective  sigma\n",
       "0  0.793333  214.332572    0.5\n",
       "1  0.710000  214.422178    1.0\n",
       "2  0.613333  249.910734    2.0\n",
       "3  0.573333  262.848510    4.0\n",
       "4  0.476667  267.524405    8.0"
      ]
     },
     "execution_count": 413,
     "metadata": {},
     "output_type": "execute_result"
    }
   ],
   "source": [
    "accuracy_kmean_list = pd.DataFrame(accuracy_kmean_list, columns= ['accuracy', 'objective', 'sigma'])\n",
    "accuracy_kmean_list"
   ]
  },
  {
   "cell_type": "code",
   "execution_count": 423,
   "metadata": {},
   "outputs": [
    {
     "data": {
      "image/png": "[encoded data removed]",
      "text/plain": [
       "<Figure size 640x480 with 1 Axes>"
      ]
     },
     "metadata": {},
     "output_type": "display_data"
    }
   ],
   "source": [
    "plt.plot(accuracy_kmean_list['sigma'], accuracy_kmean_list['accuracy'], label = 'kmean')\n",
    "plt.plot(accuracy_gmm_list['sigma'], accuracy_gmm_list['accuracy'], label = 'gmm')\n",
    "plt.xlabel('Sigma')\n",
    "plt.ylabel('Accuracy')\n",
    "plt.title('Clustering Accuracy vs Sigma')\n",
    "plt.legend()\n",
    "plt.show()"
   ]
  },
  {
   "cell_type": "code",
   "execution_count": 424,
   "metadata": {},
   "outputs": [
    {
     "data": {
      "image/png": "[encoded data removed]",
      "text/plain": [
       "<Figure size 640x480 with 1 Axes>"
      ]
     },
     "metadata": {},
     "output_type": "display_data"
    }
   ],
   "source": [
    "plt.plot(accuracy_kmean_list['sigma'], accuracy_kmean_list['objective'], label = 'kmean')\n",
    "plt.plot(accuracy_gmm_list['sigma'], accuracy_gmm_list['objective'], label = 'gmm')\n",
    "plt.xlabel('Sigma')\n",
    "plt.ylabel('Objective')\n",
    "plt.title('Clustering Objective vs Sigma')\n",
    "plt.legend()\n",
    "plt.show()"
   ]
  }
 ],
 "metadata": {
  "kernelspec": {
   "display_name": "Python 3",
   "language": "python",
   "name": "python3"
  },
  "language_info": {
   "codemirror_mode": {
    "name": "ipython",
    "version": 3
   },
   "file_extension": ".py",
   "mimetype": "text/x-python",
   "name": "python",
   "nbconvert_exporter": "python",
   "pygments_lexer": "ipython3",
   "version": "3.9.6"
  },
  "orig_nbformat": 4
 },
 "nbformat": 4,
 "nbformat_minor": 2
}
