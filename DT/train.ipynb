{
 "cells": [
  {
   "cell_type": "code",
   "execution_count": 2,
   "metadata": {},
   "outputs": [],
   "source": [
    "# def entropy\n",
    "# def variance\n",
    "# def info_gain\n",
    "# def categorical_split\n",
    "# def max_info (choose one of the unique value in one feature to have the highest info_gain => then choose the highest ig among the features)"
   ]
  },
  {
   "cell_type": "code",
   "execution_count": 3,
   "metadata": {},
   "outputs": [
    {
     "data": {
      "text/html": [
       "<div>\n",
       "<style scoped>\n",
       "    .dataframe tbody tr th:only-of-type {\n",
       "        vertical-align: middle;\n",
       "    }\n",
       "\n",
       "    .dataframe tbody tr th {\n",
       "        vertical-align: top;\n",
       "    }\n",
       "\n",
       "    .dataframe thead th {\n",
       "        text-align: right;\n",
       "    }\n",
       "</style>\n",
       "<table border=\"1\" class=\"dataframe\">\n",
       "  <thead>\n",
       "    <tr style=\"text-align: right;\">\n",
       "      <th></th>\n",
       "      <th>Gender</th>\n",
       "      <th>Height</th>\n",
       "      <th>Weight</th>\n",
       "      <th>Index</th>\n",
       "    </tr>\n",
       "  </thead>\n",
       "  <tbody>\n",
       "    <tr>\n",
       "      <th>0</th>\n",
       "      <td>Male</td>\n",
       "      <td>174</td>\n",
       "      <td>96</td>\n",
       "      <td>4</td>\n",
       "    </tr>\n",
       "    <tr>\n",
       "      <th>1</th>\n",
       "      <td>Male</td>\n",
       "      <td>189</td>\n",
       "      <td>87</td>\n",
       "      <td>2</td>\n",
       "    </tr>\n",
       "    <tr>\n",
       "      <th>2</th>\n",
       "      <td>Female</td>\n",
       "      <td>185</td>\n",
       "      <td>110</td>\n",
       "      <td>4</td>\n",
       "    </tr>\n",
       "    <tr>\n",
       "      <th>3</th>\n",
       "      <td>Female</td>\n",
       "      <td>195</td>\n",
       "      <td>104</td>\n",
       "      <td>3</td>\n",
       "    </tr>\n",
       "    <tr>\n",
       "      <th>4</th>\n",
       "      <td>Male</td>\n",
       "      <td>149</td>\n",
       "      <td>61</td>\n",
       "      <td>3</td>\n",
       "    </tr>\n",
       "    <tr>\n",
       "      <th>...</th>\n",
       "      <td>...</td>\n",
       "      <td>...</td>\n",
       "      <td>...</td>\n",
       "      <td>...</td>\n",
       "    </tr>\n",
       "    <tr>\n",
       "      <th>495</th>\n",
       "      <td>Female</td>\n",
       "      <td>150</td>\n",
       "      <td>153</td>\n",
       "      <td>5</td>\n",
       "    </tr>\n",
       "    <tr>\n",
       "      <th>496</th>\n",
       "      <td>Female</td>\n",
       "      <td>184</td>\n",
       "      <td>121</td>\n",
       "      <td>4</td>\n",
       "    </tr>\n",
       "    <tr>\n",
       "      <th>497</th>\n",
       "      <td>Female</td>\n",
       "      <td>141</td>\n",
       "      <td>136</td>\n",
       "      <td>5</td>\n",
       "    </tr>\n",
       "    <tr>\n",
       "      <th>498</th>\n",
       "      <td>Male</td>\n",
       "      <td>150</td>\n",
       "      <td>95</td>\n",
       "      <td>5</td>\n",
       "    </tr>\n",
       "    <tr>\n",
       "      <th>499</th>\n",
       "      <td>Male</td>\n",
       "      <td>173</td>\n",
       "      <td>131</td>\n",
       "      <td>5</td>\n",
       "    </tr>\n",
       "  </tbody>\n",
       "</table>\n",
       "<p>500 rows × 4 columns</p>\n",
       "</div>"
      ],
      "text/plain": [
       "     Gender  Height  Weight  Index\n",
       "0      Male     174      96      4\n",
       "1      Male     189      87      2\n",
       "2    Female     185     110      4\n",
       "3    Female     195     104      3\n",
       "4      Male     149      61      3\n",
       "..      ...     ...     ...    ...\n",
       "495  Female     150     153      5\n",
       "496  Female     184     121      4\n",
       "497  Female     141     136      5\n",
       "498    Male     150      95      5\n",
       "499    Male     173     131      5\n",
       "\n",
       "[500 rows x 4 columns]"
      ]
     },
     "execution_count": 3,
     "metadata": {},
     "output_type": "execute_result"
    }
   ],
   "source": [
    "import numpy as np\n",
    "import pandas as pd \n",
    "\n",
    "data = pd.read_csv(\"500_Person_Gender_Height_Weight_Index.csv\")\n",
    "data"
   ]
  },
  {
   "cell_type": "code",
   "execution_count": 4,
   "metadata": {},
   "outputs": [
    {
     "data": {
      "text/html": [
       "<div>\n",
       "<style scoped>\n",
       "    .dataframe tbody tr th:only-of-type {\n",
       "        vertical-align: middle;\n",
       "    }\n",
       "\n",
       "    .dataframe tbody tr th {\n",
       "        vertical-align: top;\n",
       "    }\n",
       "\n",
       "    .dataframe thead th {\n",
       "        text-align: right;\n",
       "    }\n",
       "</style>\n",
       "<table border=\"1\" class=\"dataframe\">\n",
       "  <thead>\n",
       "    <tr style=\"text-align: right;\">\n",
       "      <th></th>\n",
       "      <th>Gender</th>\n",
       "      <th>Height</th>\n",
       "      <th>Weight</th>\n",
       "      <th>Obese</th>\n",
       "    </tr>\n",
       "  </thead>\n",
       "  <tbody>\n",
       "    <tr>\n",
       "      <th>0</th>\n",
       "      <td>Male</td>\n",
       "      <td>174</td>\n",
       "      <td>96</td>\n",
       "      <td>1</td>\n",
       "    </tr>\n",
       "    <tr>\n",
       "      <th>1</th>\n",
       "      <td>Male</td>\n",
       "      <td>189</td>\n",
       "      <td>87</td>\n",
       "      <td>0</td>\n",
       "    </tr>\n",
       "    <tr>\n",
       "      <th>2</th>\n",
       "      <td>Female</td>\n",
       "      <td>185</td>\n",
       "      <td>110</td>\n",
       "      <td>1</td>\n",
       "    </tr>\n",
       "    <tr>\n",
       "      <th>3</th>\n",
       "      <td>Female</td>\n",
       "      <td>195</td>\n",
       "      <td>104</td>\n",
       "      <td>0</td>\n",
       "    </tr>\n",
       "    <tr>\n",
       "      <th>4</th>\n",
       "      <td>Male</td>\n",
       "      <td>149</td>\n",
       "      <td>61</td>\n",
       "      <td>0</td>\n",
       "    </tr>\n",
       "  </tbody>\n",
       "</table>\n",
       "</div>"
      ],
      "text/plain": [
       "   Gender  Height  Weight  Obese\n",
       "0    Male     174      96      1\n",
       "1    Male     189      87      0\n",
       "2  Female     185     110      1\n",
       "3  Female     195     104      0\n",
       "4    Male     149      61      0"
      ]
     },
     "execution_count": 4,
     "metadata": {},
     "output_type": "execute_result"
    }
   ],
   "source": [
    "data['Obese'] = (data['Index'] >= 4).astype('int')\n",
    "data.drop('Index', axis = 1, inplace= True)\n",
    "data.head()"
   ]
  },
  {
   "attachments": {},
   "cell_type": "markdown",
   "metadata": {},
   "source": [
    "'''\n",
    "  Given a Pandas Series, it calculates the entropy. \n",
    "  y: variable with which calculate entropy.\n",
    "  '''"
   ]
  },
  {
   "cell_type": "code",
   "execution_count": 5,
   "metadata": {},
   "outputs": [],
   "source": [
    "def entropy(y):\n",
    "    if isinstance (y, pd.Series):\n",
    "        prob = y.value_counts()/y.shape[0]\n",
    "        entropy = np.sum(-prob* np.log2(prob))\n",
    "        return entropy\n",
    "    \n",
    "    else:\n",
    "        raise ('Object must be a Pandas series')\n"
   ]
  },
  {
   "attachments": {},
   "cell_type": "markdown",
   "metadata": {},
   "source": [
    "entropy(data.Gender)"
   ]
  },
  {
   "cell_type": "code",
   "execution_count": 6,
   "metadata": {},
   "outputs": [
    {
     "data": {
      "text/plain": [
       "0.9997114417528099"
      ]
     },
     "execution_count": 6,
     "metadata": {},
     "output_type": "execute_result"
    }
   ],
   "source": [
    "entropy(data.Gender)"
   ]
  },
  {
   "cell_type": "code",
   "execution_count": 7,
   "metadata": {},
   "outputs": [],
   "source": [
    "def variance(y):\n",
    "    if len(y) == 1:\n",
    "        return 0\n",
    "    else : \n",
    "        return y.var()"
   ]
  },
  {
   "cell_type": "code",
   "execution_count": 8,
   "metadata": {},
   "outputs": [],
   "source": [
    "def info_gain(y, mask, func = entropy):\n",
    "    a = sum(mask)\n",
    "    b = mask.shape[0] - a \n",
    "\n",
    "    if a == 0 or b == 0:\n",
    "         return 0\n",
    "    else:\n",
    "        if y.dtypes != 'O': #if y is numeric\n",
    "          return func(y) - (func(y[mask])*a/(a+b) + func(y[-mask])*b/(a+b))\n",
    "        else: \n",
    "          return variance(y) - variance(y[mask])*a/(a+b) - variance(y[mask])*b/(a+b)"
   ]
  },
  {
   "cell_type": "code",
   "execution_count": 9,
   "metadata": {},
   "outputs": [
    {
     "name": "stdout",
     "output_type": "stream",
     "text": [
      "0      1\n",
      "1      0\n",
      "4      0\n",
      "5      0\n",
      "6      1\n",
      "      ..\n",
      "487    0\n",
      "488    1\n",
      "494    1\n",
      "498    1\n",
      "499    1\n",
      "Name: Obese, Length: 245, dtype: int32\n"
     ]
    },
    {
     "data": {
      "text/plain": [
       "0.9155506778147324"
      ]
     },
     "execution_count": 9,
     "metadata": {},
     "output_type": "execute_result"
    }
   ],
   "source": [
    "df = data['Obese'][data['Gender'] == 'Male']\n",
    "print(df)\n",
    "entropy(df)"
   ]
  },
  {
   "cell_type": "code",
   "execution_count": 10,
   "metadata": {},
   "outputs": [
    {
     "data": {
      "text/plain": [
       "0.0005506911187602714"
      ]
     },
     "execution_count": 10,
     "metadata": {},
     "output_type": "execute_result"
    }
   ],
   "source": [
    "info_gain(data['Obese'], data['Gender'] == 'Male')\n"
   ]
  },
  {
   "cell_type": "code",
   "execution_count": 11,
   "metadata": {},
   "outputs": [],
   "source": [
    "#dont know https://anderfernandez.com/en/blog/code-decision-tree-python-from-scratch/\n",
    "import itertools\n",
    "def categorical_split(a):\n",
    "    a = a.unique()\n",
    "    opciones = []\n",
    "\n",
    "    for L in range (0, len(a) + 1):\n",
    "        for subset in itertools.combinations(a, L):\n",
    "            subset = list(subset)\n",
    "            opciones.append(subset)\n",
    "    \n",
    "    return opciones[1:-1]\n"
   ]
  },
  {
   "cell_type": "code",
   "execution_count": 12,
   "metadata": {},
   "outputs": [
    {
     "name": "stdout",
     "output_type": "stream",
     "text": [
      "['Male' 'Female']\n",
      "[['Male'], ['Female']]\n"
     ]
    }
   ],
   "source": [
    "print(data['Gender'].unique())\n",
    "print(categorical_split(data['Gender']))\n",
    "#print(list(itertools.combinations(data['Gender'], 1)))"
   ]
  },
  {
   "cell_type": "code",
   "execution_count": 13,
   "metadata": {},
   "outputs": [],
   "source": [
    "def max_info_gain(x, y, func = entropy):\n",
    "    ig = 0\n",
    "    split_value = 0\n",
    "    num = 0\n",
    "\n",
    "    is_numeric = True if x.dtypes != 'O' else False\n",
    "\n",
    "    #creating options according to variable types\n",
    "    if is_numeric:\n",
    "        options = x.sort_values().unique()[1:] #not starting by the first element since there's nothing to split before the first element\n",
    "    else:\n",
    "        options = categorical_split(x)\n",
    "    \n",
    "    #calculating information gain for different value\n",
    "    for value in options:\n",
    "        mask = x < value if is_numeric == True else x.isin(value) #if (value is in x)\n",
    "        value_ig = info_gain(y, mask, func)\n",
    "\n",
    "        if value_ig > ig:\n",
    "            ig = value_ig\n",
    "            split_value = value\n",
    "            num = num + 1\n",
    "    \n",
    "    if num == 0:\n",
    "        return (None, None, None, False)\n",
    "\n",
    "    else: \n",
    "        return (ig, split_value, is_numeric, True)\n"
   ]
  },
  {
   "cell_type": "code",
   "execution_count": 14,
   "metadata": {},
   "outputs": [
    {
     "name": "stdout",
     "output_type": "stream",
     "text": [
      "0.3824541370911897\n",
      "103\n"
     ]
    }
   ],
   "source": [
    "#test\n",
    "weight_ig, weight_split, _, _ = max_info_gain(data['Weight'], data['Obese'],)\n",
    "print(weight_ig)\n",
    "print(weight_split)"
   ]
  },
  {
   "cell_type": "code",
   "execution_count": 15,
   "metadata": {},
   "outputs": [
    {
     "name": "stdout",
     "output_type": "stream",
     "text": [
      "     Gender    Height    Weight\n",
      "0  0.000551  0.064748  0.382454\n",
      "1    [Male]       174       103\n",
      "2     False      True      True\n",
      "3      True      True      True\n"
     ]
    },
    {
     "data": {
      "text/plain": [
       "'Weight'"
      ]
     },
     "execution_count": 15,
     "metadata": {},
     "output_type": "execute_result"
    }
   ],
   "source": [
    "#calculate the Information Gain for each of the predictor variables of the model.\n",
    "masks = data.drop('Obese', axis = 1).apply(max_info_gain, y = data['Obese'])\n",
    "print(masks)\n",
    "masks.loc[3,:]\n",
    "masks.loc[:, masks.loc[3, :]]\n",
    "max(masks.loc[:, masks.loc[3, :]])"
   ]
  },
  {
   "cell_type": "code",
   "execution_count": 16,
   "metadata": {},
   "outputs": [],
   "source": [
    "#highest Information Gain is Weight\n",
    "#include the different hyperparameters that a decision tree generally offers, thus avoiding overfitting:\n",
    "    #max_depth: maximum depth of the tree. If we set it to None, the tree will \n",
    "              # grow until all the leaves are pure or the hyperparameter min_samples_split has been reached.\n",
    "    #min_samples_split: indicates the minimum number of observations a sheet must have to continue creating new nodes.\n",
    "    #min_information_gain: the minimum amount the Information Gain must increase for the tree to continue growing."
   ]
  },
  {
   "cell_type": "code",
   "execution_count": 17,
   "metadata": {},
   "outputs": [],
   "source": [
    "#y: name of the target features\n",
    "def get_best_split(y, data):\n",
    "    masks = data.drop(y, axis = 1).apply(max_info_gain, y = data[y])\n",
    "    if sum(masks.loc[3,:]) == 0:\n",
    "        return (None, None, None, False)\n",
    "\n",
    "    else:\n",
    "        #choose only masks that can be splitted\n",
    "        masks = masks.loc[:, masks.loc[3,:]] # choose all columns that has the 3th index True box\n",
    "        split_vari = max(masks) #choose split feature\n",
    "        split_ig = masks[split_vari][0]\n",
    "        split_val = masks[split_vari][1]\n",
    "        split_numeric = masks[split_vari][2]\n",
    "    return (split_vari, split_val, split_ig, split_numeric)\n",
    "        "
   ]
  },
  {
   "cell_type": "code",
   "execution_count": 18,
   "metadata": {},
   "outputs": [
    {
     "data": {
      "text/plain": [
       "('Weight', 103, 0.3824541370911897, True)"
      ]
     },
     "execution_count": 18,
     "metadata": {},
     "output_type": "execute_result"
    }
   ],
   "source": [
    "get_best_split('Obese', data)"
   ]
  },
  {
   "cell_type": "code",
   "execution_count": 19,
   "metadata": {},
   "outputs": [],
   "source": [
    "'''\n",
    "  Given a data and a split conditions, do the split.\n",
    "  variable: variable with which make the split.\n",
    "  value: value of the variable to make the split.\n",
    "  data: data to be splitted.\n",
    "  is_numeric: boolean considering if the variable to be splitted is numeric or not.\n",
    "  '''\n",
    "def make_split(variable, value, data, is_numeric):\n",
    "    if is_numeric:\n",
    "      data1 = data[data[variable] < value]\n",
    "      data2 = data[(data[variable] < value) == False]\n",
    "    else:\n",
    "      data1 = data[data[variable].isin(value)]\n",
    "      data2 = data[data[variable].isin(value) == False]\n",
    "    return data1, data2\n"
   ]
  },
  {
   "cell_type": "code",
   "execution_count": 20,
   "metadata": {},
   "outputs": [
    {
     "name": "stdout",
     "output_type": "stream",
     "text": [
      "<class 'str'>\n",
      "0       True\n",
      "1       True\n",
      "2      False\n",
      "3      False\n",
      "4       True\n",
      "       ...  \n",
      "495    False\n",
      "496    False\n",
      "497    False\n",
      "498     True\n",
      "499    False\n",
      "Name: Weight, Length: 500, dtype: bool\n",
      "     Gender  Height  Weight  Obese\n",
      "0      Male     174      96      1\n",
      "1      Male     189      87      0\n",
      "4      Male     149      61      0\n",
      "6      Male     147      92      1\n",
      "8      Male     174      90      0\n",
      "..      ...     ...     ...    ...\n",
      "490  Female     164      59      0\n",
      "492  Female     198      50      0\n",
      "493  Female     170      53      0\n",
      "494    Male     152      98      1\n",
      "498    Male     150      95      1\n",
      "\n",
      "[229 rows x 4 columns]\n"
     ]
    }
   ],
   "source": [
    "#Example/ Demonstration of the previous code\n",
    "value = 'Weight'\n",
    "print(type(value))\n",
    "print(data[value] < 103)\n",
    "data1 = data[data['Weight'] < 103] \n",
    "print(data1)"
   ]
  },
  {
   "cell_type": "code",
   "execution_count": 21,
   "metadata": {},
   "outputs": [],
   "source": [
    "def make_pred(data, target_factor):\n",
    "    '''\n",
    "  Given the target variable, make a prediction.\n",
    "  data: pandas series for target variable\n",
    "  target_factor: boolean considering if the variable is a factor or not\n",
    "  '''\n",
    "    if target_factor:\n",
    "        pred = data.value_counts().idxmax() #return which value has more occurence, in this case, there an \"1\" or \"0\"\n",
    "    else:\n",
    "        pred = data.mean()\n",
    "    return pred\n"
   ]
  },
  {
   "cell_type": "code",
   "execution_count": 22,
   "metadata": {},
   "outputs": [],
   "source": [
    "def train_tree(data, y, target_factor, max_depth = None, min_samples_split = None, min_information_gain = 1e-20, max_categories = 20, counter = 0):\n",
    "    '''\n",
    "  Trains a Decission Tree\n",
    "  data: Data to be used to train the Decission Tree\n",
    "  y: target variable column name\n",
    "  target_factor: boolean to consider if target variable is factor or numeric.\n",
    "  max_depth: maximum depth to stop splitting.\n",
    "  min_samples_split: minimum number of observations to make a split.\n",
    "  min_information_gain: minimum ig gain to consider a split to be valid.\n",
    "  max_categories: maximum number of different values accepted for categorical values. High number of values will slow down learning process. R\n",
    "'''\n",
    "    # Check that max_categories is fulfilled\n",
    "    if counter ==0:\n",
    "        types = data.dtypes\n",
    "        check_columns = types[types == \"object\"].index #deo hieu\n",
    "        for columns in check_columns:\n",
    "            var_length = len(data[columns].value_counts())\n",
    "            if var_length > max_categories:\n",
    "                raise ValueError('The variable ' + columns + ' has '+ str(var_length) + ' unique values, which is more than the accepted ones: ' +  str(max_categories))\n",
    "    #check for depth condition\n",
    "    if max_depth == None:\n",
    "        dep_cond = True\n",
    "    else:\n",
    "        if counter < max_depth:\n",
    "            dep_cond = True\n",
    "        else: \n",
    "            dep_cond = False\n",
    "    #check for sample condition\n",
    "    if min_samples_split == None:\n",
    "        sample_cond = True\n",
    "    else:\n",
    "        if data.shape[0] > min_samples_split: #number of rows\n",
    "            sample_cond = True\n",
    "        else: \n",
    "            sample_cond = False\n",
    "    # Check for ig condition\n",
    "    if dep_cond & sample_cond:\n",
    "        var,val, ig, var_type = get_best_split(y, data)\n",
    "        print(val)\n",
    "        # If ig condition is fulfilled, make split\n",
    "        if ig is not None and ig >= min_information_gain:\n",
    "            counter = counter + 1\n",
    "            left, right = make_split(var, val, data, var_type) #2 sub datasets\n",
    "\n",
    "            #instantiate sub-tree (deo hieu)\n",
    "            split_type = \"<=\" if var_type else \"in\"\n",
    "            question = \"{} {}  {}\".format(var, split_type, val)\n",
    "            subtree = {question: []} #[] represents values of 2 branches, {} represent one such branch \n",
    "    \n",
    "    # Find answers (recursion)\n",
    "            yes_ans = train_tree(left, y, target_factor, max_depth, min_samples_split, min_information_gain, max_categories, counter)\n",
    "            no_ans = train_tree(right, y, target_factor, max_depth, min_samples_split, min_information_gain, max_categories, counter)\n",
    "            print(yes_ans, no_ans)\n",
    "            if yes_ans == no_ans: #neu cung class het thi ko chia ra\n",
    "                subtree = yes_ans\n",
    "            else:\n",
    "                subtree[question].append(yes_ans)\n",
    "                subtree[question].append(no_ans)\n",
    "        #If it doesn't match IG condition, make prediction\n",
    "        else:\n",
    "            pred = make_pred(data[y], target_factor)\n",
    "            return pred\n",
    "    else:\n",
    "        pred = make_pred(data[y], target_factor)\n",
    "        return pred\n",
    "\n",
    "    return subtree\n"
   ]
  },
  {
   "cell_type": "code",
   "execution_count": 23,
   "metadata": {},
   "outputs": [
    {
     "name": "stdout",
     "output_type": "stream",
     "text": [
      "103\n",
      "66\n",
      "None\n",
      "84\n",
      "74\n",
      "72\n",
      "0 0\n",
      "75\n",
      "1 0\n",
      "0 {'Weight <=  75': [1, 0]}\n",
      "98\n",
      "97\n",
      "1 1\n",
      "1 0\n",
      "{'Weight <=  74': [0, {'Weight <=  75': [1, 0]}]} {'Weight <=  98': [1, 0]}\n",
      "0 {'Weight <=  84': [{'Weight <=  74': [0, {'Weight <=  75': [1, 0]}]}, {'Weight <=  98': [1, 0]}]}\n",
      "116\n",
      "104\n",
      "107\n",
      "108\n",
      "1 1\n",
      "1 1\n",
      "1 1\n",
      "None\n",
      "1 1\n",
      "{'Weight <=  66': [0, {'Weight <=  84': [{'Weight <=  74': [0, {'Weight <=  75': [1, 0]}]}, {'Weight <=  98': [1, 0]}]}]} 1\n"
     ]
    },
    {
     "data": {
      "text/plain": [
       "{'Weight <=  103': [{'Weight <=  66': [0,\n",
       "    {'Weight <=  84': [{'Weight <=  74': [0, {'Weight <=  75': [1, 0]}]},\n",
       "      {'Weight <=  98': [1, 0]}]}]},\n",
       "  1]}"
      ]
     },
     "execution_count": 23,
     "metadata": {},
     "output_type": "execute_result"
    }
   ],
   "source": [
    "max_depth = 5\n",
    "min_samples_split = 20\n",
    "min_information_gain = 1e-5\n",
    "\n",
    "decisiones = train_tree(data, 'Obese', True, max_depth, min_samples_split, min_information_gain)\n",
    "\n",
    "decisiones\n",
    "#                W <= 103\n",
    "#                 /   \\\n",
    "#           W<=66      1\n",
    "#          /     \\\n",
    "#         0     W <=84\n",
    "#                /    \\\n",
    "#            W<=74     W <=98\n",
    "#           /  \\         /  \\\n",
    "#        0   W <=75     1    0\n",
    "#             /  \\\n",
    "#            1    0"
   ]
  },
  {
   "cell_type": "code",
   "execution_count": 24,
   "metadata": {},
   "outputs": [
    {
     "data": {
      "text/plain": [
       "1"
      ]
     },
     "execution_count": 24,
     "metadata": {},
     "output_type": "execute_result"
    }
   ],
   "source": [
    "colname_d3 = ['x1', 'x2', 'y']\n",
    "df_d3 = pd.read_csv('D3leaves.txt', names= colname_d3, sep = ' ')\n",
    "temp = df_d3['y'] \n",
    "cu = df_d3.drop('y', axis = 1).apply(max_info_gain, y = temp)\n",
    "cu = cu.loc[:, cu.loc[3, :]]\n",
    "train_tree(df_d3,'y', True, max_depth, min_samples_split, min_information_gain)"
   ]
  },
  {
   "cell_type": "code",
   "execution_count": 25,
   "metadata": {},
   "outputs": [
    {
     "name": "stdout",
     "output_type": "stream",
     "text": [
      "0.201829\n",
      "None\n",
      "None\n",
      "0 1\n"
     ]
    },
    {
     "data": {
      "text/plain": [
       "{'x2 <=  0.201829': [0, 1]}"
      ]
     },
     "execution_count": 25,
     "metadata": {},
     "output_type": "execute_result"
    }
   ],
   "source": [
    "colname_d3 = ['x1', 'x2', 'y']\n",
    "df_d1 = pd.read_csv('D1.txt', names = colname_d3, sep = \" \")\n",
    "train_tree(df_d1,'y', True, max_depth, min_samples_split, min_information_gain)"
   ]
  },
  {
   "cell_type": "code",
   "execution_count": 26,
   "metadata": {},
   "outputs": [
    {
     "name": "stdout",
     "output_type": "stream",
     "text": [
      "0.506048\n",
      "0.224236\n",
      "0.053292\n",
      "0.037708\n",
      "None\n",
      "0 0\n",
      "0.053702\n",
      "0.061886\n",
      "0 0\n",
      "1 0\n",
      "0 {'x2 <=  0.053702': [1, 0]}\n",
      "0.383738\n",
      "0.379696\n",
      "0.235379\n",
      "1 0\n",
      "{'x2 <=  0.235379': [1, 0]} 0\n",
      "0.388699\n",
      "0.390262\n",
      "0 0\n",
      "1 0\n",
      "{'x2 <=  0.379696': [{'x2 <=  0.235379': [1, 0]}, 0]} {'x2 <=  0.388699': [1, 0]}\n",
      "{'x2 <=  0.053292': [0, {'x2 <=  0.053702': [1, 0]}]} {'x2 <=  0.383738': [{'x2 <=  0.379696': [{'x2 <=  0.235379': [1, 0]}, 0]}, {'x2 <=  0.388699': [1, 0]}]}\n",
      "0.88635\n",
      "0.641964\n",
      "0.516515\n",
      "0.635533\n",
      "1 0\n",
      "1 {'x2 <=  0.635533': [1, 0]}\n",
      "0.654331\n",
      "0.658212\n",
      "0 1\n",
      "1 {'x2 <=  0.658212': [0, 1]}\n",
      "{'x2 <=  0.516515': [1, {'x2 <=  0.635533': [1, 0]}]} {'x2 <=  0.654331': [1, {'x2 <=  0.658212': [0, 1]}]}\n",
      "0.919236\n",
      "0.917219\n",
      "0.903656\n",
      "1 1\n",
      "1 0\n",
      "None\n",
      "{'x2 <=  0.917219': [1, 0]} 1\n",
      "{'x2 <=  0.641964': [{'x2 <=  0.516515': [1, {'x2 <=  0.635533': [1, 0]}]}, {'x2 <=  0.654331': [1, {'x2 <=  0.658212': [0, 1]}]}]} {'x2 <=  0.919236': [{'x2 <=  0.917219': [1, 0]}, 1]}\n",
      "{'x2 <=  0.224236': [{'x2 <=  0.053292': [0, {'x2 <=  0.053702': [1, 0]}]}, {'x2 <=  0.383738': [{'x2 <=  0.379696': [{'x2 <=  0.235379': [1, 0]}, 0]}, {'x2 <=  0.388699': [1, 0]}]}]} {'x2 <=  0.88635': [{'x2 <=  0.641964': [{'x2 <=  0.516515': [1, {'x2 <=  0.635533': [1, 0]}]}, {'x2 <=  0.654331': [1, {'x2 <=  0.658212': [0, 1]}]}]}, {'x2 <=  0.919236': [{'x2 <=  0.917219': [1, 0]}, 1]}]}\n"
     ]
    },
    {
     "data": {
      "text/plain": [
       "{'x2 <=  0.506048': [{'x2 <=  0.224236': [{'x2 <=  0.053292': [0,\n",
       "      {'x2 <=  0.053702': [1, 0]}]},\n",
       "    {'x2 <=  0.383738': [{'x2 <=  0.379696': [{'x2 <=  0.235379': [1, 0]}, 0]},\n",
       "      {'x2 <=  0.388699': [1, 0]}]}]},\n",
       "  {'x2 <=  0.88635': [{'x2 <=  0.641964': [{'x2 <=  0.516515': [1,\n",
       "        {'x2 <=  0.635533': [1, 0]}]},\n",
       "      {'x2 <=  0.654331': [1, {'x2 <=  0.658212': [0, 1]}]}]},\n",
       "    {'x2 <=  0.919236': [{'x2 <=  0.917219': [1, 0]}, 1]}]}]}"
      ]
     },
     "execution_count": 26,
     "metadata": {},
     "output_type": "execute_result"
    }
   ],
   "source": [
    "df_d2 = pd.read_csv('D2.txt', names = colname_d3, sep = \" \")\n",
    "train_tree(df_d2,'y', True, max_depth, min_samples_split, min_information_gain)"
   ]
  },
  {
   "cell_type": "code",
   "execution_count": 27,
   "metadata": {},
   "outputs": [
    {
     "name": "stdout",
     "output_type": "stream",
     "text": [
      "            x1        x2  y\n",
      "9394  1.319820  1.151578  1\n",
      "898  -1.222178  0.073686  1\n",
      "2398 -0.759529  0.921726  0\n",
      "5906  0.304684 -1.454185  1\n",
      "2343 -0.775965  0.980504  0\n",
      "...        ...       ... ..\n",
      "4104 -0.244451 -1.227159  1\n",
      "5989  0.329880 -1.459166  1\n",
      "6537  0.492965 -0.955107  1\n",
      "540  -1.332802  0.142872  1\n",
      "80   -1.476813  0.281231  1\n",
      "\n",
      "[8192 rows x 3 columns]\n",
      "9394    1\n",
      "898     1\n",
      "2398    0\n",
      "5906    1\n",
      "2343    0\n",
      "       ..\n",
      "4104    1\n",
      "5989    1\n",
      "6537    1\n",
      "540     1\n",
      "80      1\n",
      "Name: y, Length: 8192, dtype: int64\n"
     ]
    }
   ],
   "source": [
    "dbig = pd.read_csv('Dbig.txt', sep= \" \", names= colname_d3)\n",
    "\n",
    "np.random.seed(0)\n",
    "ind_list = np.random.permutation(10000) #list of 10000 numbers in random numbers\n",
    "\n",
    "training_ind = ind_list[:8192]\n",
    "test_ind = ind_list[8192:]\n",
    "train_set = dbig.loc[training_ind]\n",
    "test_set = dbig.loc[test_ind]\n",
    "print(train_set)\n",
    "print(train_set['y'])"
   ]
  },
  {
   "cell_type": "code",
   "execution_count": 29,
   "metadata": {},
   "outputs": [
    {
     "name": "stdout",
     "output_type": "stream",
     "text": [
      "-0.711517\n",
      "-0.926187\n",
      "-0.954911\n",
      "None\n",
      "-0.954629\n",
      "None\n",
      "0 1\n",
      "1 {'x2 <=  -0.954629': [0, 1]}\n",
      "-0.856344\n",
      "-0.925588\n",
      "-0.863642\n",
      "1 1\n",
      "0 1\n",
      "-0.853943\n",
      "-0.778137\n",
      "1 1\n",
      "0 1\n",
      "{'x2 <=  -0.925588': [0, 1]} {'x2 <=  -0.853943': [0, 1]}\n",
      "{'x2 <=  -0.954911': [1, {'x2 <=  -0.954629': [0, 1]}]} {'x2 <=  -0.856344': [{'x2 <=  -0.925588': [0, 1]}, {'x2 <=  -0.853943': [0, 1]}]}\n",
      "1.232245\n",
      "-0.221321\n",
      "-0.500252\n",
      "-0.50362\n",
      "1 1\n",
      "-0.46443\n",
      "0 1\n",
      "1 {'x2 <=  -0.46443': [0, 1]}\n",
      "1.060339\n",
      "0.107964\n",
      "0 0\n",
      "1.198584\n",
      "0 1\n",
      "0 {'x2 <=  1.198584': [0, 1]}\n",
      "{'x2 <=  -0.500252': [1, {'x2 <=  -0.46443': [0, 1]}]} {'x2 <=  1.060339': [0, {'x2 <=  1.198584': [0, 1]}]}\n",
      "None\n",
      "{'x2 <=  -0.221321': [{'x2 <=  -0.500252': [1, {'x2 <=  -0.46443': [0, 1]}]}, {'x2 <=  1.060339': [0, {'x2 <=  1.198584': [0, 1]}]}]} 1\n",
      "{'x2 <=  -0.926187': [{'x2 <=  -0.954911': [1, {'x2 <=  -0.954629': [0, 1]}]}, {'x2 <=  -0.856344': [{'x2 <=  -0.925588': [0, 1]}, {'x2 <=  -0.853943': [0, 1]}]}]} {'x2 <=  1.232245': [{'x2 <=  -0.221321': [{'x2 <=  -0.500252': [1, {'x2 <=  -0.46443': [0, 1]}]}, {'x2 <=  1.060339': [0, {'x2 <=  1.198584': [0, 1]}]}]}, 1]}\n"
     ]
    },
    {
     "data": {
      "text/plain": [
       "{'x2 <=  -0.711517': [{'x2 <=  -0.926187': [{'x2 <=  -0.954911': [1,\n",
       "      {'x2 <=  -0.954629': [0, 1]}]},\n",
       "    {'x2 <=  -0.856344': [{'x2 <=  -0.925588': [0, 1]},\n",
       "      {'x2 <=  -0.853943': [0, 1]}]}]},\n",
       "  {'x2 <=  1.232245': [{'x2 <=  -0.221321': [{'x2 <=  -0.500252': [1,\n",
       "        {'x2 <=  -0.46443': [0, 1]}]},\n",
       "      {'x2 <=  1.060339': [0, {'x2 <=  1.198584': [0, 1]}]}]},\n",
       "    1]}]}"
      ]
     },
     "execution_count": 29,
     "metadata": {},
     "output_type": "execute_result"
    }
   ],
   "source": [
    "train_tree(train_set, 'y', True, max_depth, min_samples_split, min_information_gain)"
   ]
  }
 ],
 "metadata": {
  "kernelspec": {
   "display_name": "Python 3",
   "language": "python",
   "name": "python3"
  },
  "language_info": {
   "codemirror_mode": {
    "name": "ipython",
    "version": 3
   },
   "file_extension": ".py",
   "mimetype": "text/x-python",
   "name": "python",
   "nbconvert_exporter": "python",
   "pygments_lexer": "ipython3",
   "version": "3.9.6"
  },
  "orig_nbformat": 4,
  "vscode": {
   "interpreter": {
    "hash": "81794d4967e6c3204c66dcd87b604927b115b27c00565d3d43f05ba2f3a2cb0d"
   }
  }
 },
 "nbformat": 4,
 "nbformat_minor": 2
}
