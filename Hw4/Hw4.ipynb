{
 "cells": [
  {
   "cell_type": "code",
   "execution_count": 243,
   "metadata": {},
   "outputs": [],
   "source": [
    "import matplotlib.pyplot as plt\n",
    "import numpy as np\n",
    "import os\n",
    "import random"
   ]
  },
  {
   "cell_type": "code",
   "execution_count": 244,
   "metadata": {},
   "outputs": [
    {
     "data": {
      "text/plain": [
       "{'e': 0.3333333333333333, 's': 0.3333333333333333, 'j': 0.3333333333333333}"
      ]
     },
     "execution_count": 244,
     "metadata": {},
     "output_type": "execute_result"
    }
   ],
   "source": [
    "data_path = 'languageID'\n",
    "alpha = 1/2 \n",
    "K_l = 3\n",
    "num_sample = {'e': 10, 's': 10, 'j' : 10}\n",
    "prior = {}\n",
    "for label in num_sample:\n",
    "    cnt = num_sample[label]\n",
    "    prior[label] = (cnt + alpha)/ (sum(num_sample.values()) + (K_l*alpha))\n",
    "prior"
   ]
  },
  {
   "cell_type": "code",
   "execution_count": 245,
   "metadata": {},
   "outputs": [],
   "source": [
    "lang = []\n",
    "dict_list = []\n",
    "for label in ['e','s','j']:\n",
    "    alpha_cnt = {}\n",
    "    for i in range (0, 10):\n",
    "        name = label + (str(i)) + \".txt\"\n",
    "        file_path = os.path.join('languageID', name)\n",
    "        with open(file_path,'r') as f:\n",
    "            content = f.read()\n",
    "            for char in content:\n",
    "                if char.isalpha() or char.isspace():\n",
    "                    if char in alpha_cnt:\n",
    "                        alpha_cnt[char] += 1\n",
    "                    else:\n",
    "                        alpha_cnt[char] = 1\n",
    "    #sort keys\n",
    "    if '\\n' in alpha_cnt:\n",
    "        del alpha_cnt['\\n']\n",
    "\n",
    "    sorted_dict = {key: alpha_cnt[key] for key in sorted(alpha_cnt.keys())}\n",
    "    #finding theta\n",
    "    deno = sum(sorted_dict.values()) + alpha*len(sorted_dict)\n",
    "    theta = []\n",
    "    for val in sorted_dict:\n",
    "        i = (sorted_dict[val] + alpha)/ deno\n",
    "        theta.append(i)\n",
    "    dict_list.append(sorted_dict)\n",
    "    lang.append(theta)\n"
   ]
  },
  {
   "cell_type": "code",
   "execution_count": 246,
   "metadata": {},
   "outputs": [
    {
     "data": {
      "text/plain": [
       "{' ': 1766,\n",
       " 'a': 1885,\n",
       " 'b': 155,\n",
       " 'c': 78,\n",
       " 'd': 246,\n",
       " 'e': 861,\n",
       " 'f': 55,\n",
       " 'g': 200,\n",
       " 'h': 454,\n",
       " 'i': 1388,\n",
       " 'j': 33,\n",
       " 'k': 821,\n",
       " 'l': 20,\n",
       " 'm': 569,\n",
       " 'n': 811,\n",
       " 'o': 1304,\n",
       " 'p': 12,\n",
       " 'q': 1,\n",
       " 'r': 612,\n",
       " 's': 603,\n",
       " 't': 815,\n",
       " 'u': 1010,\n",
       " 'v': 3,\n",
       " 'w': 282,\n",
       " 'y': 202,\n",
       " 'z': 110}"
      ]
     },
     "execution_count": 246,
     "metadata": {},
     "output_type": "execute_result"
    }
   ],
   "source": [
    "dict_list[2]"
   ]
  },
  {
   "cell_type": "code",
   "execution_count": 247,
   "metadata": {},
   "outputs": [
    {
     "data": {
      "text/plain": [
       "[0.1792499586981662,\n",
       " 0.0601685114819098,\n",
       " 0.011134974392863043,\n",
       " 0.021509995043779945,\n",
       " 0.021972575582355856,\n",
       " 0.1053692383941847,\n",
       " 0.018932760614571286,\n",
       " 0.017478936064761277,\n",
       " 0.047216256401784236,\n",
       " 0.055410540227986124,\n",
       " 0.001420783082768875,\n",
       " 0.0037336857756484387,\n",
       " 0.028977366595076822,\n",
       " 0.020518751032545846,\n",
       " 0.057921691723112505,\n",
       " 0.06446390219725756,\n",
       " 0.01675202378985627,\n",
       " 0.0005617049396993227,\n",
       " 0.053824549810011564,\n",
       " 0.06618205848339666,\n",
       " 0.08012555757475633,\n",
       " 0.026664463902197257,\n",
       " 0.009284652238559392,\n",
       " 0.015496448042293078,\n",
       " 0.001156451346439782,\n",
       " 0.013844374690236246,\n",
       " 0.0006277878737815959]"
      ]
     },
     "execution_count": 247,
     "metadata": {},
     "output_type": "execute_result"
    }
   ],
   "source": [
    "lang[0]"
   ]
  },
  {
   "cell_type": "code",
   "execution_count": 248,
   "metadata": {},
   "outputs": [
    {
     "data": {
      "text/plain": [
       "[0.16826493170115014,\n",
       " 0.10456045141993771,\n",
       " 0.008232863618143134,\n",
       " 0.03752582405722919,\n",
       " 0.039745922111559924,\n",
       " 0.1138108599796491,\n",
       " 0.00860287996053159,\n",
       " 0.0071844839813758445,\n",
       " 0.0045327001942585795,\n",
       " 0.049859702136844375,\n",
       " 0.006629459467793161,\n",
       " 0.0002775122567913416,\n",
       " 0.052943171656748174,\n",
       " 0.02580863988159477,\n",
       " 0.054176559464709693,\n",
       " 0.07249236841293824,\n",
       " 0.02426690512164287,\n",
       " 0.007677839104560451,\n",
       " 0.05929511886774999,\n",
       " 0.06577040485954797,\n",
       " 0.03561407295488884,\n",
       " 0.03370232185254849,\n",
       " 0.00588942678301625,\n",
       " 9.250408559711388e-05,\n",
       " 0.0024976103111220747,\n",
       " 0.007862847275754679,\n",
       " 0.0026826184823163022]"
      ]
     },
     "execution_count": 248,
     "metadata": {},
     "output_type": "execute_result"
    }
   ],
   "source": [
    "#s\n",
    "lang[1]"
   ]
  },
  {
   "cell_type": "code",
   "execution_count": 249,
   "metadata": {},
   "outputs": [
    {
     "data": {
      "text/plain": [
       "[0.12345377035432245,\n",
       " 0.13177021455028304,\n",
       " 0.010867286323293032,\n",
       " 0.005486057725906772,\n",
       " 0.01722692012020407,\n",
       " 0.06020686281361381,\n",
       " 0.003878677755258928,\n",
       " 0.014012160178908379,\n",
       " 0.031763225941715004,\n",
       " 0.09703682996715354,\n",
       " 0.002341183870291425,\n",
       " 0.05741141938640017,\n",
       " 0.0014326647564469914,\n",
       " 0.039800125794954226,\n",
       " 0.05671255852959676,\n",
       " 0.09116639877000489,\n",
       " 0.0008735760710042631,\n",
       " 0.00010482912852051157,\n",
       " 0.04280522747920889,\n",
       " 0.042176252708085823,\n",
       " 0.05699210287231812,\n",
       " 0.07061988957998462,\n",
       " 0.00024460129988119366,\n",
       " 0.019742819204696345,\n",
       " 0.014151932350269061,\n",
       " 0.007722412467677685]"
      ]
     },
     "execution_count": 249,
     "metadata": {},
     "output_type": "execute_result"
    }
   ],
   "source": [
    "#j\n",
    "lang[2]"
   ]
  },
  {
   "cell_type": "code",
   "execution_count": 250,
   "metadata": {},
   "outputs": [],
   "source": [
    "#2.4\n",
    "alpha_cnt = {}\n",
    "name = 'e10.txt'\n",
    "file_path = os.path.join('languageID', name)\n",
    "with open(file_path,'r') as f:\n",
    "    content = f.read()\n",
    "    for char in content:\n",
    "        if char.isalpha() or char.isspace():\n",
    "            if char in alpha_cnt:\n",
    "                alpha_cnt[char] += 1\n",
    "            else:\n",
    "                alpha_cnt[char] = 1\n",
    "#sort keys\n",
    "if '\\n' in alpha_cnt:\n",
    "    del alpha_cnt['\\n']\n",
    "\n",
    "x_test = {key: alpha_cnt[key] for key in sorted(alpha_cnt.keys())}\n",
    "#finding theta\n",
    "deno = sum(x_test.values()) + alpha*len(x_test)\n",
    "theta_test = []\n",
    "for val in x_test:\n",
    "    i = (x_test[val] + alpha)/ deno\n",
    "    theta_test.append(i)\n"
   ]
  },
  {
   "cell_type": "code",
   "execution_count": 251,
   "metadata": {},
   "outputs": [
    {
     "data": {
      "text/plain": [
       "[498,\n",
       " 164,\n",
       " 32,\n",
       " 53,\n",
       " 57,\n",
       " 311,\n",
       " 55,\n",
       " 51,\n",
       " 140,\n",
       " 140,\n",
       " 3,\n",
       " 6,\n",
       " 85,\n",
       " 64,\n",
       " 139,\n",
       " 182,\n",
       " 53,\n",
       " 3,\n",
       " 141,\n",
       " 186,\n",
       " 225,\n",
       " 65,\n",
       " 31,\n",
       " 47,\n",
       " 4,\n",
       " 38,\n",
       " 2]"
      ]
     },
     "execution_count": 251,
     "metadata": {},
     "output_type": "execute_result"
    }
   ],
   "source": [
    "list(x_test.values())"
   ]
  },
  {
   "cell_type": "code",
   "execution_count": 252,
   "metadata": {},
   "outputs": [
    {
     "data": {
      "text/plain": [
       "[-7841.865447060634, -8467.282044010557, -8730.288949147405]"
      ]
     },
     "execution_count": 252,
     "metadata": {},
     "output_type": "execute_result"
    }
   ],
   "source": [
    "#log likelihood\n",
    "p_list = []\n",
    "language = 0\n",
    "for label in ['e', 's', 'j']:\n",
    "    i = 0\n",
    "    p = 0\n",
    "    for x in x_test:\n",
    "        if x == list(dict_list[language].keys())[i]:\n",
    "            p = p + x_test[x]*np.log(lang[language][i])\n",
    "            i = i + 1\n",
    "    p_list.append(p) \n",
    "    language = language + 1\n",
    "p_list\n"
   ]
  },
  {
   "cell_type": "code",
   "execution_count": 253,
   "metadata": {},
   "outputs": [
    {
     "data": {
      "text/plain": [
       "'e'"
      ]
     },
     "execution_count": 253,
     "metadata": {},
     "output_type": "execute_result"
    }
   ],
   "source": [
    "label_list = ['e', 's', 'j'] \n",
    "#log likelihood\n",
    "p_list = []\n",
    "language = 0\n",
    "for label in ['e', 's', 'j']:\n",
    "    i = 0\n",
    "    p = 0\n",
    "    for x in x_test:\n",
    "        if x == list(dict_list[language].keys())[i]:\n",
    "            p = p + x_test[x]*np.log(lang[language][i])\n",
    "            i = i + 1\n",
    "    p_list.append(p) \n",
    "    language = language + 1\n",
    "p_list\n",
    "\n",
    "#log posterior\n",
    "p_list_post = p_list + np.log(list(prior.values()))\n",
    " \n",
    "#show the class label (Choose the class with the highest posterior probability as the predicted class label for x)\n",
    "ind_max = np.argmax(p_list_post)\n",
    "label_list[ind_max]"
   ]
  },
  {
   "cell_type": "code",
   "execution_count": 254,
   "metadata": {},
   "outputs": [
    {
     "data": {
      "text/plain": [
       "array([-7842.96405935, -8468.3806563 , -8731.38756144])"
      ]
     },
     "execution_count": 254,
     "metadata": {},
     "output_type": "execute_result"
    }
   ],
   "source": [
    "p_list_post"
   ]
  },
  {
   "cell_type": "code",
   "execution_count": 211,
   "metadata": {},
   "outputs": [
    {
     "name": "stdout",
     "output_type": "stream",
     "text": [
      "10 10 10 0 0 0 0 0 0\n"
     ]
    }
   ],
   "source": [
    "#test files 10.txt to 19.txt in three languages\n",
    "ee, ss, jj, ej, es, js, je, se, sj = 0,0,0,0,0,0,0,0,0\n",
    "for label in ['e', 's', 'j']:\n",
    "    for i in range(10, 20):\n",
    "        alpha_cnt = {}\n",
    "        name = label + str(i) + '.txt'\n",
    "        file_path = os.path.join('languageID', name)\n",
    "        with open(file_path,'r') as f:\n",
    "            content = f.read()\n",
    "            for char in content:\n",
    "                if char.isalpha() or char.isspace():\n",
    "                    if char in alpha_cnt:\n",
    "                        alpha_cnt[char] += 1\n",
    "                    else:\n",
    "                        alpha_cnt[char] = 1\n",
    "        #sort keys\n",
    "        if '\\n' in alpha_cnt:\n",
    "            del alpha_cnt['\\n']\n",
    "\n",
    "        x_test = {key: alpha_cnt[key] for key in sorted(alpha_cnt.keys())}\n",
    "        #finding theta\n",
    "        deno = sum(x_test.values()) + alpha*len(x_test)\n",
    "        theta_test = []\n",
    "        for val in x_test:\n",
    "            i = (x_test[val] + alpha)/ deno\n",
    "            theta_test.append(i)\n",
    "        \n",
    "        #log likelihood\n",
    "        p_list = []\n",
    "        language = 0\n",
    "        for label2 in ['e', 's', 'j']:\n",
    "            i = 0\n",
    "            p = 0\n",
    "            for x in x_test:\n",
    "                if x == list(dict_list[language].keys())[i]:\n",
    "                    p = p + x_test[x]*np.log(lang[language][i])\n",
    "                    i = i + 1\n",
    "            p_list.append(p) \n",
    "            language = language + 1\n",
    "        \n",
    "        #log posterior\n",
    "        p_list_post = p_list + np.log(list(prior.values()))\n",
    "\n",
    "        #show the class label (Choose the class with the highest posterior probability as the predicted class label for x)\n",
    "        ind_max = np.argmax(p_list_post)\n",
    "        clas = label_list[ind_max]\n",
    "        #evaluate\n",
    "        if label == 'e' and clas == 'e':\n",
    "            ee += 1\n",
    "        if label == 'e' and clas == 'j':\n",
    "            ej += 1\n",
    "        if label == 'e' and clas == 's':\n",
    "            es += 1\n",
    "        if label == 'j' and clas == 'j':\n",
    "            jj += 1\n",
    "        if label == 'j' and clas == 's':\n",
    "            js += 1\n",
    "        if label == 'j' and clas == 'e':\n",
    "            je += 1\n",
    "        if label == 's' and clas == 's':\n",
    "            ss += 1\n",
    "        if label == 's' and clas == 'j':\n",
    "            sj += 1\n",
    "        if label == 's' and clas == 'e':\n",
    "            se += 1\n",
    "print(ee, ss, jj, ej, es, js, je, se, sj)"
   ]
  },
  {
   "cell_type": "code",
   "execution_count": 212,
   "metadata": {},
   "outputs": [
    {
     "data": {
      "text/plain": [
       "{' ': 498,\n",
       " 'a': 164,\n",
       " 'b': 32,\n",
       " 'c': 53,\n",
       " 'd': 57,\n",
       " 'e': 311,\n",
       " 'f': 55,\n",
       " 'g': 51,\n",
       " 'h': 140,\n",
       " 'i': 140,\n",
       " 'j': 3,\n",
       " 'k': 6,\n",
       " 'l': 85,\n",
       " 'm': 64,\n",
       " 'n': 139,\n",
       " 'o': 182,\n",
       " 'p': 53,\n",
       " 'q': 3,\n",
       " 'r': 141,\n",
       " 's': 186,\n",
       " 't': 225,\n",
       " 'u': 65,\n",
       " 'v': 31,\n",
       " 'w': 47,\n",
       " 'x': 4,\n",
       " 'y': 38,\n",
       " 'z': 2}"
      ]
     },
     "execution_count": 212,
     "metadata": {},
     "output_type": "execute_result"
    }
   ],
   "source": [
    "#2.8\n",
    "alpha_cnt = {}\n",
    "name = 'e10.txt'\n",
    "file_path = os.path.join('languageID', name)\n",
    "with open(file_path,'r') as f:\n",
    "    content = f.read()\n",
    "    shuffled_content = ''.join(random.sample(content, len(content)))\n",
    "    for char in content:\n",
    "        if char.isalpha() or char.isspace():\n",
    "            if char in alpha_cnt:\n",
    "                alpha_cnt[char] += 1\n",
    "            else:\n",
    "                alpha_cnt[char] = 1\n",
    "#sort keys\n",
    "if '\\n' in alpha_cnt:\n",
    "    del alpha_cnt['\\n']\n",
    "\n",
    "x_test = {key: alpha_cnt[key] for key in sorted(alpha_cnt.keys())}\n",
    "#finding theta\n",
    "deno = sum(x_test.values()) + alpha*len(x_test)\n",
    "theta_test = []\n",
    "for val in x_test:\n",
    "    i = (x_test[val] + alpha)/ deno\n",
    "    theta_test.append(i)\n",
    "x_test\n"
   ]
  },
  {
   "attachments": {},
   "cell_type": "markdown",
   "metadata": {},
   "source": [
    "# Neural Networks "
   ]
  },
  {
   "cell_type": "code",
   "execution_count": 255,
   "metadata": {},
   "outputs": [],
   "source": [
    "# https://nextjournal.com/gkoehler/pytorch-mnist\n",
    "import torch\n",
    "from torch.utils.data import DataLoader\n",
    "from torchvision import datasets, transforms\n",
    "import numpy as np\n",
    "import torch.nn as nn\n",
    "import matplotlib.pyplot as plt\n",
    "#criterion is a PyTorch loss function that computes the loss between the predicted output \n",
    "criterion = nn.CrossEntropyLoss()"
   ]
  },
  {
   "cell_type": "code",
   "execution_count": 256,
   "metadata": {},
   "outputs": [],
   "source": [
    "#Define hyperparemeters\n",
    "batch_size = 32\n",
    "batch_size_test = 10\n",
    "learning_rate = 0.01\n",
    "num_epochs = 20\n",
    "input_size = 784  #28x28 pixels\n",
    "hidden_size1 = 300\n",
    "hidden_size2 = 200\n",
    "num_classes = 10"
   ]
  },
  {
   "cell_type": "code",
   "execution_count": 257,
   "metadata": {},
   "outputs": [],
   "source": [
    "#Load the MNIST dataset \n",
    "#TorchVision also offers a lot of handy transformations, such as cropping or normalization.\n",
    "train_dataset = datasets.MNIST(root= './data', train= True, transform= transforms.ToTensor(), download= True)\n",
    "test_dataset = datasets.MNIST(root = './data', train = False, transform= transforms.ToTensor())"
   ]
  },
  {
   "cell_type": "code",
   "execution_count": 258,
   "metadata": {},
   "outputs": [],
   "source": [
    "#Create data loaders\n",
    "train_loader = DataLoader(dataset= train_dataset, batch_size= batch_size, shuffle= True)\n",
    "test_loader = DataLoader(dataset= test_dataset, batch_size= batch_size_test, shuffle=False)"
   ]
  },
  {
   "cell_type": "code",
   "execution_count": 259,
   "metadata": {},
   "outputs": [],
   "source": [
    "#define the model\n",
    "#The torch.randn function generates a tensor of size (hidden_size1, input_size) \n",
    "#filled with random values drawn from a normal distribution with mean 0 and standard deviation 1\n",
    "#The division by np.sqrt(input_size) scales the initial weights by the square root of the input size, \n",
    "#which is a common practice to ensure that the initial weights are not too large or too small.\n",
    "W1 = torch.randn(hidden_size1, input_size) / np.sqrt(input_size)\n",
    "W2 = torch.randn(hidden_size2, hidden_size1) / np.sqrt(hidden_size1)\n",
    "W3 = torch.randn(num_classes, hidden_size2) / np.sqrt(hidden_size2)"
   ]
  },
  {
   "cell_type": "code",
   "execution_count": 260,
   "metadata": {},
   "outputs": [],
   "source": [
    "def forward(x):\n",
    "    z1 = torch.matmul(W1, x)\n",
    "    a1 = torch.sigmoid(z1)\n",
    "    z2 = torch.matmul(W2, a1)\n",
    "    a2 = torch.sigmoid(z2)\n",
    "    z3 = torch.matmul(W3, a2)\n",
    "    y_hat = torch.softmax(z3, dim = 0)\n",
    "    return a1, a2, y_hat    "
   ]
  },
  {
   "cell_type": "code",
   "execution_count": 261,
   "metadata": {},
   "outputs": [
    {
     "data": {
      "text/plain": [
       "(10, 32)"
      ]
     },
     "execution_count": 261,
     "metadata": {},
     "output_type": "execute_result"
    }
   ],
   "source": [
    "y = np.zeros((num_classes, batch_size))\n",
    "y.shape"
   ]
  },
  {
   "cell_type": "code",
   "execution_count": 262,
   "metadata": {},
   "outputs": [
    {
     "name": "stderr",
     "output_type": "stream",
     "text": [
      "C:\\Users\\thong\\AppData\\Local\\Temp\\ipykernel_19000\\3159690282.py:19: UserWarning: To copy construct from a tensor, it is recommended to use sourceTensor.clone().detach() or sourceTensor.clone().detach().requires_grad_(True), rather than torch.tensor(sourceTensor).\n",
      "  x, y = torch.tensor(images), torch.tensor(y) #convert 'images' and 'y' into PyTorch tensors.\n"
     ]
    }
   ],
   "source": [
    "#Train the model\n",
    "accuracy_list = []\n",
    "for epoch in range(num_epochs):\n",
    "    # batch_index, (example_data, example_targets)\n",
    "    # labels is a tensor of shape (batch_size,) that contains the true labels for a batch of images.\n",
    "    # images.shape = torch.Size([128, 1, 28, 28])\n",
    "    train_acc = 0\n",
    "    for i, (images, labels) in enumerate(train_loader):\n",
    "        #flatten the images:\n",
    "        images = images.reshape(-1, input_size).T #turn into a vector\n",
    "        labels = labels.numpy() # converting the labels tensor from a PyTorch tensor object to a numpy array.\n",
    "\n",
    "        #convert labels to one-hot vectors\n",
    "        y = np.zeros((num_classes, batch_size))\n",
    "        batch_size_i = labels.shape[0]\n",
    "        y[labels, np.arange(batch_size_i)] = 1 #last batch of batch_size = 128 is 96\n",
    "        if batch_size_i < batch_size:\n",
    "            y = np.delete(y, np.arange(batch_size_i, batch_size), axis = 1) #delete the remaining unsed columns\n",
    "        x, y = torch.tensor(images), torch.tensor(y) #convert 'images' and 'y' into PyTorch tensors.\n",
    "\n",
    "        #forward pass \n",
    "        a1, a2, y_hat = forward(x)\n",
    "\n",
    "        #compute the loss\n",
    "        loss = -torch.sum(y * torch.log(y_hat))\n",
    "        #backward pass\n",
    "        delta3 = (y_hat - y).float() #change from double to float \n",
    "        delta2 = torch.matmul(W3.T, delta3)* a2 * (1- a2)\n",
    "        delta1 = torch.matmul(W2.T, delta2) * a1 * (1- a1)\n",
    "\n",
    "        dW3 = torch.matmul(delta3, a2.T) #(y_hat - y)a2^T\n",
    "        dW2 = torch.matmul(delta2, a1.T) # W3.T(y_hat - y)a2(1- a2)a1.T\n",
    "        dw1 = torch.matmul(delta1, x.T) # W2.T*delta2*a1*(1- a1)x.T\n",
    "\n",
    "        #update weights using SGD  \n",
    "        W1 -= learning_rate* dw1 / batch_size\n",
    "        W2 -= learning_rate* dW2 / batch_size\n",
    "        W3 -= learning_rate * dW3 / batch_size\n",
    "\n",
    "        #calculate accuracy:\n",
    "        \n",
    "        "
   ]
  },
  {
   "cell_type": "code",
   "execution_count": 221,
   "metadata": {},
   "outputs": [
    {
     "data": {
      "text/plain": [
       "array([3, 3, 1, 9, 4, 0, 8, 5, 9, 0, 9, 6, 8, 0, 8, 4, 3, 9, 5, 2, 4, 2,\n",
       "       8, 9, 5, 8, 3, 9, 9, 5, 8, 1], dtype=int64)"
      ]
     },
     "execution_count": 221,
     "metadata": {},
     "output_type": "execute_result"
    }
   ],
   "source": [
    "#code for understanding syntax\n",
    "labels"
   ]
  },
  {
   "cell_type": "code",
   "execution_count": 222,
   "metadata": {},
   "outputs": [
    {
     "data": {
      "text/plain": [
       "array([ 0,  1,  2,  3,  4,  5,  6,  7,  8,  9, 10, 11, 12, 13, 14, 15, 16,\n",
       "       17, 18, 19, 20, 21, 22, 23, 24, 25, 26, 27, 28, 29, 30, 31])"
      ]
     },
     "execution_count": 222,
     "metadata": {},
     "output_type": "execute_result"
    }
   ],
   "source": [
    "#code for understanding syntax\n",
    "np.arange(batch_size_i)"
   ]
  },
  {
   "cell_type": "code",
   "execution_count": 223,
   "metadata": {},
   "outputs": [
    {
     "data": {
      "text/plain": [
       "array([[0., 0., 0., 0., 0., 0., 0., 0., 0., 0., 0., 0., 0., 0., 0., 0.,\n",
       "        0., 0., 0., 0., 0., 0., 0., 0., 0., 0., 0., 0., 0., 0., 0., 0.],\n",
       "       [0., 0., 0., 0., 0., 0., 0., 0., 0., 0., 0., 0., 0., 0., 0., 0.,\n",
       "        0., 0., 0., 0., 0., 0., 0., 0., 0., 0., 0., 0., 0., 0., 0., 0.],\n",
       "       [0., 0., 0., 0., 0., 0., 0., 0., 0., 0., 0., 0., 0., 0., 0., 0.,\n",
       "        0., 0., 0., 0., 0., 0., 0., 0., 0., 0., 0., 0., 0., 0., 0., 0.],\n",
       "       [0., 0., 0., 0., 0., 0., 0., 0., 0., 0., 0., 0., 0., 0., 0., 0.,\n",
       "        0., 0., 0., 0., 0., 0., 0., 0., 0., 0., 0., 0., 0., 0., 0., 0.],\n",
       "       [0., 0., 0., 0., 0., 0., 0., 0., 0., 0., 0., 0., 0., 0., 0., 0.,\n",
       "        0., 0., 0., 0., 0., 0., 0., 0., 0., 0., 0., 0., 0., 0., 0., 0.],\n",
       "       [0., 0., 0., 0., 0., 0., 0., 0., 0., 0., 0., 0., 0., 0., 0., 0.,\n",
       "        0., 0., 0., 0., 0., 0., 0., 0., 0., 0., 0., 0., 0., 0., 0., 0.],\n",
       "       [0., 0., 0., 0., 0., 0., 0., 0., 0., 0., 0., 0., 0., 0., 0., 0.,\n",
       "        0., 0., 0., 0., 0., 0., 0., 0., 0., 0., 0., 0., 0., 0., 0., 0.],\n",
       "       [0., 0., 0., 0., 0., 0., 0., 0., 0., 0., 0., 0., 0., 0., 0., 0.,\n",
       "        0., 0., 0., 0., 0., 0., 0., 0., 0., 0., 0., 0., 0., 0., 0., 0.],\n",
       "       [0., 0., 0., 0., 0., 0., 0., 0., 0., 0., 0., 0., 0., 0., 0., 0.,\n",
       "        0., 0., 0., 0., 0., 0., 0., 0., 0., 0., 0., 0., 0., 0., 0., 0.],\n",
       "       [0., 0., 0., 0., 0., 0., 0., 0., 0., 0., 0., 0., 0., 0., 0., 0.,\n",
       "        0., 0., 0., 0., 0., 0., 0., 0., 0., 0., 0., 0., 0., 0., 0., 0.]])"
      ]
     },
     "execution_count": 223,
     "metadata": {},
     "output_type": "execute_result"
    }
   ],
   "source": [
    "#code for understanding syntax\n",
    "test0 = np.zeros((num_classes, batch_size))\n",
    "test0 #10 x 128"
   ]
  },
  {
   "cell_type": "code",
   "execution_count": 224,
   "metadata": {},
   "outputs": [
    {
     "data": {
      "text/plain": [
       "array([[0., 0., 0., 0., 0., 1., 0., 0., 0., 1., 0., 0., 0., 1., 0., 0.,\n",
       "        0., 0., 0., 0., 0., 0., 0., 0., 0., 0., 0., 0., 0., 0., 0., 0.],\n",
       "       [0., 0., 1., 0., 0., 0., 0., 0., 0., 0., 0., 0., 0., 0., 0., 0.,\n",
       "        0., 0., 0., 0., 0., 0., 0., 0., 0., 0., 0., 0., 0., 0., 0., 1.],\n",
       "       [0., 0., 0., 0., 0., 0., 0., 0., 0., 0., 0., 0., 0., 0., 0., 0.,\n",
       "        0., 0., 0., 1., 0., 1., 0., 0., 0., 0., 0., 0., 0., 0., 0., 0.],\n",
       "       [1., 1., 0., 0., 0., 0., 0., 0., 0., 0., 0., 0., 0., 0., 0., 0.,\n",
       "        1., 0., 0., 0., 0., 0., 0., 0., 0., 0., 1., 0., 0., 0., 0., 0.],\n",
       "       [0., 0., 0., 0., 1., 0., 0., 0., 0., 0., 0., 0., 0., 0., 0., 1.,\n",
       "        0., 0., 0., 0., 1., 0., 0., 0., 0., 0., 0., 0., 0., 0., 0., 0.],\n",
       "       [0., 0., 0., 0., 0., 0., 0., 1., 0., 0., 0., 0., 0., 0., 0., 0.,\n",
       "        0., 0., 1., 0., 0., 0., 0., 0., 1., 0., 0., 0., 0., 1., 0., 0.],\n",
       "       [0., 0., 0., 0., 0., 0., 0., 0., 0., 0., 0., 1., 0., 0., 0., 0.,\n",
       "        0., 0., 0., 0., 0., 0., 0., 0., 0., 0., 0., 0., 0., 0., 0., 0.],\n",
       "       [0., 0., 0., 0., 0., 0., 0., 0., 0., 0., 0., 0., 0., 0., 0., 0.,\n",
       "        0., 0., 0., 0., 0., 0., 0., 0., 0., 0., 0., 0., 0., 0., 0., 0.],\n",
       "       [0., 0., 0., 0., 0., 0., 1., 0., 0., 0., 0., 0., 1., 0., 1., 0.,\n",
       "        0., 0., 0., 0., 0., 0., 1., 0., 0., 1., 0., 0., 0., 0., 1., 0.],\n",
       "       [0., 0., 0., 1., 0., 0., 0., 0., 1., 0., 1., 0., 0., 0., 0., 0.,\n",
       "        0., 1., 0., 0., 0., 0., 0., 1., 0., 0., 0., 1., 1., 0., 0., 0.]])"
      ]
     },
     "execution_count": 224,
     "metadata": {},
     "output_type": "execute_result"
    }
   ],
   "source": [
    "#code for understanding syntax\n",
    "test0[labels, np.arange(batch_size_i)] = 1 #set test0[label[i], i] = 1\n",
    "test0"
   ]
  },
  {
   "cell_type": "code",
   "execution_count": 225,
   "metadata": {},
   "outputs": [
    {
     "name": "stderr",
     "output_type": "stream",
     "text": [
      "C:\\Users\\thong\\AppData\\Local\\Temp\\ipykernel_19000\\781778586.py:22: UserWarning: To copy construct from a tensor, it is recommended to use sourceTensor.clone().detach() or sourceTensor.clone().detach().requires_grad_(True), rather than torch.tensor(sourceTensor).\n",
      "  x, y = torch.tensor(images), torch.tensor(y)\n"
     ]
    }
   ],
   "source": [
    "correct = 0\n",
    "total = 0 \n",
    "test_losses = []\n",
    "accuracy_list = []\n",
    "# is a context manager that temporarily disables gradient computation during model inference. \n",
    "# reduce memory consumption and computation time since gradients are not needed for inference.\n",
    "# is used to compute test accuracy and loss during the testing phase.\n",
    "# when you are sure that you will not call Tensor.backward() \n",
    "with torch.no_grad():\n",
    "    for images, labels in test_loader:\n",
    "        #Flatten the images\n",
    "        images = images.reshape(-1, input_size).T\n",
    "        labels = labels.numpy()\n",
    "\n",
    "        #convert labels into one-hot vectors\n",
    "        y = np.zeros((num_classes, batch_size))\n",
    "        batch_size_j = labels.shape[0]\n",
    "        y[labels,np.arange(batch_size_j)] = 1\n",
    "        if batch_size_j < batch_size:\n",
    "            y = np.delete(y, np.arange(batch_size_j, batch_size), axis = 1)\n",
    "        \n",
    "        x, y = torch.tensor(images), torch.tensor(y)\n",
    "\n",
    "        #forward pass\n",
    "        _, _, y_hat = forward(x)\n",
    "\n",
    "        # compute loss\n",
    "        #This function returns the index of the maximum value in each column of the one-hot encoded y tensor.\n",
    "        #The dim=0 argument specifies that the function should return the index along the first dimension of the tensor, which corresponds to the batch size.\n",
    "        test_loss = criterion(y_hat, torch.argmax(y, dim = 0))\n",
    "        test_losses.append(test_loss.item())\n",
    "\n",
    "        #compute predictions and accuracy \n",
    "        # predictions is a tensor of shape (1, batch_size). \n",
    "        # Each element in this tensor represents the predicted class label for the corresponding input image in the batch\n",
    "        #torch.max() is used to get the index of the maximum value in the tensor y_hat along the 0-th dimension\n",
    "        \n",
    "        _, predictions = torch.max(y_hat, 0)\n",
    "\n",
    "        predictions = np.array(predictions)\n",
    "        labels = np.array(labels)\n",
    "\n",
    "        total += y.size(1)\n",
    "        correct += (predictions == labels).sum().item()     "
   ]
  },
  {
   "cell_type": "code",
   "execution_count": 226,
   "metadata": {},
   "outputs": [
    {
     "data": {
      "text/plain": [
       "tensor([[0., 0., 0., 1., 0., 0., 0., 0., 0., 0.],\n",
       "        [0., 0., 0., 0., 1., 0., 0., 0., 0., 0.],\n",
       "        [0., 0., 0., 0., 0., 1., 0., 0., 0., 0.],\n",
       "        [0., 0., 0., 0., 0., 0., 1., 0., 0., 0.],\n",
       "        [0., 0., 0., 0., 0., 0., 0., 1., 0., 0.],\n",
       "        [0., 0., 0., 0., 0., 0., 0., 0., 1., 0.],\n",
       "        [0., 0., 0., 0., 0., 0., 0., 0., 0., 1.],\n",
       "        [1., 0., 0., 0., 0., 0., 0., 0., 0., 0.],\n",
       "        [0., 1., 0., 0., 0., 0., 0., 0., 0., 0.],\n",
       "        [0., 0., 1., 0., 0., 0., 0., 0., 0., 0.]], dtype=torch.float64)"
      ]
     },
     "execution_count": 226,
     "metadata": {},
     "output_type": "execute_result"
    }
   ],
   "source": [
    "#first dimension = 10 = batch_test_size ->dim = 0 \n",
    "y"
   ]
  },
  {
   "cell_type": "code",
   "execution_count": 227,
   "metadata": {},
   "outputs": [
    {
     "data": {
      "text/plain": [
       "tensor([7, 8, 9, 0, 1, 2, 3, 4, 5, 6])"
      ]
     },
     "execution_count": 227,
     "metadata": {},
     "output_type": "execute_result"
    }
   ],
   "source": [
    "#dim 1 x 10, (batch_size,)\n",
    "torch.argmax(y, dim = 0)"
   ]
  },
  {
   "cell_type": "code",
   "execution_count": 228,
   "metadata": {},
   "outputs": [
    {
     "data": {
      "text/plain": [
       "tensor([[8.5156e-07, 5.0947e-04, 7.2134e-05, 9.1144e-01, 1.6696e-08, 6.3803e-06,\n",
       "         8.9434e-05, 7.0846e-07, 1.0595e-03, 3.8856e-04],\n",
       "        [1.3359e-05, 8.3562e-06, 5.5789e-08, 2.1607e-08, 9.8899e-01, 2.1314e-05,\n",
       "         1.4592e-05, 1.8552e-05, 7.0053e-04, 1.8636e-08],\n",
       "        [2.6674e-04, 3.5405e-03, 2.7641e-05, 1.1710e-04, 6.1480e-03, 9.9335e-01,\n",
       "         1.5927e-03, 4.1104e-05, 3.3100e-04, 1.2983e-03],\n",
       "        [1.3054e-03, 5.6440e-02, 2.1866e-05, 6.7148e-05, 6.7435e-04, 6.0699e-03,\n",
       "         9.9779e-01, 4.9486e-05, 8.7442e-04, 2.4560e-07],\n",
       "        [1.8452e-06, 3.2896e-06, 2.4347e-01, 1.5420e-06, 5.5174e-06, 2.3762e-08,\n",
       "         4.3508e-09, 9.4231e-01, 2.9524e-03, 9.1144e-05],\n",
       "        [1.2142e-05, 7.7640e-03, 2.0689e-04, 8.5569e-02, 1.7092e-04, 8.2957e-06,\n",
       "         3.5251e-04, 2.0963e-03, 7.6255e-01, 1.0470e-04],\n",
       "        [3.2330e-09, 3.2186e-07, 6.4476e-05, 2.4882e-04, 2.4096e-04, 2.1499e-06,\n",
       "         3.8014e-08, 1.0820e-04, 4.9302e-03, 9.9810e-01],\n",
       "        [9.8601e-01, 2.2796e-05, 3.1348e-03, 2.1585e-07, 1.1353e-04, 2.1008e-06,\n",
       "         1.1884e-04, 6.8042e-04, 3.3455e-05, 5.0546e-09],\n",
       "        [1.0923e-04, 9.3075e-01, 7.5483e-04, 2.5533e-03, 3.5827e-03, 5.3500e-04,\n",
       "         3.6928e-05, 9.6835e-03, 2.2632e-01, 1.4235e-05],\n",
       "        [1.2279e-02, 9.6379e-04, 7.5224e-01, 2.7423e-06, 7.0673e-05, 3.9505e-07,\n",
       "         5.9961e-06, 4.5014e-02, 2.4854e-04, 1.0057e-06]])"
      ]
     },
     "execution_count": 228,
     "metadata": {},
     "output_type": "execute_result"
    }
   ],
   "source": [
    "#dim 10 x 10, (num_classes, batch_size)\n",
    "y_hat"
   ]
  },
  {
   "cell_type": "code",
   "execution_count": 229,
   "metadata": {},
   "outputs": [
    {
     "data": {
      "text/plain": [
       "2.4517009258270264"
      ]
     },
     "execution_count": 229,
     "metadata": {},
     "output_type": "execute_result"
    }
   ],
   "source": [
    "criterion(y_hat, torch.argmax(y, dim = 0)).item() #item() for getting the value"
   ]
  },
  {
   "cell_type": "code",
   "execution_count": 230,
   "metadata": {},
   "outputs": [
    {
     "name": "stdout",
     "output_type": "stream",
     "text": [
      "91.51 2.274532381772995\n"
     ]
    }
   ],
   "source": [
    "# Print test accuracy and loss\n",
    "test_accuracy = 100 * correct / total\n",
    "test_loss = np.mean(test_losses)\n",
    "print(test_accuracy, test_loss)"
   ]
  },
  {
   "cell_type": "code",
   "execution_count": 231,
   "metadata": {},
   "outputs": [
    {
     "data": {
      "image/png": "[encoded data removed]",
      "text/plain": [
       "<Figure size 640x480 with 1 Axes>"
      ]
     },
     "metadata": {},
     "output_type": "display_data"
    }
   ],
   "source": [
    "plt.plot(test_losses, label = \"Test losses\")\n",
    "plt.ylabel('Loss')\n",
    "plt.xlabel('Epoch')\n",
    "plt.legend()\n",
    "plt.show()"
   ]
  },
  {
   "attachments": {},
   "cell_type": "markdown",
   "metadata": {},
   "source": [
    "# Simple Neural Network (but with auto-grad)"
   ]
  },
  {
   "cell_type": "code",
   "execution_count": 263,
   "metadata": {},
   "outputs": [],
   "source": [
    "import torch.nn.functional as F\n",
    "import torch.optim as optim\n",
    "from torchvision import datasets, transforms "
   ]
  },
  {
   "cell_type": "code",
   "execution_count": 264,
   "metadata": {},
   "outputs": [],
   "source": [
    "class Net(nn.Module):\n",
    "    def __init__(self, input_size, hidden_size1, hidden_size2, num_classes):\n",
    "        super(Net, self).__init__()\n",
    "        self.fc1 = nn.Linear(input_size, hidden_size1)\n",
    "        self.fc2 = nn.Linear(hidden_size1, hidden_size2)\n",
    "        self.fc3 = nn.Linear(hidden_size2, num_classes)\n",
    "\n",
    "    def forward(self, x):\n",
    "        x = torch.sigmoid(self.fc1(x))\n",
    "        x = torch.sigmoid(self.fc2(x))\n",
    "        x = F.softmax(self.fc3(x), dim = 1)\n",
    "        return x\n"
   ]
  },
  {
   "cell_type": "code",
   "execution_count": 265,
   "metadata": {},
   "outputs": [],
   "source": [
    "#initialize the model, loss function, and optimizer\n",
    "model = Net(input_size= 784, hidden_size1= 300, hidden_size2 = 200, num_classes = 10)\n",
    "criterion = nn.CrossEntropyLoss()\n",
    "optimizer = optim.SGD(model.parameters(), lr = 0.1)"
   ]
  },
  {
   "cell_type": "code",
   "execution_count": 266,
   "metadata": {},
   "outputs": [
    {
     "name": "stdout",
     "output_type": "stream",
     "text": [
      "Epoch 1/30, Accuracy: 0.114\n",
      "Epoch 2/30, Accuracy: 0.285\n",
      "Epoch 3/30, Accuracy: 0.461\n",
      "Epoch 4/30, Accuracy: 0.570\n",
      "Epoch 5/30, Accuracy: 0.583\n",
      "Epoch 6/30, Accuracy: 0.697\n",
      "Epoch 7/30, Accuracy: 0.715\n",
      "Epoch 8/30, Accuracy: 0.728\n",
      "Epoch 9/30, Accuracy: 0.739\n",
      "Epoch 10/30, Accuracy: 0.743\n",
      "Epoch 11/30, Accuracy: 0.748\n",
      "Epoch 12/30, Accuracy: 0.750\n",
      "Epoch 13/30, Accuracy: 0.755\n",
      "Epoch 14/30, Accuracy: 0.756\n",
      "Epoch 15/30, Accuracy: 0.757\n",
      "Epoch 16/30, Accuracy: 0.757\n",
      "Epoch 17/30, Accuracy: 0.759\n",
      "Epoch 18/30, Accuracy: 0.760\n",
      "Epoch 19/30, Accuracy: 0.762\n",
      "Epoch 20/30, Accuracy: 0.763\n",
      "Epoch 21/30, Accuracy: 0.763\n",
      "Epoch 22/30, Accuracy: 0.763\n",
      "Epoch 23/30, Accuracy: 0.764\n",
      "Epoch 24/30, Accuracy: 0.764\n",
      "Epoch 25/30, Accuracy: 0.765\n",
      "Epoch 26/30, Accuracy: 0.765\n",
      "Epoch 27/30, Accuracy: 0.767\n",
      "Epoch 28/30, Accuracy: 0.766\n",
      "Epoch 29/30, Accuracy: 0.766\n",
      "Epoch 30/30, Accuracy: 0.766\n"
     ]
    }
   ],
   "source": [
    "#train model\n",
    "total_step = len(train_loader)\n",
    "train_loss_list = []\n",
    "train_accuracy_list = []\n",
    "test_loss_list = []\n",
    "test_accuracy_list = []\n",
    "num_epochs = 30\n",
    "for epoch in range(num_epochs):\n",
    "    train_loss = 0\n",
    "    train_acc = 0\n",
    "    model.train() #sets the model to training mode. \n",
    "    ##new## \n",
    "    correct = 0\n",
    "    total = 0\n",
    "    ####\n",
    "    for i, (images, labels) in enumerate(train_loader):\n",
    "        #flatten the images\n",
    "        images = images.reshape(-1, input_size)\n",
    "\n",
    "        #forward pass \n",
    "        outputs = model(images)\n",
    "        # _, predicted = torch.max(outputs.data, 1)\n",
    "        loss = criterion(outputs, labels)\n",
    "\n",
    "        #backward pass and optimization\n",
    "        optimizer.zero_grad()\n",
    "        loss.backward()\n",
    "        optimizer.step()\n",
    "\n",
    "        #track loss and accuracy \n",
    "        train_loss += loss.item()\n",
    "        _, predicted = torch.max(outputs.data,1)\n",
    "        train_acc += (predicted == labels).sum().item()\n",
    "    train_loss /= len(train_loader.dataset)\n",
    "    train_acc /= len(train_loader.dataset)\n",
    "    train_loss_list.append(train_loss)\n",
    "    train_accuracy_list.append(train_acc)\n",
    "\n",
    "    #evaluate the model\n",
    "    model.eval() #to switch the model to evaluation mode.\n",
    "    test_loss = 0\n",
    "    test_acc = 0\n",
    "    \n",
    "    with torch.no_grad():\n",
    "        correct = 0 \n",
    "        total = 0\n",
    "        for images, labels in test_loader:\n",
    "            images = images.reshape(-1, input_size)\n",
    "            outputs = model(images)\n",
    "            loss = criterion(outputs, labels)\n",
    "            test_loss += loss.item()\n",
    "\n",
    "            _, predicted = torch.max(outputs.data,1)\n",
    "            total += labels.size(0)\n",
    "            correct += (predicted == labels).sum().item()\n",
    "        accuracy = correct / total\n",
    "        test_accuracy_list.append(accuracy)\n",
    "        test_loss_list.append(test_loss)\n",
    "        print(f\"Epoch {epoch + 1}/{num_epochs}, Accuracy: {accuracy:.3f}\")\n",
    "        "
   ]
  },
  {
   "cell_type": "code",
   "execution_count": 269,
   "metadata": {},
   "outputs": [
    {
     "data": {
      "text/plain": [
       "0.7663"
      ]
     },
     "execution_count": 269,
     "metadata": {},
     "output_type": "execute_result"
    }
   ],
   "source": [
    "# num epoch = 25, lr = 0.15, batch_size = 64, accuracy:76.03\n",
    "# num epoch = 25, lr = 0.1, batch_size = 64, accuracy:74.89\n",
    "# num epoch = 20, lr = 0.08, batch_size = 64, accuracy: 66.54\n",
    "# num epoch = 20, lr = 0.15, batch_size = 32, accuracy: \n",
    "# num epoch = 20, lr = 0.1, batch_size = 32, accuracy: \n",
    "# num epoch = 20, lr = 0.07, batch_size = 32, accuracy: 75.57\n",
    "# num epoch = 20, lr = 0.06, batch_size = 32, accuracy:\n",
    "# num epoch = 25, lr = 0.15, batch_size = 32, accuracy: \n",
    "# num epoch = 25, lr = 0.1, batch_size = 32, accuracy: 76.56\n",
    "# num epoch = 25, lr = 0.08, batch_size = 32, accuracy:\n",
    "# num epoch = 25, lr = 0.05, batch_size = 32, accuracy: 75.24\n",
    "# num epoch = 30, lr = 0.1, batch_size = 32, accuracy: \n",
    "# num epoch = 30, lr = 0.08, batch_size = 32, accuracy:\n",
    "accuracy"
   ]
  },
  {
   "cell_type": "code",
   "execution_count": null,
   "metadata": {},
   "outputs": [
    {
     "data": {
      "text/plain": [
       "[0.035975064818064374,\n",
       " 0.03594226524035136,\n",
       " 0.035724158120155336,\n",
       " 0.03424738771915436,\n",
       " 0.03275102691253026,\n",
       " 0.031538014429807665,\n",
       " 0.030382532401879627,\n",
       " 0.029530042469501496,\n",
       " 0.02899958557685216,\n",
       " 0.02864735690156619,\n",
       " 0.02843328335483869,\n",
       " 0.028298077617088954,\n",
       " 0.028208778566122056,\n",
       " 0.028144635021686553,\n",
       " 0.028098802141348522,\n",
       " 0.02786064531604449,\n",
       " 0.027439339631795883,\n",
       " 0.027263890035947164,\n",
       " 0.02713167005777359,\n",
       " 0.027027917712926865,\n",
       " 0.026945104372501374,\n",
       " 0.026878648815552394,\n",
       " 0.02682575561205546,\n",
       " 0.02678235943118731,\n",
       " 0.026746917291482288,\n",
       " 0.026715581719080606,\n",
       " 0.026690109997987748,\n",
       " 0.026667861898740132,\n",
       " 0.026645962872107822,\n",
       " 0.026629097924629846,\n",
       " 0.02661156112353007,\n",
       " 0.026596804817517597,\n",
       " 0.02658342442512512,\n",
       " 0.026570123094320296,\n",
       " 0.026557992778221767,\n",
       " 0.026547027627627055,\n",
       " 0.02653772277235985,\n",
       " 0.026526369243860246,\n",
       " 0.026518923715750375,\n",
       " 0.02650843338370323]"
      ]
     },
     "execution_count": 153,
     "metadata": {},
     "output_type": "execute_result"
    }
   ],
   "source": [
    "train_loss_list"
   ]
  },
  {
   "cell_type": "code",
   "execution_count": 268,
   "metadata": {},
   "outputs": [
    {
     "data": {
      "text/plain": [
       "[2298.132504224777,\n",
       " 2156.7500029802322,\n",
       " 2016.7646565437317,\n",
       " 1906.856592297554,\n",
       " 1881.871465563774,\n",
       " 1800.4207365512848,\n",
       " 1764.9773981571198,\n",
       " 1745.2211837768555,\n",
       " 1731.518764257431,\n",
       " 1724.0949714183807,\n",
       " 1718.960171699524,\n",
       " 1715.5391495227814,\n",
       " 1710.9906214475632,\n",
       " 1708.5879238843918,\n",
       " 1706.649276137352,\n",
       " 1706.5605257749557,\n",
       " 1704.905796289444,\n",
       " 1702.6848728656769,\n",
       " 1701.5835629701614,\n",
       " 1700.5725191831589,\n",
       " 1699.894095301628,\n",
       " 1699.071991801262,\n",
       " 1698.5439966917038,\n",
       " 1698.6547272205353,\n",
       " 1697.1070922613144,\n",
       " 1696.7447975873947,\n",
       " 1695.8076961040497,\n",
       " 1696.357241511345,\n",
       " 1694.9222680330276,\n",
       " 1695.2420545816422]"
      ]
     },
     "execution_count": 268,
     "metadata": {},
     "output_type": "execute_result"
    }
   ],
   "source": [
    "test_loss_list"
   ]
  },
  {
   "cell_type": "code",
   "execution_count": null,
   "metadata": {},
   "outputs": [
    {
     "data": {
      "image/png": "[encoded data removed]",
      "text/plain": [
       "<Figure size 640x480 with 1 Axes>"
      ]
     },
     "metadata": {},
     "output_type": "display_data"
    }
   ],
   "source": [
    "plt.plot(train_accuracy_list, label = \"training accuracy\", color = 'orange')\n",
    "plt.plot(test_accuracy_list, label = \"test accuracy\", color = 'blue')\n",
    "plt.xlabel(\"Epoch\")\n",
    "plt.ylabel(\"Loss\")\n",
    "plt.legend()\n",
    "plt.show()"
   ]
  },
  {
   "attachments": {},
   "cell_type": "markdown",
   "metadata": {},
   "source": [
    "# Weight initialization "
   ]
  },
  {
   "cell_type": "code",
   "execution_count": null,
   "metadata": {},
   "outputs": [],
   "source": [
    "class newNet(nn.Module):\n",
    "    def __init__(self, input_size, hidden_size1, hidden_size2, num_classes):\n",
    "        super(newNet, self).__init__()\n",
    "        self.fc1 = nn.Linear(input_size, hidden_size1)\n",
    "        self.fc2 = nn.Linear(hidden_size1, hidden_size2)\n",
    "        self.fc3 = nn.Linear(hidden_size2, num_classes)\n",
    "\n",
    "        # Initialize weights to zero\n",
    "        nn.init.zeros_(self.fc1.weight)\n",
    "        nn.init.zeros_(self.fc2.weight)\n",
    "        nn.init.zeros_(self.fc3.weight)\n",
    "\n",
    "    def forward(self, x):\n",
    "        x = torch.sigmoid(self.fc1(x))\n",
    "        x = torch.sigmoid(self.fc2(x))\n",
    "        x = F.softmax(self.fc3(x), dim = 1)\n",
    "        return x"
   ]
  },
  {
   "cell_type": "code",
   "execution_count": null,
   "metadata": {},
   "outputs": [
    {
     "name": "stdout",
     "output_type": "stream",
     "text": [
      "Epoch 1/30, Accuracy: 0.114\n",
      "Epoch 2/30, Accuracy: 0.114\n",
      "Epoch 3/30, Accuracy: 0.114\n",
      "Epoch 4/30, Accuracy: 0.114\n",
      "Epoch 5/30, Accuracy: 0.114\n",
      "Epoch 6/30, Accuracy: 0.114\n",
      "Epoch 7/30, Accuracy: 0.114\n",
      "Epoch 8/30, Accuracy: 0.114\n",
      "Epoch 9/30, Accuracy: 0.114\n",
      "Epoch 10/30, Accuracy: 0.114\n",
      "Epoch 11/30, Accuracy: 0.114\n",
      "Epoch 12/30, Accuracy: 0.114\n",
      "Epoch 13/30, Accuracy: 0.114\n",
      "Epoch 14/30, Accuracy: 0.114\n",
      "Epoch 15/30, Accuracy: 0.114\n",
      "Epoch 16/30, Accuracy: 0.114\n",
      "Epoch 17/30, Accuracy: 0.114\n",
      "Epoch 18/30, Accuracy: 0.114\n",
      "Epoch 19/30, Accuracy: 0.114\n",
      "Epoch 20/30, Accuracy: 0.114\n",
      "Epoch 21/30, Accuracy: 0.114\n",
      "Epoch 22/30, Accuracy: 0.114\n",
      "Epoch 23/30, Accuracy: 0.114\n",
      "Epoch 24/30, Accuracy: 0.114\n",
      "Epoch 25/30, Accuracy: 0.114\n",
      "Epoch 26/30, Accuracy: 0.114\n",
      "Epoch 27/30, Accuracy: 0.114\n",
      "Epoch 28/30, Accuracy: 0.114\n",
      "Epoch 29/30, Accuracy: 0.114\n",
      "Epoch 30/30, Accuracy: 0.114\n"
     ]
    }
   ],
   "source": [
    "# initialize the model, loss function, and optimizer\n",
    "model = newNet(input_size= 784, hidden_size1= 300, hidden_size2 = 200, num_classes = 10)\n",
    "criterion = nn.CrossEntropyLoss()\n",
    "optimizer = optim.SGD(model.parameters(), lr = 0.07)\n",
    "\n",
    "# train model\n",
    "total_step = len(train_loader)\n",
    "train_loss_list = []\n",
    "train_accuracy_list = []\n",
    "test_loss_list = []\n",
    "test_accuracy_list = []\n",
    "num_epochs = 30\n",
    "for epoch in range(num_epochs):\n",
    "    train_loss = 0\n",
    "    train_acc = 0\n",
    "    model.train() #sets the model to training mode. \n",
    "    ##new## \n",
    "    correct = 0\n",
    "    total = 0\n",
    "    ####\n",
    "    for i, (images, labels) in enumerate(train_loader):\n",
    "        #flatten the images\n",
    "        images = images.reshape(-1, input_size)\n",
    "\n",
    "        #forward pass \n",
    "        outputs = model(images)\n",
    "        # _, predicted = torch.max(outputs.data, 1)\n",
    "        loss = criterion(outputs, labels)\n",
    "\n",
    "        #backward pass and optimization\n",
    "        optimizer.zero_grad()\n",
    "        loss.backward()\n",
    "        optimizer.step()\n",
    "\n",
    "        #track loss and accuracy \n",
    "        train_loss += loss.item()\n",
    "        _, predicted = torch.max(outputs.data,1)\n",
    "        train_acc += (predicted == labels).sum().item()\n",
    "    train_loss /= len(train_loader.dataset)\n",
    "    train_acc /= len(train_loader.dataset)\n",
    "    train_loss_list.append(train_loss)\n",
    "    train_accuracy_list.append(train_acc)\n",
    "\n",
    "    #evaluate the model\n",
    "    model.eval() #to switch the model to evaluation mode.\n",
    "    test_loss = 0\n",
    "    test_acc = 0\n",
    "    \n",
    "    with torch.no_grad():\n",
    "        correct = 0 \n",
    "        total = 0\n",
    "        for images, labels in test_loader:\n",
    "            images = images.reshape(-1, input_size)\n",
    "            outputs = model(images)\n",
    "            loss = criterion(outputs, labels)\n",
    "            test_loss += loss.item()\n",
    "\n",
    "            _, predicted = torch.max(outputs.data,1)\n",
    "            total += labels.size(0)\n",
    "            correct += (predicted == labels).sum().item()\n",
    "        accuracy = correct / total\n",
    "        test_accuracy_list.append(accuracy)\n",
    "        test_loss_list.append(test_loss)\n",
    "        print(f\"Epoch {epoch + 1}/{num_epochs}, Accuracy: {accuracy:.3f}\")\n",
    "        "
   ]
  },
  {
   "cell_type": "code",
   "execution_count": null,
   "metadata": {},
   "outputs": [],
   "source": [
    "test_loss_list"
   ]
  },
  {
   "cell_type": "code",
   "execution_count": 267,
   "metadata": {},
   "outputs": [
    {
     "data": {
      "image/png": "[encoded data removed]",
      "text/plain": [
       "<Figure size 640x480 with 1 Axes>"
      ]
     },
     "metadata": {},
     "output_type": "display_data"
    }
   ],
   "source": [
    "plt.plot(train_accuracy_list, label = \"training accuracy\", color = 'orange')\n",
    "plt.plot(test_accuracy_list, label = \"test accuracy\", color = 'blue')\n",
    "plt.xlabel(\"epoch\")\n",
    "plt.ylabel(\"Accuracy\")\n",
    "plt.legend()\n",
    "plt.show()"
   ]
  },
  {
   "cell_type": "code",
   "execution_count": null,
   "metadata": {},
   "outputs": [],
   "source": [
    "class RandNet(nn.Module):\n",
    "    def __init__(self, input_size, hidden_size1, hidden_size2, num_classes):\n",
    "        super(RandNet, self).__init__()\n",
    "        self.fc1 = nn.Linear(input_size, hidden_size1)\n",
    "        self.fc2 = nn.Linear(hidden_size1, hidden_size2)\n",
    "        self.fc3 = nn.Linear(hidden_size2, num_classes)\n",
    "\n",
    "        # Initialize weights to zero\n",
    "        nn.init.uniform_(self.fc1.weight, -1, 1)\n",
    "        nn.init.uniform_(self.fc2.weight, -1, 1)\n",
    "        nn.init.uniform_(self.fc3.weight, -1, 1)\n",
    "\n",
    "    def forward(self, x):\n",
    "        x = torch.sigmoid(self.fc1(x))\n",
    "        x = torch.sigmoid(self.fc2(x))\n",
    "        x = F.softmax(self.fc3(x), dim = 1)\n",
    "        return x"
   ]
  },
  {
   "cell_type": "code",
   "execution_count": 236,
   "metadata": {},
   "outputs": [
    {
     "name": "stdout",
     "output_type": "stream",
     "text": [
      "Epoch 1/70, Accuracy: 0.661\n",
      "Epoch 2/70, Accuracy: 0.713\n",
      "Epoch 3/70, Accuracy: 0.728\n",
      "Epoch 4/70, Accuracy: 0.736\n",
      "Epoch 5/70, Accuracy: 0.741\n",
      "Epoch 6/70, Accuracy: 0.803\n",
      "Epoch 7/70, Accuracy: 0.821\n",
      "Epoch 8/70, Accuracy: 0.826\n",
      "Epoch 9/70, Accuracy: 0.831\n",
      "Epoch 10/70, Accuracy: 0.834\n",
      "Epoch 11/70, Accuracy: 0.836\n",
      "Epoch 12/70, Accuracy: 0.839\n",
      "Epoch 13/70, Accuracy: 0.840\n",
      "Epoch 14/70, Accuracy: 0.842\n",
      "Epoch 15/70, Accuracy: 0.844\n",
      "Epoch 16/70, Accuracy: 0.844\n",
      "Epoch 17/70, Accuracy: 0.845\n",
      "Epoch 18/70, Accuracy: 0.846\n",
      "Epoch 19/70, Accuracy: 0.848\n",
      "Epoch 20/70, Accuracy: 0.849\n",
      "Epoch 21/70, Accuracy: 0.849\n",
      "Epoch 22/70, Accuracy: 0.849\n",
      "Epoch 23/70, Accuracy: 0.850\n",
      "Epoch 24/70, Accuracy: 0.851\n",
      "Epoch 25/70, Accuracy: 0.853\n",
      "Epoch 26/70, Accuracy: 0.893\n",
      "Epoch 27/70, Accuracy: 0.924\n",
      "Epoch 28/70, Accuracy: 0.933\n",
      "Epoch 29/70, Accuracy: 0.936\n",
      "Epoch 30/70, Accuracy: 0.938\n",
      "Epoch 31/70, Accuracy: 0.941\n",
      "Epoch 32/70, Accuracy: 0.941\n",
      "Epoch 33/70, Accuracy: 0.943\n",
      "Epoch 34/70, Accuracy: 0.944\n",
      "Epoch 35/70, Accuracy: 0.944\n",
      "Epoch 36/70, Accuracy: 0.945\n",
      "Epoch 37/70, Accuracy: 0.946\n",
      "Epoch 38/70, Accuracy: 0.946\n",
      "Epoch 39/70, Accuracy: 0.946\n",
      "Epoch 40/70, Accuracy: 0.948\n",
      "Epoch 41/70, Accuracy: 0.948\n",
      "Epoch 42/70, Accuracy: 0.948\n",
      "Epoch 43/70, Accuracy: 0.949\n",
      "Epoch 44/70, Accuracy: 0.950\n",
      "Epoch 45/70, Accuracy: 0.949\n",
      "Epoch 46/70, Accuracy: 0.950\n",
      "Epoch 47/70, Accuracy: 0.951\n",
      "Epoch 48/70, Accuracy: 0.951\n",
      "Epoch 49/70, Accuracy: 0.951\n",
      "Epoch 50/70, Accuracy: 0.951\n",
      "Epoch 51/70, Accuracy: 0.951\n",
      "Epoch 52/70, Accuracy: 0.951\n",
      "Epoch 53/70, Accuracy: 0.951\n",
      "Epoch 54/70, Accuracy: 0.952\n",
      "Epoch 55/70, Accuracy: 0.952\n",
      "Epoch 56/70, Accuracy: 0.952\n",
      "Epoch 57/70, Accuracy: 0.953\n",
      "Epoch 58/70, Accuracy: 0.952\n",
      "Epoch 59/70, Accuracy: 0.953\n",
      "Epoch 60/70, Accuracy: 0.953\n",
      "Epoch 61/70, Accuracy: 0.953\n",
      "Epoch 62/70, Accuracy: 0.953\n",
      "Epoch 63/70, Accuracy: 0.953\n",
      "Epoch 64/70, Accuracy: 0.954\n",
      "Epoch 65/70, Accuracy: 0.953\n",
      "Epoch 66/70, Accuracy: 0.955\n",
      "Epoch 67/70, Accuracy: 0.954\n",
      "Epoch 68/70, Accuracy: 0.954\n",
      "Epoch 69/70, Accuracy: 0.955\n",
      "Epoch 70/70, Accuracy: 0.955\n"
     ]
    }
   ],
   "source": [
    "#lr 0.8 num_epoch 50\n",
    "#initialize the model, loss function, and optimizer\n",
    "model = RandNet(input_size= 784, hidden_size1= 300, hidden_size2 = 200, num_classes = 10)\n",
    "criterion = nn.CrossEntropyLoss()\n",
    "optimizer = optim.SGD(model.parameters(), lr = 0.08)\n",
    "\n",
    "#train model\n",
    "total_step = len(train_loader)\n",
    "train_loss_list = []\n",
    "train_accuracy_list = []\n",
    "test_loss_list = []\n",
    "test_accuracy_list = []\n",
    "num_epochs = 70\n",
    "for epoch in range(num_epochs):\n",
    "    train_loss = 0\n",
    "    train_acc = 0\n",
    "    model.train() #sets the model to training mode. \n",
    "    ##new## \n",
    "    correct = 0\n",
    "    total = 0\n",
    "    ####\n",
    "    for i, (images, labels) in enumerate(train_loader):\n",
    "        #flatten the images\n",
    "        images = images.reshape(-1, input_size)\n",
    "\n",
    "        #forward pass \n",
    "        outputs = model(images)\n",
    "        # _, predicted = torch.max(outputs.data, 1)\n",
    "        loss = criterion(outputs, labels)\n",
    "\n",
    "        #backward pass and optimization\n",
    "        optimizer.zero_grad()\n",
    "        loss.backward()\n",
    "        optimizer.step()\n",
    "\n",
    "        #track loss and accuracy \n",
    "        train_loss += loss.item()\n",
    "        _, predicted = torch.max(outputs.data,1)\n",
    "        train_acc += (predicted == labels).sum().item()\n",
    "    train_loss /= len(train_loader.dataset)\n",
    "    train_acc /= len(train_loader.dataset)\n",
    "    train_loss_list.append(train_loss)\n",
    "    train_accuracy_list.append(train_acc)\n",
    "\n",
    "    #evaluate the model\n",
    "    model.eval() #to switch the model to evaluation mode.\n",
    "    test_loss = 0\n",
    "    test_acc = 0\n",
    "    \n",
    "    with torch.no_grad():\n",
    "        correct = 0 \n",
    "        total = 0\n",
    "        for images, labels in test_loader:\n",
    "            images = images.reshape(-1, input_size)\n",
    "            outputs = model(images)\n",
    "            loss = criterion(outputs, labels)\n",
    "            test_loss += loss.item()\n",
    "\n",
    "            _, predicted = torch.max(outputs.data,1)\n",
    "            total += labels.size(0)\n",
    "            correct += (predicted == labels).sum().item()\n",
    "        accuracy = correct / total\n",
    "        test_accuracy_list.append(accuracy)\n",
    "        test_loss_list.append(test_loss)\n",
    "        print(f\"Epoch {epoch + 1}/{num_epochs}, Accuracy: {accuracy:.3f}\")"
   ]
  },
  {
   "cell_type": "code",
   "execution_count": 237,
   "metadata": {},
   "outputs": [
    {
     "data": {
      "text/plain": [
       "[0.43833333333333335,\n",
       " 0.6851666666666667,\n",
       " 0.7153833333333334,\n",
       " 0.7287,\n",
       " 0.73685,\n",
       " 0.7650166666666667,\n",
       " 0.8153166666666667,\n",
       " 0.82585,\n",
       " 0.8317333333333333,\n",
       " 0.83685,\n",
       " 0.8408166666666667,\n",
       " 0.8438666666666667,\n",
       " 0.8463,\n",
       " 0.84815,\n",
       " 0.8504166666666667,\n",
       " 0.8522333333333333,\n",
       " 0.8538,\n",
       " 0.8549833333333333,\n",
       " 0.85635,\n",
       " 0.8577166666666667,\n",
       " 0.8588,\n",
       " 0.8602,\n",
       " 0.86135,\n",
       " 0.8621833333333333,\n",
       " 0.8629333333333333,\n",
       " 0.8680833333333333,\n",
       " 0.9282333333333334,\n",
       " 0.9403166666666667,\n",
       " 0.94555,\n",
       " 0.94895,\n",
       " 0.9510666666666666,\n",
       " 0.9528333333333333,\n",
       " 0.95465,\n",
       " 0.9560833333333333,\n",
       " 0.9574,\n",
       " 0.9583,\n",
       " 0.9593833333333334,\n",
       " 0.96055,\n",
       " 0.9614,\n",
       " 0.9624166666666667,\n",
       " 0.9630166666666666,\n",
       " 0.96405,\n",
       " 0.9644333333333334,\n",
       " 0.965,\n",
       " 0.9655833333333333,\n",
       " 0.9664833333333334,\n",
       " 0.96695,\n",
       " 0.9676166666666667,\n",
       " 0.9681833333333333,\n",
       " 0.9688,\n",
       " 0.969,\n",
       " 0.9695,\n",
       " 0.9698666666666667,\n",
       " 0.9704333333333334,\n",
       " 0.9708333333333333,\n",
       " 0.9711833333333333,\n",
       " 0.97145,\n",
       " 0.9717,\n",
       " 0.9719666666666666,\n",
       " 0.9723666666666667,\n",
       " 0.9724833333333334,\n",
       " 0.9729666666666666,\n",
       " 0.9735166666666667,\n",
       " 0.9736,\n",
       " 0.9739166666666667,\n",
       " 0.9742166666666666,\n",
       " 0.9744666666666667,\n",
       " 0.9747666666666667,\n",
       " 0.9749833333333333,\n",
       " 0.9752166666666666]"
      ]
     },
     "execution_count": 237,
     "metadata": {},
     "output_type": "execute_result"
    }
   ],
   "source": [
    "train_accuracy_list"
   ]
  },
  {
   "cell_type": "code",
   "execution_count": null,
   "metadata": {},
   "outputs": [],
   "source": [
    "test_loss_list"
   ]
  },
  {
   "cell_type": "code",
   "execution_count": 239,
   "metadata": {},
   "outputs": [
    {
     "data": {
      "image/png": "[encoded data removed]",
      "text/plain": [
       "<Figure size 640x480 with 1 Axes>"
      ]
     },
     "metadata": {},
     "output_type": "display_data"
    }
   ],
   "source": [
    "plt.plot(train_accuracy_list, label = \"training accuracy\", color = 'orange')\n",
    "plt.plot(test_accuracy_list, label = \"test accuracy\", color = 'blue')\n",
    "plt.xlabel(\"epoch\")\n",
    "plt.ylabel(\"loss\")\n",
    "plt.title(\"Learning curve\")\n",
    "plt.legend()\n",
    "plt.show()"
   ]
  }
 ],
 "metadata": {
  "kernelspec": {
   "display_name": "Python 3",
   "language": "python",
   "name": "python3"
  },
  "language_info": {
   "codemirror_mode": {
    "name": "ipython",
    "version": 3
   },
   "file_extension": ".py",
   "mimetype": "text/x-python",
   "name": "python",
   "nbconvert_exporter": "python",
   "pygments_lexer": "ipython3",
   "version": "3.9.6"
  },
  "orig_nbformat": 4,
  "vscode": {
   "interpreter": {
    "hash": "81794d4967e6c3204c66dcd87b604927b115b27c00565d3d43f05ba2f3a2cb0d"
   }
  }
 },
 "nbformat": 4,
 "nbformat_minor": 2
}
